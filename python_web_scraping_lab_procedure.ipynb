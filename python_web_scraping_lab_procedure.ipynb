{
  "nbformat": 4,
  "nbformat_minor": 0,
  "metadata": {
    "colab": {
      "provenance": [],
      "toc_visible": true,
      "authorship_tag": "ABX9TyPJ9FIyfr8c7Nu632pP+5Mv",
      "include_colab_link": true
    },
    "kernelspec": {
      "name": "python3",
      "display_name": "Python 3"
    },
    "language_info": {
      "name": "python"
    }
  },
  "cells": [
    {
      "cell_type": "markdown",
      "metadata": {
        "id": "view-in-github",
        "colab_type": "text"
      },
      "source": [
        "<a href=\"https://colab.research.google.com/github/kwaldenphd/web-scraping-python/blob/main/python_web_scraping_lab_procedure.ipynb\" target=\"_parent\"><img src=\"https://colab.research.google.com/assets/colab-badge.svg\" alt=\"Open In Colab\"/></a>"
      ]
    },
    {
      "cell_type": "markdown",
      "source": [
        "# Web Scraping in Python\n",
        "\n",
        "<a href=\"http://creativecommons.org/licenses/by-nc/4.0/\" rel=\"license\"><img style=\"border-width: 0;\" src=\"https://i.creativecommons.org/l/by-nc/4.0/88x31.png\" alt=\"Creative Commons License\" /></a>\n",
        "This tutorial is licensed under a <a href=\"http://creativecommons.org/licenses/by-nc/4.0/\" rel=\"license\">Creative Commons Attribution-NonCommercial 4.0 International License</a>.\n"
      ],
      "metadata": {
        "id": "yDjc5aVCKc7E"
      }
    },
    {
      "cell_type": "markdown",
      "source": [
        "## Lab Overview\n",
        "\n",
        "This lab provides an introduction and overview to parsing HTML in Python using `beautifulsoup` and `pandas`.\n",
        "\n",
        "<table>\n",
        " <tr><td>\n",
        "<img src=\"https://elearn.southampton.ac.uk/wp-content/blogs.dir/sites/64/2021/04/PanPan.png\" alt=\"Panopto logo\" width=\"50\"/></td>\n",
        "  <td><a href=\"https://notredame.hosted.panopto.com/Panopto/Pages/Viewer.aspx?id=a11358d5-c0a6-4bf1-a405-af36017212dc\">Lab overview</a></td>\n",
        "  </tr>\n",
        "  </table>\n",
        "  \n",
        "<table>\n",
        " <tr><td>\n",
        "<img src=\"https://elearn.southampton.ac.uk/wp-content/blogs.dir/sites/64/2021/04/PanPan.png\" alt=\"Panopto logo\" width=\"50\"/></td>\n",
        "<td><a href=\"https://notredame.hosted.panopto.com/Panopto/Pages/Viewer.aspx?pid=05f99aec-b0ee-4816-b1e8-af3601753e5b\">Lecture/live coding playlist</a></td>\n",
        "  </tr>\n",
        "  </table>"
      ],
      "metadata": {
        "id": "f9U2qK15Kd1w"
      }
    },
    {
      "cell_type": "markdown",
      "source": [
        "## Acknowledgements\n",
        "\n",
        "The author consulted the following materials when building this lab:\n",
        "- Lisa Tagliaferri, \"How to Scrape Web Pages With Beautiful Soup and Python 3\" *Digital Ocean* (20 March 2019). https://www.digitalocean.com/community/tutorials/how-to-scrape-web-pages-with-beautiful-soup-and-python-3\n",
        "- Jeri Wieringa, \"Intro to Beautiful Soup,\" *The Programming Historian* 1 (2012), https://doi.org/10.46430/phen0008.\n",
        "- Martin Breuss, \"Beautiful Soup: Build a Web Scraper With Python\" *Real Python*. https://realpython.com/beautiful-soup-web-scraper-python/\n",
        "- DataQuest, \"Tutorial: Web Scraping With Python Using Beautiful Soup\" *DataQuest* (2 September 2020). https://www.dataquest.io/blog/web-scraping-tutorial-python/\n",
        "\n",
        "The introductory sections of this lab are based on and adapted from:\n",
        "- Lisa Tagliaferri, \"How to Scrape Web Pages With Beautiful Soup and Python 3\" *Digital Ocean* (20 March 2019). https://www.digitalocean.com/community/tutorials/how-to-scrape-web-pages-with-beautiful-soup-and-python-3"
      ],
      "metadata": {
        "id": "8Dk3Ra7ZKe3C"
      }
    },
    {
      "cell_type": "markdown",
      "source": [
        "## Lecture & Live Coding\n",
        "\n",
        "Throughout this lab, you will see a Panopto icon at the start of select sections.\n",
        "\n",
        "This icon indicates there is lecture/live coding asynchronous content that accompanies this section of the lab. \n",
        "\n",
        "You can click the link in the figure caption to access these materials (ND users only).\n",
        "\n",
        "Example:\n",
        "\n",
        "<table>\n",
        " <tr><td>\n",
        "<img src=\"https://elearn.southampton.ac.uk/wp-content/blogs.dir/sites/64/2021/04/PanPan.png\" alt=\"Panopto logo\" width=\"50\"/></td>\n",
        "  <td><a href=\"https://notredame.hosted.panopto.com/Panopto/Pages/Viewer.aspx?id=a11358d5-c0a6-4bf1-a405-af36017212dc\">Lab overview</a></td>\n",
        "  </tr>\n",
        "  </table>\n",
        "  \n",
        "<table>\n",
        " <tr><td>\n",
        "<img src=\"https://elearn.southampton.ac.uk/wp-content/blogs.dir/sites/64/2021/04/PanPan.png\" alt=\"Panopto logo\" width=\"50\"/></td>\n",
        "<td><a href=\"https://notredame.hosted.panopto.com/Panopto/Pages/Viewer.aspx?pid=05f99aec-b0ee-4816-b1e8-af3601753e5b\">Lecture/live coding playlist</a></td>\n",
        "  </tr>\n",
        "  </table>\n"
      ],
      "metadata": {
        "id": "wOszt-ToKgJE"
      }
    },
    {
      "cell_type": "markdown",
      "source": [
        "## Lab Notebook Template\n",
        "\n",
        "[Click here](https://colab.research.google.com/drive/1-2ahHpMdSzYFSVLnZGfldEoAuyRs5wj7?usp=sharing) to access the lab notebook template as a Jupyter Notebook (Google Colab, ND Users)."
      ],
      "metadata": {
        "id": "1Q3eaxz3Kh4N"
      }
    },
    {
      "cell_type": "markdown",
      "source": [
        "# Beautiful Soup Overview\n",
        "\n",
        "<table>\n",
        " <tr><td>\n",
        "<img src=\"https://elearn.southampton.ac.uk/wp-content/blogs.dir/sites/64/2021/04/PanPan.png\" alt=\"Panopto logo\" width=\"50\"/></td>\n",
        "  <td><a href=\"https://notredame.hosted.panopto.com/Panopto/Pages/Viewer.aspx?id=7d13378f-8395-40b1-89d0-af3601723136\">Getting Started With Beautiful Soup</a></td>\n",
        "  </tr>\n",
        "  </table>"
      ],
      "metadata": {
        "id": "goiEA5JaKjf9"
      }
    },
    {
      "cell_type": "markdown",
      "source": [
        "## Introduction to Beautiful Soup\n",
        "\n",
        "What is Beautiful Soup? \"Beautiful Soup is a Python library for pulling data out of HTML and XML files. It works with your favorite parser to provide idiomatic ways of navigating, searching, and modifying the parse tree. It commonly saves programmers hours or days of work\" ([Beautiful Soup Documentation](https://www.crummy.com/software/BeautifulSoup/bs4/doc/)) The library name is an allusion to the song Lewis Carroll character the Mock Turtle sings in Chapter 10 of *Alice's Adventures in Wonderland*.\n",
        "\n",
        "`Beautiful Soup` uses the structure of markup language documents (i.e. HTML, XML, etc) to extract information we can work with in a Python programming environment. In this lab, we will be focusing on using `Beautiful Soup` to parse and scrape web pages built using HTML and CSS."
      ],
      "metadata": {
        "id": "U0mq0tj7KkqO"
      }
    },
    {
      "cell_type": "markdown",
      "source": [
        "## Installing Beautiful Soup\n",
        "\n",
        "We'll need to install a couple of libraries to be able to parse HTML with `BeautifulSoup`\n",
        "- `BeautifulSoup`: `pip install beautifulsoup4`\n",
        "- `lxml`: `pip install lxml`"
      ],
      "metadata": {
        "id": "K6Ea-Hy0Km6T"
      }
    },
    {
      "cell_type": "markdown",
      "source": [
        "## Loading URLs in Python\n",
        "\n",
        "We will be using the `requests` library to load URLs in Python. This library is already built into Python and does not require additional installation. Core syntax for using the `requests` library to load a URL:"
      ],
      "metadata": {
        "id": "7Ccap8fUKoSs"
      }
    },
    {
      "cell_type": "code",
      "source": [
        "# import requests\n",
        "import requests\n",
        "\n",
        "# load url using get requests.get() method\n",
        "page = requests.get('URL GOES HERE')"
      ],
      "metadata": {
        "id": "cX5cML-9Ko_c"
      },
      "execution_count": null,
      "outputs": []
    },
    {
      "cell_type": "markdown",
      "source": [
        "## Creating a Beautiful Soup Object\n",
        "\n",
        "Once we have a URL loaded in Python, we want to be able to use `BeautifulSoup` to parse the web page's HTML components. We can do that by creating a BeautifulSoup object. Core syntax:"
      ],
      "metadata": {
        "id": "k1LT75AhKp_W"
      }
    },
    {
      "cell_type": "code",
      "source": [
        "# import beautifulsoup\n",
        "from bs4 import BeautifulSoup\n",
        "\n",
        "# create beautifulsoup object\n",
        "soup = BeautifulSoup(page.text, 'html.parser')"
      ],
      "metadata": {
        "id": "wIygKkWRKrB_"
      },
      "execution_count": null,
      "outputs": []
    },
    {
      "cell_type": "markdown",
      "source": [
        "Putting that all together, the core syntax for loading a URL and creating a BeautifulSoup object:"
      ],
      "metadata": {
        "id": "obYx3XIaKtC8"
      }
    },
    {
      "cell_type": "code",
      "source": [
        "# import requests\n",
        "import requests\n",
        "\n",
        "# import beautifulsoup\n",
        "from bs4 import BeautifulSoup\n",
        "\n",
        "# load url using get requests.get() method\n",
        "page = requests.get('URL GOES HERE')\n",
        "\n",
        "# create beautiful soup object\n",
        "soup = BeautifulSoup(page.text, 'html.parser')"
      ],
      "metadata": {
        "id": "LUT6ZBMHKtyQ"
      },
      "execution_count": null,
      "outputs": []
    },
    {
      "cell_type": "markdown",
      "source": [
        "Now, we are ready to parse the web page's HTML using `BeautifulSoup`.\n",
        "\n",
        "# Beautiful Soup & Structured Data"
      ],
      "metadata": {
        "id": "iOX1IO8aKvCM"
      }
    },
    {
      "cell_type": "markdown",
      "source": [
        "## Concept Refresh\n",
        "\n",
        "\n",
        "<table>\n",
        " <tr><td>\n",
        "<img src=\"https://elearn.southampton.ac.uk/wp-content/blogs.dir/sites/64/2021/04/PanPan.png\" alt=\"Panopto logo\" width=\"50\"/></td>\n",
        "  <td><a href=\"https://notredame.hosted.panopto.com/Panopto/Pages/Viewer.aspx?id=a0385ece-2d22-4fd7-84a3-af36017254d6\">HTML & File Methods Refresh</a></td>\n",
        "  </tr>\n",
        "  </table>"
      ],
      "metadata": {
        "id": "xOUw0KkNKxKD"
      }
    },
    {
      "cell_type": "markdown",
      "source": [
        "### HTML Tables\n",
        " \n",
        "When using `BeautifulSoup`, we can isolate information on the webpage through interacting with the HTML syntax. HTML uses a few core tags for web pages that include tables.\n",
        "- `table` (marks the start and end of a table\n",
        "- `tbody` (marks the start and end of the table body)\n",
        "- `tr` (marks the start and end of each table row)\n",
        "- `th` (marks the start and end of each column in the first row of the table)\n",
        "- `td` (marks the start and end of each column after the first row of the table)\n",
        "\n",
        "How we might see those tags combined in a table structure:\n",
        "\n",
        "```HTML\n",
        "<table>\n",
        " <tr>\n",
        "  <th>First Column Header</th>\n",
        "  <th>Second Column Header</th>\n",
        "  <th>Third Column Header</th>\n",
        " </tr>\n",
        " <tr>\n",
        "  <td>Data in first column/first row</td>\n",
        "  <td>Data in second column/first row</td>\n",
        "  <td>Data in third column/first row</td>\n",
        " </tr>\n",
        " <tr>\n",
        "  <td>Data in first column/second row</td>\n",
        "  <td>Data in second column/second row</td>\n",
        "  <td>Data in third column/second row</td>\n",
        " </tr>\n",
        "</table>\n",
        "```\n",
        "\n",
        "The output of that HTML would look like:\n",
        "\n",
        "<table>\n",
        " <tr>\n",
        "  <th>First Column Header</th>\n",
        "  <th>Second Column Header</th>\n",
        "  <th>Third Column Header</th>\n",
        " </tr>\n",
        " <tr>\n",
        "  <td>Data in first column/first row</td>\n",
        "  <td>Data in second column/first row</td>\n",
        "  <td>Data in third column/first row</td>\n",
        " </tr>\n",
        " <tr>\n",
        "  <td>Data in first column/second row</td>\n",
        "  <td>Data in second column/second row</td>\n",
        "  <td>Data in third column/second row</td>\n",
        " </tr>\n",
        "</table>\n",
        "\n",
        "Additional attributes like `align`, `style`, etc. can be used with many of these tags. Some other tags that we might encounter when trying to parse HTML using `BeautifulSoup`:\n",
        "\n",
        "<table>\n",
        "    <tr>\n",
        "        <td>Name</td>\n",
        "        <td>Syntax</td>\n",
        "        <td>Description</td>\n",
        "    </tr>\n",
        "    <tr>\n",
        "        <td>Heading</td>\n",
        "        <td><code>h1, h2, h3, etc</code></td>\n",
        "            <td>HTML headings</td>\n",
        "            </tr>\n",
        "            <tr>\n",
        "                <td>Division</td>\n",
        "                <td><code>div</code></td>\n",
        "                <td>Defines sections or divisions in an HTML document</td>\n",
        "            </tr>\n",
        "            <tr>\n",
        "                <td>Paragraph</td>\n",
        "                <td><code>p</code></td>\n",
        "                <td>Defines paragraphs in an HTML document</td>\n",
        "            </tr>\n",
        "            <tr>\n",
        "                <td>Span</td>\n",
        "                <td><code>span</code></td>\n",
        "                <td>Defines a section in an HTML document</td>\n",
        "            </tr>\n",
        "            <tr>\n",
        "                <td>Unordered list</td>\n",
        "                <td><code>ul</code></td>\n",
        "                <td>Defines the start of an unordered list (followed by <code>li</code> tags)</td>\n",
        "            </tr>\n",
        "            <tr>\n",
        "                <td>Hyperlink</td>\n",
        "                <td><code>a</code></td>\n",
        "                    <td>Defines a hyperlink in an HTML document (followed by <code>href = \"URL\"</code>)</td>\n",
        "            </tr>\n",
        "            </table>\n",
        "\n",
        "\n",
        "For more detail on HTML and CSS:\n",
        "- [W3Schools HTML Tutorial](https://www.w3schools.com/html)\n",
        "- [W3Schools CSS Tutorial](https://www.w3schools.com/css)\n",
        "- [EoC HTML/CSS Lab](https://github.com/kwaldenphd/HTML-CSS/tree/EoC1-F20)"
      ],
      "metadata": {
        "id": "PgMlVKtAKzHA"
      }
    },
    {
      "cell_type": "markdown",
      "source": [
        "### File I/O\n",
        "\n",
        "As part of our work in this lab, we'll be saving the content we have scraped from a web page to a plain-text file (either `.txt` or `.csv`). A quick review of how Python handles creating, reading, and writing files, specifically focusing on...\n",
        "- `open()`\n",
        "- `write()`"
      ],
      "metadata": {
        "id": "Thy9C9-gK0SE"
      }
    },
    {
      "cell_type": "markdown",
      "source": [
        "#### `open()`\n",
        "\n",
        "The `open()` function lets us open an existing file or create a new file in Python. For either version of `open()` (new file or existing file), we need to specify the file name (with the file type extension) and access mode.\n"
      ],
      "metadata": {
        "id": "nQ0ylDCxK1va"
      }
    },
    {
      "cell_type": "code",
      "source": [
        " # creates new txt file with write permission\n",
        " f = open(\"new_file.txt\", \"w\")"
      ],
      "metadata": {
        "id": "_iUYjMsDK2jr"
      },
      "execution_count": null,
      "outputs": []
    },
    {
      "cell_type": "code",
      "source": [
        " # creates new CSV file with write privileges\n",
        " f = open(\"new_file.csv\", \"w\")"
      ],
      "metadata": {
        "id": "fysGZ9RCK3TT"
      },
      "execution_count": null,
      "outputs": []
    },
    {
      "cell_type": "markdown",
      "source": [
        "[Click here](https://github.com/kwaldenphd/python-structured-data#file-io--access-modes) To review file I/O and access modes in Python.\n",
        " \n",
        "#### `write()`\n",
        "\n",
        "Once we have a newly-created file in Python, we can use the `write()` function to ***write*** content to that file."
      ],
      "metadata": {
        "id": "IhRTv5IAK4TU"
      }
    },
    {
      "cell_type": "code",
      "source": [
        "# creates new txt file with write permission\n",
        "f = open(\"new_file.txt\", \"w\")\n",
        "\n",
        "# writes string to new file\n",
        "f.write(\"Hello world!\")\n",
        "\n",
        "# closes file\n",
        "f.close()"
      ],
      "metadata": {
        "id": "zoUMsHLWK5BK"
      },
      "execution_count": null,
      "outputs": []
    },
    {
      "cell_type": "markdown",
      "source": [
        "Another example where we have assigned a string to a variable and write the variable to the `.txt` file:"
      ],
      "metadata": {
        "id": "0HBGTeQtK6Bw"
      }
    },
    {
      "cell_type": "code",
      "source": [
        "# creates new txt file with write permission\n",
        "f = open(\"new_file.txt\", \"w\")\n",
        "\n",
        "# assigns string to variable\n",
        "hello_world = \"Hello world!\"\n",
        "\n",
        "# writes string variable to new file\n",
        "f.write(hello_world)\n",
        "\n",
        "# closes file\n",
        "f.close()"
      ],
      "metadata": {
        "id": "I1N6BVf8K633"
      },
      "execution_count": null,
      "outputs": []
    },
    {
      "cell_type": "markdown",
      "source": [
        "#### `open()`, `write()`, and `.csv` files\n",
        "\n",
        "A quick review:\n",
        "- `CSV` stands for comma-separated values.\n",
        "- `CSV` files are the plain-text, machine-readable file type for tabular data (table data, or data in a spreadsheet structure)\n",
        "\n",
        "An overview of the workflow for creating a CSV file using the `csv` module:\n",
        "- Create a file using the `open()` function\n",
        "- Create the `writer` object using the `writer()` function.\n",
        "- Use the `.writerow()` method to write individual lists as rows\n",
        "\n",
        "Putting that all together:"
      ],
      "metadata": {
        "id": "brlZji3fK71g"
      }
    },
    {
      "cell_type": "code",
      "source": [
        "# create new CSV file with write privileges\n",
        "f = open(\"new_file.csv\", \"w\")\n",
        " \n",
        "# create writer object\n",
        "outputWriter = csv.writer(f)\n",
        "\n",
        "# write first row\n",
        "outputWriter.writerow(['Parameter', 'Name', 'Description')]\n",
        "\n",
        "# write second row\n",
        "outputWriter.writerow(['t', 'Text', 'Treats file as text data; also the default value'])\n",
        "\n",
        "# write third row\n",
        "outputWriter.writerow(['b', 'Binary', 'Treats the file as binary data')]\n",
        "\n",
        "# close file\n",
        "f.close()"
      ],
      "metadata": {
        "id": "xzlah8jzK86S"
      },
      "execution_count": null,
      "outputs": []
    },
    {
      "cell_type": "markdown",
      "source": [
        "## Using BeautifulSoup With a Single Web Page\n",
        "\n",
        "<table>\n",
        " <tr><td>\n",
        "<img src=\"https://elearn.southampton.ac.uk/wp-content/blogs.dir/sites/64/2021/04/PanPan.png\" alt=\"Panopto logo\" width=\"50\"/></td>\n",
        "  <td><a href=\"https://notredame.hosted.panopto.com/Panopto/Pages/Viewer.aspx?id=3ee96582-1e15-40e2-b31d-af3601727e35\">BeautifulSoup and a Single Web page</a></td>\n",
        "  </tr>\n",
        "  </table>\n",
        "\n",
        "Now, we're going to see HTML syntax and file methods at work to develop a web scraping program that takes tabular data on a web page and writes it to a `CSV` file. "
      ],
      "metadata": {
        "id": "L4huWDdyK-uy"
      }
    },
    {
      "cell_type": "markdown",
      "source": [
        "### Finding a Table\n",
        "\n",
        "Head to https://en.wikipedia.org/wiki/All-time_Olympic_Games_medal_table in a web browser. There are a nubmer of tables on this page, but we're going to focus on the `Unranked medal table (sortable)` section of the page.\n",
        "\n",
        "<p align=\"center\"><img src=\"https://github.com/kwaldenphd/web-scraping-python/blob/main/images/fig1.jpg?raw=true\"></p>\n",
        "\n",
        "Take a look at this table on the public web page, thinking about the rows, columns, and data values we might want to map onto a tabular (table, spreadsheet) data structure.\n",
        "\n",
        "<p align=\"center\"><img src=\"https://github.com/kwaldenphd/web-scraping-python/blob/main/images/fig2.jpg?raw=true\"></p>\n",
        "\n",
        "Then, right click on the page (`Control-click` on a Mac) and select the `View Page Source` option.\n",
        "- The specific label for this option may differ across browsers and operating systems.\n",
        "\n",
        "<p align=\"center\"><img src=\"https://github.com/kwaldenphd/web-scraping-python/blob/main/images/fig3.jpg?raw=true\"></p>\n",
        "\n",
        "There's a lot going on here- we're looking at the back-end HTML for the Wikipedia page with the table we want to work with. But we want to figure out what HTML elements are adjacent to the section of the page we want to isolate. Scrolling through the HTML until you see things that look promising is one place to start. You can also type `Control-F` (`Command-F` on a Mac) to search for particular words/phrases in the HTML. We know one of the country names in the table is `Afghanistan`, so let's search the HTML to see where that term appears.\n",
        "\n",
        "```HTML\n",
        "<th style=\"width:2em;\">\n",
        "<p><span title=\"Combined total number of all Medals won by each country\" class=\"rt-commentedText\" style=\"border-bottom:1px dotted\">Total</span>\n",
        "</p>\n",
        "</th></tr>\n",
        "<tr>\n",
        "<td align=\"left\"><span id=\"AFG\"><img alt=\"\" src=\"//upload.wikimedia.org/wikipedia/commons/thumb/c/cd/Flag_of_Afghanistan_%282013%E2%80%932021%29.svg/22px-Flag_of_Afghanistan_%282013%E2%80%932021%29.svg.png\" decoding=\"async\" width=\"22\" height=\"15\" class=\"thumbborder\" srcset=\"//upload.wikimedia.org/wikipedia/commons/thumb/c/cd/Flag_of_Afghanistan_%282013%E2%80%932021%29.svg/33px-Flag_of_Afghanistan_%282013%E2%80%932021%29.svg.png 1.5x, //upload.wikimedia.org/wikipedia/commons/thumb/c/cd/Flag_of_Afghanistan_%282013%E2%80%932021%29.svg/44px-Flag_of_Afghanistan_%282013%E2%80%932021%29.svg.png 2x\" data-file-width=\"900\" data-file-height=\"600\" />&#160;<a href=\"/wiki/Afghanistan_at_the_Olympics\" title=\"Afghanistan at the Olympics\">Afghanistan</a>&#160;<span style=\"font-size:90%;\">(AFG)</span></span>\n",
        "</td>\n",
        "<td style=\"background:#f2f2ce;\">15</td>\n",
        "<td style=\"background:#f2f2ce;\">0</td>\n",
        "<td style=\"background:#f2f2ce;\">0</td>\n",
        "<td style=\"background:#f2f2ce;\">2</td>\n",
        "<td style=\"background:#f2f2ce;\">2\n",
        "</td>\n",
        "<td style=\"background:#cedff2;\">0</td>\n",
        "<td style=\"background:#cedff2;\">0</td>\n",
        "<td style=\"background:#cedff2;\">0</td>\n",
        "<td style=\"background:#cedff2;\">0</td>\n",
        "<td style=\"background:#cedff2;\">0\n",
        "</td>\n",
        "<td>15</td>\n",
        "<td>0</td>\n",
        "<td>0</td>\n",
        "<td>2</td>\n",
        "<td>2\n",
        "</td></tr>\n",
        "<tr>\n",
        "```\n",
        "\n",
        "Again, there's still a lot going on, but we can see the table row `<tr>` tag around a section of HTML that includes multiple `<td>` tags with information about the country name (`Afghanistan`) and number values that correspond to the medal counts from that row in the table. Now, we need to figure out where this table \"starts,\" or what HTML elements mark the beginning/end of the table. If we scroll up from the `Afghanistan` search results, we can see the section of HTML that marks the start of this table.\n",
        "\n",
        "```HTML\n",
        "<h2><span id=\"Unranked_medal_table_.28sortable.29\"></span><span class=\"mw-headline\" id=\"Unranked_medal_table_(sortable)\">Unranked medal table (sortable)</span><span class=\"mw-editsection\"><span class=\"mw-editsection-bracket\">[</span><a href=\"/w/index.php?title=All-time_Olympic_Games_medal_table&amp;action=edit&amp;section=1\" title=\"Edit section: Unranked medal table (sortable)\">edit</a><span class=\"mw-editsection-bracket\">]</span></span></h2>\n",
        "<p>The table is pre-sorted by the name of each Olympic Committee, but can be displayed as sorted by any other column, such as the total number of <a href=\"/wiki/Gold_medal\" title=\"Gold medal\">gold medals</a> or total number of overall medals. To sort by gold, silver, and then bronze, sort first by the bronze column, then the silver, and then the gold. The table does not include revoked medals (e.g., due to <a href=\"/wiki/Doping_in_sport\" title=\"Doping in sport\">doping</a>).\n",
        "</p><p>Medal totals in this table are current through the <a href=\"/wiki/2020_Summer_Olympics\" title=\"2020 Summer Olympics\">2020 Summer Olympics</a> in <a href=\"/wiki/Tokyo\" title=\"Tokyo\">Tokyo</a>, Japan, and all <a href=\"/wiki/List_of_stripped_Olympic_medals\" title=\"List of stripped Olympic medals\">changes in medal standings</a> due to doping cases and medal redistributions up to 8 August 2021 are taken into account.\n",
        "</p>\n",
        "<style data-mw-deduplicate=\"TemplateStyles:r981673959\">.mw-parser-output .legend{page-break-inside:avoid;break-inside:avoid-column}.mw-parser-output .legend-color{display:inline-block;min-width:1.25em;height:1.25em;line-height:1.25;margin:1px 0;text-align:center;border:1px solid black;background-color:transparent;color:black}.mw-parser-output .legend-text{}</style><div class=\"legend\"><span class=\"legend-color\" style=\"background-color:lightblue; color:black;\">&#160;</span>&#160;Special delegation, not an actual nation</div> \n",
        "<table class=\"wikitable sortable\" style=\"margin-top:0; text-align:center; font-size:90%;\">\n",
        "\n",
        "<tbody><tr>\n",
        "<th>Team\n",
        "</th>\n",
        "<th align=\"center\" style=\"background-color:#f2f2ce;\" colspan=\"5\"><a href=\"/wiki/Summer_Olympic_Games\" title=\"Summer Olympic Games\">Summer Olympic Games</a>\n",
        "</th>\n",
        "<th align=\"center\" style=\"background-color:#cedff2;\" colspan=\"5\"><a href=\"/wiki/Winter_Olympic_Games\" title=\"Winter Olympic Games\">Winter Olympic Games</a>\n",
        "</th>\n",
        "<th align=\"center\" colspan=\"5\"><a href=\"/wiki/Olympic_Games\" title=\"Olympic Games\">Combined total</a>\n",
        "</th></tr>\n",
        "<tr>\n",
        "<th><span title=\"International Olympic Committee country code\" class=\"rt-commentedText\" style=\"border-bottom:1px dotted\">Team (IOC&#160;code)</span>\n",
        "</th>\n",
        "```\n",
        "\n",
        "Since we're looking for a table, identifying a `<table>` tag is a good place to start. We can see the line `<table class=\"wikitable sortable\" style=\"margin-top:0; text-align:center; font-size:90%;\">` marks the start of the medal count table. This gives us the critical pieces of information we need when working in Python with `BeautifulSoup` to isolate this section of HTML.\n",
        " "
      ],
      "metadata": {
        "id": "ymvdPTLsLAwH"
      }
    },
    {
      "cell_type": "markdown",
      "source": [
        "### Load URL & Create BeautifulSoup Object\n",
        "\n",
        "The first step in our program is to import the libraries we'll need, load the web page using `requests` and create the `BeautifulSoup` object."
      ],
      "metadata": {
        "id": "dm-5QdQ2LC-r"
      }
    },
    {
      "cell_type": "code",
      "source": [
        "# import statements\n",
        "import requests\n",
        "from bs4 import BeautifulSoup\n",
        "import csv\n",
        "import pandas as pd\n",
        "\n",
        "# get page\n",
        "page = requests.get(\"https://en.wikipedia.org/wiki/All-time_Olympic_Games_medal_table\")\n",
        "\n",
        "# create BeautifulSoup object\n",
        "soup = BeautifulSoup(page.text, 'html.parser')\n",
        "\n",
        "# show BeautifulSoup object\n",
        "soup"
      ],
      "metadata": {
        "id": "8NITPJmqLEG6"
      },
      "execution_count": null,
      "outputs": []
    },
    {
      "cell_type": "markdown",
      "source": [
        "At this point we have loaded the web page into Python as a `BeautifulSoup` object.\n",
        "\n",
        "### Extract Medal Table\n",
        "\n",
        "The next step is to use `BeautifulSoup` to identify and isolate the section of the web page we want to focus on. We can do this using the `.find()` or `.find_all()` with our `BeautifulSoup` object.\n",
        "- `.find()` isolates a single instance of an HTML class or tag\n",
        "- `.find_all()` creates a list-like object with each instance of a specific tag or class\n"
      ],
      "metadata": {
        "id": "tfC6BHn-LHlP"
      }
    },
    {
      "cell_type": "code",
      "source": [
        "# basic syntax for find\n",
        "# soup.find(\"HTML TAG  GOES HERE\")\n",
        "\n",
        "# a specific example with the p tag\n",
        "soup.find(\"p\")"
      ],
      "metadata": {
        "id": "6oHz6W40LIiV"
      },
      "execution_count": null,
      "outputs": []
    },
    {
      "cell_type": "code",
      "source": [
        "# basic syntax for find_all, this time using a class instead of a tag\n",
        "# soup.find_all(class_ = \"CLASS NAME GOES HERE\")\n",
        "\n",
        "# a specific example using the wikitable sortable class\n",
        "soup.find_all(class_ = 'wikitable sortable')"
      ],
      "metadata": {
        "id": "vf4NRq0ZLJ3F"
      },
      "execution_count": null,
      "outputs": []
    },
    {
      "cell_type": "markdown",
      "source": [
        "Again, we know the line of HTML `<table class=\"wikitable sortable\" style=\"margin-top:0; text-align:center; font-size:90%;\">` marks the start of the medal count table. But we don't know how many instances of the `<table>` tag or `wikitable sortable` class appear in this web page. Some more work with `Command-F`/`Control-F` shows us there are 30 instances of the `<table>` tag and 9 instances of the `wikitable sortable` class in this page. So let's use `.find_all()` with the `wikitable sortable` class and then figure out which of those 9 instances is the table we want to work with."
      ],
      "metadata": {
        "id": "ziKZUSsALMIy"
      }
    },
    {
      "cell_type": "code",
      "source": [
        "# isolate all HTML with wikitable sortable class\n",
        "tables = soup.find_all(class_ = 'wikitable sortable')"
      ],
      "metadata": {
        "id": "zVjSj_waLM5y"
      },
      "execution_count": null,
      "outputs": []
    },
    {
      "cell_type": "markdown",
      "source": [
        "Then, we can use index operators to go through the items in `tables` to see which one has the HTML we want to work with."
      ],
      "metadata": {
        "id": "x68pLPG-LNm7"
      }
    },
    {
      "cell_type": "code",
      "source": [
        "# show first table in tables\n",
        "tables[0]"
      ],
      "metadata": {
        "id": "FK9QnJu-LOMC"
      },
      "execution_count": null,
      "outputs": []
    },
    {
      "cell_type": "markdown",
      "source": [
        "The first table in the list is the medal count, so we can assign that to a variable."
      ],
      "metadata": {
        "id": "yLmf2lmmLO1A"
      }
    },
    {
      "cell_type": "code",
      "source": [
        "# isolate first table in tables\n",
        "table = tables[0]"
      ],
      "metadata": {
        "id": "p5tv1MRqLPh2"
      },
      "execution_count": null,
      "outputs": []
    },
    {
      "cell_type": "markdown",
      "source": [
        "Now that we have just the HTML for the table we want to work with, we want to create a list-like object for each row in the table. So, we can use `.find()` or `.find_all()` again to create a list-like object with all elements that match a particular class or tag. In this case, we want the HTML for each row in the table to be a value or element in the list, so we're going to be looking for the table row `<tr>` tag. And since this table has multiple rows, we're going to use `.find_all(\"tr\")` to find all instances of the `<tr>` tag and map those onto a list-like structure."
      ],
      "metadata": {
        "id": "DnNW7IqmLQYv"
      }
    },
    {
      "cell_type": "code",
      "source": [
        "# get all table rows from medal_table\n",
        "rows = table.find_all(\"tr\")\n",
        "\n",
        "# show table rows\n",
        "rows"
      ],
      "metadata": {
        "id": "OBJHaIuXLRXx"
      },
      "execution_count": null,
      "outputs": []
    },
    {
      "cell_type": "markdown",
      "source": [
        "### Testing On Single Table Row (Single Country)\n",
        "\n",
        "So now we have the HTML for each row in the table as a list value in our `medal_test` list. To recap:\n",
        "- Load url using `requests.get()` \n",
        "- Creat `BeautifulSoup` object using `BeautifulSoup()\n",
        "- Isolate section of page with table using `.find_all()` (with `wikitable sortable` class) and index values\n",
        "- Create list of rows using `.find_all()` (with `tr` tag)\n",
        "\n",
        "We'll eventually want to figure out how to iterate over all the rows in the table, but for now, let's isolate a single row so we can test our program on a single row. Since the first two rows in the the table have column header information and do not match the structure/format of the country rows, we'll use the third row (first country row) for our single-row testing."
      ],
      "metadata": {
        "id": "xnUqiCivLStI"
      }
    },
    {
      "cell_type": "code",
      "source": [
        "# isolate first country in medal_table\n",
        "row = rows[2]\n",
        "\n",
        "# show first country\n",
        "row"
      ],
      "metadata": {
        "id": "iwgEJ76aLUh2"
      },
      "execution_count": null,
      "outputs": []
    },
    {
      "cell_type": "markdown",
      "source": [
        "Now, we have a `row` object that includes the entire HTML associated with the `<tr>` tag for `Afghanistan`. As before, we want to create a list-like object for each cell or column in the table. Since there are multiple cells in each row, we'll use `.find_all()` to look for the table cell `<td>` tag and map those values onto a list-like structure."
      ],
      "metadata": {
        "id": "O1aJjXqeLVTR"
      }
    },
    {
      "cell_type": "code",
      "source": [
        "# get all cells in single_country\n",
        "cells = row.find_all(\"td\")\n",
        "\n",
        "# show single country\n",
        "cells"
      ],
      "metadata": {
        "id": "sGLkHSG4LWE2"
      },
      "execution_count": null,
      "outputs": []
    },
    {
      "cell_type": "markdown",
      "source": [
        "Now we have a list of cells (`<td>` tags) for a single row of HTML in the original table. The next step is to figure out how we work within that list of `<td>` tag contents to isolate the specific values we want to eventually write to each row in our `.csv` file. At this point, before we start writing code to extract these values, it's useful to stop and think about the endpoint for the data scraping process. Specifically, thinking about what columns we have in mind for the ultimate data structure helps us keep the end goal in mind as we start working through each aspect of the program.\n",
        "\n",
        "For this table, we might want a data structure with the following columns:\n",
        "- `Country_Name`\n",
        "- `Country URL`\n",
        "- `Number of Summer Olympic Appearances`\n",
        "- `Number of Summer Olympic Gold Medals`\n",
        "- `Number of Summer Olympic Silver Medals`\n",
        "- `Number of Summer Olympic Bronze Medals`\n",
        "- `Total Number of Summer Olympic Medals`\n",
        "- `Number of Winter Olympic Appearances`\n",
        "- `Number of Winter Olympic Gold Medals`\n",
        "- `Number of Winter Olympic Silver Medals`\n",
        "- `Number of Winter Olympic Bronze Medals`\n",
        "- `Total Number of Winter Olympic Medals`\n",
        "- `Combined Number of Olympic Appearances`\n",
        "- `Combined Number of Gold Medals`\n",
        "- `Combined Number of Silver Medals`\n",
        "- `Combined Number of Bronze Medals`\n",
        "- `Total Combined Number of Medals`\n",
        "\n",
        "So let's figure out how we can isolate each of those values, with the ultimate goal of developing a program that can iterate over all the similarly-structured rows in our table.\n",
        "\n",
        "#### Country Name\n",
        "\n",
        "To get the country name, we can isolate the first cell (`<td>` tag) in the `row` list of cells. Then, we can use .contents[] (part of BeautifulSoup) to get the contents of that first cell.\n"
      ],
      "metadata": {
        "id": "IEUq_7O-LYzz"
      }
    },
    {
      "cell_type": "code",
      "source": [
        "# isolate country name using contents and index\n",
        "name = cells[0].contents[0]\n",
        "\n",
        "# show country_name HTML\n",
        "name"
      ],
      "metadata": {
        "id": "fWC-UsikLaoT"
      },
      "execution_count": null,
      "outputs": []
    },
    {
      "cell_type": "markdown",
      "source": [
        "So now we have the HTML associated with the first `<td>` tag, but there's still a lot of extraneous markup we want to remove to get just the country name.\n",
        "\n",
        "```HTML\n",
        "<span id=\"AFG\"><img alt=\"\" class=\"thumbborder\" data-file-height=\"600\" data-file-width=\"900\" decoding=\"async\" height=\"15\" src=\"//upload.wikimedia.org/wikipedia/commons/thumb/c/cd/Flag_of_Afghanistan_%282013%E2%80%932021%29.svg/22px-Flag_of_Afghanistan_%282013%E2%80%932021%29.svg.png\" srcset=\"//upload.wikimedia.org/wikipedia/commons/thumb/c/cd/Flag_of_Afghanistan_%282013%E2%80%932021%29.svg/33px-Flag_of_Afghanistan_%282013%E2%80%932021%29.svg.png 1.5x, //upload.wikimedia.org/wikipedia/commons/thumb/c/cd/Flag_of_Afghanistan_%282013%E2%80%932021%29.svg/44px-Flag_of_Afghanistan_%282013%E2%80%932021%29.svg.png 2x\" width=\"22\"/> <a href=\"/wiki/Afghanistan_at_the_Olympics\" title=\"Afghanistan at the Olympics\">Afghanistan</a> <span style=\"font-size:90%;\">(AFG)</span></span>\n",
        "```\n",
        "\n",
        "If we drill down into this HTML, we can see the `<a href...>` tag is the HTML element closest to the country name we want to extract. So let's use `.find()` to get just the `a` tag HTML."
      ],
      "metadata": {
        "id": "1B0yChzRLdqz"
      }
    },
    {
      "cell_type": "code",
      "source": [
        "# get HTML with a tag\n",
        "name = name.find('a')\n",
        "\n",
        "# show name_tag\n",
        "name"
      ],
      "metadata": {
        "id": "1Utg0AQyLblG"
      },
      "execution_count": null,
      "outputs": []
    },
    {
      "cell_type": "markdown",
      "source": [
        "Now with just the `a` tag (`<a href=\"/wiki/Afghanistan_at_the_Olympics\" title=\"Afghanistan at the Olympics\">Afghanistan</a>`), we can use `.contents[]` again to get the tag contents. Remember an index value goes in the brackets for `.contents[]`."
      ],
      "metadata": {
        "id": "d_qbEh4uLe5x"
      }
    },
    {
      "cell_type": "code",
      "source": [
        "# get contents of a href tag\n",
        "name = name.contents[0]\n",
        "\n",
        "# show country\n",
        "name"
      ],
      "metadata": {
        "id": "fo4LD4M3LgEU"
      },
      "execution_count": null,
      "outputs": []
    },
    {
      "cell_type": "markdown",
      "source": [
        "Voila! The country name. Putting that all together:"
      ],
      "metadata": {
        "id": "Xq_oH_ufLg2v"
      }
    },
    {
      "cell_type": "code",
      "source": [
        "# combined program for country name\n",
        "name = cells[0].contents[0].find('a').contents[0]"
      ],
      "metadata": {
        "id": "V8dlyaVuLhk_"
      },
      "execution_count": null,
      "outputs": []
    },
    {
      "cell_type": "markdown",
      "source": [
        "#### Country URL\n",
        "\n",
        "```HTML\n",
        "<span id=\"AFG\"><img alt=\"\" class=\"thumbborder\" data-file-height=\"600\" data-file-width=\"900\" decoding=\"async\" height=\"15\" src=\"//upload.wikimedia.org/wikipedia/commons/thumb/c/cd/Flag_of_Afghanistan_%282013%E2%80%932021%29.svg/22px-Flag_of_Afghanistan_%282013%E2%80%932021%29.svg.png\" srcset=\"//upload.wikimedia.org/wikipedia/commons/thumb/c/cd/Flag_of_Afghanistan_%282013%E2%80%932021%29.svg/33px-Flag_of_Afghanistan_%282013%E2%80%932021%29.svg.png 1.5x, //upload.wikimedia.org/wikipedia/commons/thumb/c/cd/Flag_of_Afghanistan_%282013%E2%80%932021%29.svg/44px-Flag_of_Afghanistan_%282013%E2%80%932021%29.svg.png 2x\" width=\"22\"/> <a href=\"/wiki/Afghanistan_at_the_Olympics\" title=\"Afghanistan at the Olympics\">Afghanistan</a> <span style=\"font-size:90%;\">(AFG)</span></span>\n",
        "```\n",
        "\n",
        "If we look at the HTML associated with `country_name`, we can see that the country's Wikipedia URL is also in this section of HTML, as part of the `<a href...>` tag. So we can again use `.find()` to isolate the `<a>` tag's contents."
      ],
      "metadata": {
        "id": "drYihluQLitH"
      }
    },
    {
      "cell_type": "code",
      "source": [
        "# get first/only instance of a link tag in HTML for single country\n",
        "link = cells[0].find('a')\n",
        "\n",
        "# show link\n",
        "link"
      ],
      "metadata": {
        "id": "_42dTeJYLjlV"
      },
      "execution_count": null,
      "outputs": []
    },
    {
      "cell_type": "markdown",
      "source": [
        "Now, looking at the `link_test` piece of HTML (`<a href=\"/wiki/Afghanistan_at_the_Olympics\" title=\"Afghanistan at the Olympics\">Afghanistan</a>`), we want to extract the URL associated with the `href` attribute. We were able to use `.contents[]` to get the contents of this HTML tag, but we'll need a different approach for getting the `href` attribute value. `BeautifulSoup` includes a `.get()` argument that lets us isolate the value associated with an HTML attribute. So we can use `.get('href')` to isolate the URL.\n"
      ],
      "metadata": {
        "id": "vGsHryMsLkwm"
      }
    },
    {
      "cell_type": "code",
      "source": [
        "# get the contents of the url from the href attribute\n",
        "link = link.get('href')\n",
        "\n",
        "# show href contents\n",
        "link"
      ],
      "metadata": {
        "id": "4tHaADgZLlcr"
      },
      "execution_count": null,
      "outputs": []
    },
    {
      "cell_type": "markdown",
      "source": [
        "But wait! `/wiki/Afghanistan_at_the_Olympics` doesn't look like a full url...That's because it isn't. Wikipedia is using an internal link with the `<a href...>` tag to connect to another Wikipedia page, which means they don't have to use the full URL for the link to work. But, we can use concatenation to recreate the full link, since all English-language Wikipedia pages start with the same root URL: `https://en.wikipedia.org`"
      ],
      "metadata": {
        "id": "ErC3YAM5LmKe"
      }
    },
    {
      "cell_type": "code",
      "source": [
        "# use contenation to get full url\n",
        "link = \"https://en.wikipedia.org\" + link\n",
        "\n",
        "# show full link\n",
        "link"
      ],
      "metadata": {
        "id": "JureGabMLnQp"
      },
      "execution_count": null,
      "outputs": []
    },
    {
      "cell_type": "markdown",
      "source": [
        "Great! Now we have the full link."
      ],
      "metadata": {
        "id": "BSf2DTtMLoJ3"
      }
    },
    {
      "cell_type": "code",
      "source": [
        "# combined program for link\n",
        "link = cells[0].find('a').get('href')\n",
        "link = \"https://en.wikipedia.org\" + link\n",
        "print(link)"
      ],
      "metadata": {
        "id": "OkvVmsqqLpPV"
      },
      "execution_count": null,
      "outputs": []
    },
    {
      "cell_type": "markdown",
      "source": [
        "#### Medal Counts\n",
        "\n",
        "If we take a look at the original Wikipedia table, we notice there are three column \"groupings\":\n",
        "- `Summer Olympic Games`\n",
        "- `Winter Olympic Games`\n",
        "- `Combined total`\n",
        "\n",
        "We can extract medal counts within each of these column groups by selecting the cell and then getting the value of that cell using `contents[]` and index values."
      ],
      "metadata": {
        "id": "_S5_S5VULqEC"
      }
    },
    {
      "cell_type": "code",
      "source": [
        "# number of summer olympic appearances\n",
        "summer = cells[1].contents[0]\n",
        "\n",
        "# number of summer gold medals\n",
        "summer_gold = cells[2].contents[0]\n",
        "\n",
        "# number of summer silver medals\n",
        "summer_silver = cells[3].contents[0]\n",
        "\n",
        "# number of summer bronze medals\n",
        "summer_bronze = cells[4].contents[0]\n",
        "\n",
        "# total number of summer olympics medals, using strip() to remove line break\n",
        "summer_medals = cells[5].contents[0].strip()\n",
        "\n",
        "# total number of winter olympic appearances\n",
        "winter = cells[6].contents[0]\n",
        "\n",
        "# number of winter gold medals\n",
        "winter_gold = cells[7].contents[0]\n",
        "\n",
        "# number of winter silver\n",
        "winter_silver = cells[8].contents[0]\n",
        "\n",
        "# number of winter bronze\n",
        "winter_bronze = cells[9].contents[0]\n",
        "\n",
        "# total number of winter medals\n",
        "winter_medals = cells[10].contents[0].strip()\n",
        "\n",
        "# total number combined olympic appearances\n",
        "combined_olympics = cells[11].contents[0].strip()\n",
        "\n",
        "# total number gold medals\n",
        "gold_total = cells[12].contents[0]\n",
        "\n",
        "# total number silver medals\n",
        "silver_total = cells[13].contents[0]\n",
        "\n",
        "# total number bronze medals\n",
        "bronze_total = cells[14].contents[0]\n",
        "\n",
        "# total number of medals, combined\n",
        "medals_total = cells[15].contents[0].strip()\n",
        "\n",
        "# create list with all of these values\n",
        "medals = [summer, summer_gold, summer_silver, summer_bronze, summer_medals, winter, winter_gold, winter_silver, winter_bronze, winter_medals, combined_olympics, gold_total, silver_total, bronze_total, medals_total]\n",
        "\n",
        "# show list\n",
        "print(medals)"
      ],
      "metadata": {
        "id": "o4vODzSdLraI"
      },
      "execution_count": null,
      "outputs": []
    },
    {
      "cell_type": "markdown",
      "source": [
        "We could also create a list with the medal data and the country names + links we extracted in the previous section of the lab."
      ],
      "metadata": {
        "id": "qvj19JzILsk5"
      }
    },
    {
      "cell_type": "code",
      "source": [
        "# add country name and URL to medals list\n",
        "medals.insert(0, name)\n",
        "medals.insert(1, link)\n",
        "\n",
        "# show updated list\n",
        "print(medals)"
      ],
      "metadata": {
        "id": "WjZfinPCLtWb"
      },
      "execution_count": null,
      "outputs": []
    },
    {
      "cell_type": "markdown",
      "source": [
        "Now we have working code that extracts each piece of data from a row in the table.\n",
        "\n",
        "### Iterating Over Multiple Rows\n",
        "\n",
        "To recap our workflow so far:\n",
        "- Load url using `requests.get()` \n",
        "- Creat `BeautifulSoup` object using `BeautifulSoup()\n",
        "- Isolate section of page with table using `.find_all()` (with `wikitable sortable` class) and index values\n",
        "- Create list of rows using `.find_all()` (with `tr` tag)\n",
        "- Isolate single row using index values\n",
        "- Develop program that works on single row using combination of index values, `.get()`, `.find()`, and `.contents[]`\n",
        "- Create list from extracted values\n",
        "\n",
        "Now that we have working code that will extract each piece of data as a variable, we want to run these lines of code on each country in the table to get the data in each column. We can do this using a `for` loop that iterates over each row in the table. \n",
        "\n",
        "But before we throw iteration into the mix, we might want to remove or exclude rows in the table that don't follow the pattern or structure of the rows with data. Specifically for this table, the first two rows have the column header information and don't match the format/structure of the rest of the table. One option for removing these rows would be `del` statements."
      ],
      "metadata": {
        "id": "436v7FJcLuXw"
      }
    },
    {
      "cell_type": "code",
      "source": [
        "# remove second row\n",
        "del rows[1]\n",
        "\n",
        "# remove first row\n",
        "del rows[0]\n",
        "\n",
        "# show updated list of rows\n",
        "print(rows)"
      ],
      "metadata": {
        "id": "Li7N9jVELvFb"
      },
      "execution_count": null,
      "outputs": []
    },
    {
      "cell_type": "markdown",
      "source": [
        "Now we're ready to iterate over each country (table row) using the code we tested on a single country. We can create a list with each row's values and append that list as a sublist or nested list to an empty list."
      ],
      "metadata": {
        "id": "AgdDbhrILyVl"
      }
    },
    {
      "cell_type": "code",
      "source": [
        "table_rows = [] # empty list for data\n",
        "\n",
        "for row in rows: # for loop that iterates over rows\n",
        "  tags = [] # create empty list for td tags in single row\n",
        "\t\n",
        "  cells = row.find_all('td') # isolate cells, td elements\n",
        "\t\n",
        "  tags.append(cells) # append tags to tag list\n",
        "\t\n",
        "  for cells in tags:\n",
        "    try:\n",
        "      name = cells[0].contents[0].find('a').contents[0] # combined program for country name\n",
        "      link = cells[0].find('a').get('href') # for loop that iterates over cells in row\n",
        "      link = \"https://en.wikipedia.org\" + link\n",
        "      summer = cells[1].contents[0] # number of summer olympic appearances\n",
        "      summer_gold = cells[2].contents[0] # number of summer gold medals\n",
        "      summer_silver = cells[3].contents[0] # number of summer silver medals\n",
        "      summer_bronze = cells[4].contents[0] # number of summer bronze medals\n",
        "      summer_medals = cells[5].contents[0].strip() # total number of summer olympics medals, using strip() to remove line break\n",
        "      winter = cells[6].contents[0] # total number of winter olympic appearances\n",
        "      winter_gold = cells[7].contents[0] # number of winter gold medals\n",
        "      winter_silver = cells[8].contents[0] # number of winter silver\n",
        "      winter_bronze = cells[9].contents[0] # number of winter bronze\n",
        "      winter_medals = cells[10].contents[0].strip() # total number of winter medals\n",
        "      combined_olympics = cells[11].contents[0].strip() # total number combined olympic appearances\n",
        "      gold_total = cells[12].contents[0] # total number gold medals\n",
        "      silver_total = cells[13].contents[0] # total number silver medals\n",
        "      bronze_total = cells[14].contents[0] # total number bronze medals\n",
        "      medals_total = cells[15].contents[0].strip() # total number of medals, combined\n",
        "\n",
        "      # creates list of values from each data element\n",
        "      row_data = [name, link, summer, summer_gold, summer_silver, summer_bronze, summer_medals, winter, winter_gold, winter_silver, winter_bronze, winter_medals, combined_olympics, gold_total, silver_total, bronze_total, medals_total]\n",
        "      \n",
        "      # append row_data to test_list\n",
        "      table_rows.append(row_data)\n",
        "            \n",
        "    except:\n",
        "      continue\n",
        "    \n",
        "# show list\n",
        "table_rows"
      ],
      "metadata": {
        "id": "kxM6D9k0YyQZ"
      },
      "execution_count": null,
      "outputs": []
    },
    {
      "cell_type": "markdown",
      "source": [
        "Each row of data in the table is a list value, or sublist/nested list in `tags`. In this program `try` and `except` instruct Python to `try` to run the lines nested under `try`, but if it runs into an error (`except`), `continue` iterating over the values in the `tags` list. Using `try` and `except` can be dangerous if you don't know if or how a program is working- in this case, we've tested the program and got it working on a single row that matches the pattern for all the rows we want to scrape data frame.\n",
        "\n",
        "Now that we know the iteration is working, we can take `table_rows` and write each item in the list (which itself is a row of data) to a row in a `.csv` file."
      ],
      "metadata": {
        "id": "TsiOBJKzL1L3"
      }
    },
    {
      "cell_type": "code",
      "source": [
        "# create new csv file\n",
        "f = csv.writer(open('medals.csv', 'w'))\n",
        "\n",
        "# list of strings with headers\n",
        "headers = [\"country_name\", \"link\", \"no_summer_olympics\", \"no_summer_gold\", \"no_summer_silver\", \"no_summer_bronze\", \"total_no_summer_medals\", \"no_winter_olympics\", \"no_winter_gold\", \"no_winter_silver\", \"no_winter_bronze\", \"total_no_winter_medals\", \"no_combined_olympics\", \"no_combined_gold\", \"no_combined_silver\", \"no_combined_bronze\", \"total_no_combined_medals\"]\n",
        "\n",
        "# write header row or first row for CSV file\n",
        "f.writerow(headers)\n",
        "\n",
        "# for loop that assigns each element in test_list to a new row\n",
        "for row in table_rows:\n",
        "    f.writerow(row)"
      ],
      "metadata": {
        "id": "Jije9wTVY0OS"
      },
      "execution_count": null,
      "outputs": []
    },
    {
      "cell_type": "markdown",
      "source": [
        "We can also use `table_rows` and `headers` to create a `pandas` `DataFrame`. `pandas` will map each value in the list (nested list or sublist with single row of data) to a row in the `DataFrame`. And the `headers` list we created for writing the first row of the `medals` CSV file can be used to set the `DataFrame` column names."
      ],
      "metadata": {
        "id": "eHB2m5TsL4Gg"
      }
    },
    {
      "cell_type": "code",
      "source": [
        "# import pandas\n",
        "import pandas as pd\n",
        "\n",
        "# list of strings with headers\n",
        "headers = [\"country_name\", \"link\", \"no_summer_olympics\", \"no_summer_gold\", \"no_summer_silver\", \"no_summer_bronze\", \"total_no_summer_medals\", \"no_winter_olympics\", \"no_winter_gold\", \"no_winter_silver\", \"no_winter_bronze\", \"total_no_winter_medals\", \"no_combined_olympics\", \"no_combined_gold\", \"no_combined_silver\", \"no_combined_bronze\", \"total_no_combined_medals\"]\n",
        "\n",
        "# create data frame \n",
        "df = pd.DataFrame(table_rows, columns=headers)\n",
        "\n",
        "# show df\n",
        "df"
      ],
      "metadata": {
        "id": "Aiv7ySzZY2kP"
      },
      "execution_count": null,
      "outputs": []
    },
    {
      "cell_type": "markdown",
      "source": [
        "Then we could use `pd.to_csv` to write the `DataFrame` to a `CSV` file."
      ],
      "metadata": {
        "id": "V7k0482xL5-l"
      }
    },
    {
      "cell_type": "code",
      "source": [
        "# write df to csv file\n",
        "df.to_csv(\"output.csv\", index=False)"
      ],
      "metadata": {
        "id": "j3skNAPjL611"
      },
      "execution_count": null,
      "outputs": []
    },
    {
      "cell_type": "markdown",
      "source": [
        "## Application\n",
        "\n",
        "<table>\n",
        " <tr><td>\n",
        "<img src=\"https://elearn.southampton.ac.uk/wp-content/blogs.dir/sites/64/2021/04/PanPan.png\" alt=\"Panopto logo\" width=\"50\"/></td>\n",
        "  <td><a href=\"https://notredame.hosted.panopto.com/Panopto/Pages/Viewer.aspx?id=b7e2f787-47cf-4f61-af59-af3601729e4d\">Lab Notebook Questions 1-2</a></td>\n",
        "  </tr>\n",
        "  </table>\n",
        "\n",
        "Q1: Describe the general approach to loading a web page in Python using `requests` and isolating the section of HTML you need using `BeautifulSoup`. What are the basic steps involved in this workflow, thinking about what happens at the start of the program to isolate the section of HTML you would need to do further work with to extract the data you want to work with?\n",
        "\n",
        "Q2A: Select another Wikipedia page that includes a table. From looking at the public web page, what data do you want to scrape from this web page (i.e. specific table, multiple tables, etc.)? What do you want the resulting data structure to look like (columns, rows, etc)?\n",
        "\n",
        "Q2B: Take a look at the HTML for this page. What tags or other HTML components do you see around the section of the page you want to work with? For this question, we're thinking about how we will end up writing a program with <code>BeautifulSoup</code> to isolate a section of the web page.\n",
        "\n",
        "Q2C: Develop an outline for a Python program that scrapes data from the web page you selected. \n",
        "\n",
        "A preliminary workflow:\n",
        "- Load URL and create BeautifulSoup object\n",
        "- Isolate section of HTML with your table (either directly or extract from list)\n",
        "- Isolate table row elements (create list where each element is a table row)\n",
        "- Extract contents from row (isolate the pieces of information from each row)\n",
        "- Create Pandas DataFrame\n",
        "- Write extracted row contents to CSV file\n",
        "\n",
        "NOTE: You do not need to have working code for all components of this program. That's where we're heading with the final project. At this point, we're focusing on the conceptual framework for the web scraping program. Start to build out code where you can, but think about the programming version of outlining a paper.\n",
        "\n",
        "Q2D: What challenges or roadblocks did you face working on Q2C? What parts of the program do you understand/feel ready to develop at this point? What parts of the program are less clear?"
      ],
      "metadata": {
        "id": "mGK59ZGFL9c4"
      }
    },
    {
      "cell_type": "markdown",
      "source": [
        "# Working With Multiple Pages\n",
        "\n",
        "<table>\n",
        " <tr><td>\n",
        "<img src=\"https://elearn.southampton.ac.uk/wp-content/blogs.dir/sites/64/2021/04/PanPan.png\" alt=\"Panopto logo\" width=\"50\"/></td>\n",
        "  <td><a href=\"https://notredame.hosted.panopto.com/Panopto/Pages/Viewer.aspx?id=93e01715-dc47-4182-b6a8-af360172c76d\">Working With Multiple Pages</a></td>\n",
        "  </tr>\n",
        "  </table>\n",
        "\n",
        "In the previous example of a Wikipedia page with Olympic medal counts, we were scraping data from a single web page. But we can also imagine a scenario where we might want to scrape data from multiple web pages or a series of web pages that have the same HTML structure or format. For example, head to https://www.sports-reference.com/cfb/schools/notre-dame/1940-schedule.html to explore the College Football Reference page for Notre Dame's 1940 football season.\n",
        "\n",
        "<p align=\"center\"><img src=\"https://github.com/kwaldenphd/web-scraping-python/blob/main/images/fig4.jpg?raw=true\"></p>\n",
        "\n",
        "We can use the `Previous Year` and `Next Year` buttons at the top of the page to look at pre- and post-1940 pages. Take a look at page URLs as you change years- the start (or root) of the url `https://www.sports-reference.com/cfb/schools/notre-dame/` and the end (or tag) of the url `-schedule.html` remain the same, while only the year value changes. Since the data format/structure is fairly consistent across the different season pages, if we get a program working for one season/page, it stands to reason we could run that program on multiple pages by iterating over a list of URLs.\n",
        "\n",
        "Let's take a look at how we could get a list of URLs programmatically for the College Football Reference Notre Dame pages. First, we would assign the URL root and tag to named variables."
      ],
      "metadata": {
        "id": "K9xlj_snL-zW"
      }
    },
    {
      "cell_type": "code",
      "source": [
        "# root url\n",
        "root = \"https://www.sports-reference.com/cfb/schools/notre-dame/\"\n",
        "\n",
        "# url tag\n",
        "tag = \"-schedule.html\""
      ],
      "metadata": {
        "id": "S-5p_NaEMAFa"
      },
      "execution_count": null,
      "outputs": []
    },
    {
      "cell_type": "markdown",
      "source": [
        "Then, we could use `range` to create a list of years spanning the dates we want to cover."
      ],
      "metadata": {
        "id": "vtfK5UpaMBEy"
      }
    },
    {
      "cell_type": "code",
      "source": [
        "# year range\n",
        "years = list(range(1899, 2021, 1))"
      ],
      "metadata": {
        "id": "7bHdJZR8MBuL"
      },
      "execution_count": null,
      "outputs": []
    },
    {
      "cell_type": "markdown",
      "source": [
        "Then, we could use concatenation and a `for` loop to generate a list of full URLs for the seasons we want to cover.\n"
      ],
      "metadata": {
        "id": "NRw9EdxuMCYa"
      }
    },
    {
      "cell_type": "code",
      "source": [
        "# empty list for urls\n",
        "urls = []\n",
        "\n",
        "# for loop that concatenates full url\n",
        "for year in years:\n",
        "    urls.append(root + str(year) + tag)\n",
        "    \n",
        "# show list of urls\n",
        "urls"
      ],
      "metadata": {
        "id": "aw75NNASMDJv"
      },
      "execution_count": null,
      "outputs": []
    },
    {
      "cell_type": "markdown",
      "source": [
        "With the `urls` list, we could write a program that works for a single page and then use a `for` loop to iterate over each url in the `urls` list.\n",
        "\n",
        "Putting that all together:\n"
      ],
      "metadata": {
        "id": "E-zbS9g5MD7e"
      }
    },
    {
      "cell_type": "code",
      "source": [
        "root = \"https://www.sports-reference.com/cfb/schools/notre-dame/\"\n",
        "\n",
        "years = list(range(1899, 2021, 1))\n",
        "\n",
        "tag = \"-schedule.html\"\n",
        "\n",
        "urls = []\n",
        "\n",
        "for year in years:\n",
        "    urls.append(root + str(year) + tag)\n",
        "    \n",
        "urls"
      ],
      "metadata": {
        "id": "S8VbzRLxMEo8"
      },
      "execution_count": null,
      "outputs": []
    },
    {
      "cell_type": "markdown",
      "source": [
        "### Application\n",
        "\n",
        "Q3: Describe in your own words how the url generation program covered in the previous section of the lab works. The full program is also included below. What is happening in the different program components?\n",
        "\n",
        "Q4: Select another Sports Reference web page that follows this pattern and write a program that generates a list of full URLs for that team/organization.\n",
        "\n",
        "A few places to start:\n",
        "- Baseball Reference season web pages have the following URL pattern:\n",
        "  * `https://www.baseball-reference.com/teams/`, `TEAM ABBREVIATION`, `SEASON`, `.shtml`\n",
        "- Basketball Reference season web pages have a similar pattern for NBA teams:\n",
        "  * `https://www.basketball-reference.com/teams/`, `TEAM ABBREVIATION`, `SEASON`, `.html`\n",
        "- Basketball Reference uses a slightly different pattern for its WNBA pages:\n",
        "  * `https://www.basketball-reference.com/wnba/teams`, `TEAM ABBREVIATION`, `SEASON`, `.html`\n",
        "- College Basketball Reference pages also follow a pattern: \n",
        "  * `https://www.sports-reference.com/cbb/schools`, `SCHOOL ABBREVIATION`, `SEASON`, `.html`\n",
        "- For Hockey Reference pages: \n",
        "  * `https://www.hockey-reference.com/teams/`, `TEAM ABBREVIATION`, `SEASON`, `.html`\n",
        "- Football Reference pages follow the same pattern for men's and women's teams:\n",
        "  * `https://fbref.com/en/squads/`, `SQUAD ID`, `SEASON`, `TEAM NAME`\n",
        "- Pro Football Reference pages also have a pattern: \n",
        "  * `https://www.pro-football-reference.com/teams/`, `TEAM ABBREVIATION`, `SEASON`, `.htm`\n",
        "\n",
        "NOTE: You DO NOT need to write a program that scrapes data from these pages for this question. The purpose of this question is to be able to programmatically generate a list of URLs that cover a date range. "
      ],
      "metadata": {
        "id": "CVgS-GpOMGCG"
      }
    },
    {
      "cell_type": "markdown",
      "source": [
        "# An Alternate Approach: pandas.read_html()\n",
        "\n",
        "<table>\n",
        " <tr><td>\n",
        "<img src=\"https://elearn.southampton.ac.uk/wp-content/blogs.dir/sites/64/2021/04/PanPan.png\" alt=\"Panopto logo\" width=\"50\"/></td>\n",
        "  <td><a href=\"https://notredame.hosted.panopto.com/Panopto/Pages/Viewer.aspx?id=f02d35d9-bb7f-4503-9f79-af360172f44e\">pandas.read_html()</a></td>\n",
        "  </tr>\n",
        "  </table>\n",
        "\n",
        "`BeautifulSoup` is an incredibly powerful package that lets us drill down into the structure of an HTML document to isolate the pieces of information we need or want to work with. But if we're dealing with an HTML table that has straightforward formatting, an alternate approach is to use the `.read_html()` function that is part of the `pandas` library. `pd.read_html()` looks for any `<table>` tag on a web page and reads each `<table>`  tag's HTML into Python as a list of `DataFrame` objects. Let's take a look at how we could use `pd.read_html()` for the College Football Reference web page we looked at in the previous section of the lab.\n"
      ],
      "metadata": {
        "id": "c9jUochXMH39"
      }
    },
    {
      "cell_type": "code",
      "source": [
        "# import pandas\n",
        "import pandas as pd\n",
        "\n",
        "# load url\n",
        "url = \"https://www.sports-reference.com/cfb/schools/notre-dame/1940-schedule.html\"\n",
        "\n",
        "# create list of dataframes from url using .read_html()\n",
        "dfs = pd.read_html(url)\n",
        "\n",
        "# show dfs list\n",
        "dfs"
      ],
      "metadata": {
        "id": "bBz7HuV7MImw"
      },
      "execution_count": null,
      "outputs": []
    },
    {
      "cell_type": "markdown",
      "source": [
        "We could also the URL directly to `pd.read_html()`:"
      ],
      "metadata": {
        "id": "_E4nDYhHMJfB"
      }
    },
    {
      "cell_type": "code",
      "source": [
        "# import pandas\n",
        "import pandas as pd\n",
        "\n",
        "# create list of dataframes from url using .read_html()\n",
        "dfs = pd.read_html(\"https://www.sports-reference.com/cfb/schools/notre-dame/1940-schedule.html\")\n",
        "\n",
        "# show dfs list\n",
        "dfs"
      ],
      "metadata": {
        "id": "wRNqR0XGMKRM"
      },
      "execution_count": null,
      "outputs": []
    },
    {
      "cell_type": "markdown",
      "source": [
        "At first glance, `dfs` doesn't seem to have clear data tables, but remember `dfs` is a list of `DataFrames` created from any HTML `table` content on the page."
      ],
      "metadata": {
        "id": "lKQ-DBXVMK3r"
      }
    },
    {
      "cell_type": "code",
      "source": [
        "# number of elements in dfs list\n",
        "len(dfs)"
      ],
      "metadata": {
        "id": "QC65PEzxML9r"
      },
      "execution_count": null,
      "outputs": []
    },
    {
      "cell_type": "markdown",
      "source": [
        "Since there are only two elements in the `dfs` list, let's isolate each one."
      ],
      "metadata": {
        "id": "CQgasCexMMjC"
      }
    },
    {
      "cell_type": "code",
      "source": [
        "# show first dataframe in dfs\n",
        "dfs[0]"
      ],
      "metadata": {
        "id": "UKAZZbMdMNPL"
      },
      "execution_count": null,
      "outputs": []
    },
    {
      "cell_type": "markdown",
      "source": [
        "These values correspond to the `AP Poll Summary` table on the page."
      ],
      "metadata": {
        "id": "4zbLokIYMN5N"
      }
    },
    {
      "cell_type": "code",
      "source": [
        "# select single dataframe \n",
        "df = dfs[1]\n",
        "\n",
        "# show new dataframe\n",
        "df"
      ],
      "metadata": {
        "id": "6M6mjBCLMPXf"
      },
      "execution_count": null,
      "outputs": []
    },
    {
      "cell_type": "markdown",
      "source": [
        "College Football Reference schedule pages for pre-1936 Notre Dame do not have the first `AP Poll` table. We can use the 1935 schedule page (https://www.sports-reference.com/cfb/schools/notre-dame/1935-schedule.html) as an example."
      ],
      "metadata": {
        "id": "ZF__uX8LMQJa"
      }
    },
    {
      "cell_type": "code",
      "source": [
        "# load url\n",
        "url = \"https://www.sports-reference.com/cfb/schools/notre-dame/1935-schedule.html\"\n",
        "\n",
        "# create list of dataframes from url using .read_html()\n",
        "dfs = pd.read_html(url)\n",
        "\n",
        "# show number of tables in dfs\n",
        "len(dfs)"
      ],
      "metadata": {
        "id": "YCeGMtbiMRH5"
      },
      "execution_count": null,
      "outputs": []
    },
    {
      "cell_type": "markdown",
      "source": [
        "Only one table here, so we can isolate that table as a `DataFrame`."
      ],
      "metadata": {
        "id": "yePQXp6NMS1w"
      }
    },
    {
      "cell_type": "code",
      "source": [
        "# select single dataframe \n",
        "df = dfs[0]\n",
        "\n",
        "# show new dataframe\n",
        "df"
      ],
      "metadata": {
        "id": "LWHq0zmLMSDR"
      },
      "execution_count": null,
      "outputs": []
    },
    {
      "cell_type": "markdown",
      "source": [
        "If we were ultimately going to do further work with analyzing/visualizing this data, we would probably want to spend some more time standardizing column names and values. And if we were going to scrape this table across multiple pages, we would need to find some way to get the year or season represented in the `DataFrame`. But for now, if we wanted to write the `DataFrame` we created using `pd.read_html()` to a `CSV`..."
      ],
      "metadata": {
        "id": "Sl_x3lGKMT7R"
      }
    },
    {
      "cell_type": "code",
      "source": [
        "df.to_csv(\"output.csv\", index=False)"
      ],
      "metadata": {
        "id": "hb-6LMhsMUnA"
      },
      "execution_count": null,
      "outputs": []
    },
    {
      "cell_type": "markdown",
      "source": [
        "## Application\n",
        "\n",
        "<table>\n",
        " <tr><td>\n",
        "<img src=\"https://elearn.southampton.ac.uk/wp-content/blogs.dir/sites/64/2021/04/PanPan.png\" alt=\"Panopto logo\" width=\"50\"/></td>\n",
        "  <td><a href=\"https://notredame.hosted.panopto.com/Panopto/Pages/Viewer.aspx?id=234b8c5b-7641-47bf-a61c-af3601731318\">Lab Notebook Questions 5-7</a></td>\n",
        "  </tr>\n",
        "  </table>\n",
        "  \n",
        "Q5: Describe the general approach to loading a web page in Python using `pd.read_html()`. What are the basic steps involved in this workflow, thinking about what happens to identify/isolate the specific table you want to work with?\n",
        "\n",
        "Q6: For Q4, you generated a list of Sports Reference URLs covering a time span for a specific team/organization. Select three years and web pages from that list- something early in the time period covered, something in the middle of the time period covered, and something toward the end of the time period covered. Do these pages have the same pattern in terms of number and order of tables? For one of these pages, what table or tables on these pages would you want to be able to extract and work with?\n",
        "\n",
        "Q7A: Develop an outline for a Python program that uses `pd.read_html()` to scrape data from one of the web pages you select in Q6.\n",
        "\n",
        "A preliminary workflow:\n",
        "- Use `pd.read_html()` to create a list of DataFrame objects\n",
        "- Identify which DataFrame object in the list is the table you want to work with\n",
        "- Isolate the list element to create a new DataFrame\n",
        "- Write the new DataFrame to a CSV file\n",
        "\n",
        "NOTE: For Q3, you did not need to have working code for all components of this program. Since `pd.read_html()` has an easier learning curve, let's see if we can flesh out more of this program. But if you run into problems, it's okay to focus on the conceptual framework for the web scraping program. Start to build out code where you can, but think about the programming version of outlining a paper.\n",
        "\n",
        "ANOTHER NOTE: For many Sports Reference pages, tables further down the page are buried in HTML comments. These tables will not show up when you use `pd.read_html()`. We can come back to these \"hidden tables\" in the final project, but for now, focus on the tables that do show up when you use `pd.read_html()`.\n",
        "\n",
        "Q7B: What challenges or roadblocks did you face working on Q7B? What parts of the program do you understand and/or were able to develop? What parts of the program are less clear?"
      ],
      "metadata": {
        "id": "NqMptG2XMWR5"
      }
    },
    {
      "cell_type": "markdown",
      "source": [
        "# `Beautiful Soup` & Unstructured Text\n",
        "\n",
        "<table>\n",
        " <tr><td>\n",
        "<img src=\"https://elearn.southampton.ac.uk/wp-content/blogs.dir/sites/64/2021/04/PanPan.png\" alt=\"Panopto logo\" width=\"50\"/></td>\n",
        "  <td><a href=\"https://notredame.hosted.panopto.com/Panopto/Pages/Viewer.aspx?id=13f5e27a-d21f-48a8-883b-af360173332a\">Unstructured Text</a></td>\n",
        "  </tr>\n",
        "  </table>\n",
        "\n",
        "So far, this lab has focused on approaches for scraping structured data from the web using Python. But there are other contexts and use cases when we might want to be able to scrape unstructured text from the web and be able to work with that \"data\" in Python (or write it to a plain-text `.txt` file). For example, take a look at Fall 2021 *Observer* article: https://web.archive.org/web/20211016150109/https://ndsmcobserver.com/2021/10/south-bend-community-leaders-discuss-role-of-notre-dame-in-fight-for-black-civil-rights/\n",
        "\n",
        "Imagine we wanted to use Python to analyze the words or terms used in this article. The first step would be to get a plain-text `.txt` version of the article text.  We would start with the same `BeautifulSoup` workflow we've used previously:\n",
        "- Load URL\n",
        "- Create `BeautifulSoup` object\n",
        "- Isolate section of HTML with article text"
      ],
      "metadata": {
        "id": "JVKdRyGIMXnY"
      }
    },
    {
      "cell_type": "code",
      "source": [
        "# get page\n",
        "page = requests.get(\"https://web.archive.org/web/20211016150109/https://ndsmcobserver.com/2021/10/south-bend-community-leaders-discuss-role-of-notre-dame-in-fight-for-black-civil-rights/\")\n",
        "\n",
        "# create BeautifulSoup object\n",
        "soup = BeautifulSoup(page.text, 'html.parser')\n",
        "\n",
        "# show BeautifulSoup object\n",
        "soup"
      ],
      "metadata": {
        "id": "2FAs4X5WMYWU"
      },
      "execution_count": null,
      "outputs": []
    },
    {
      "cell_type": "markdown",
      "source": [
        "Next, we want to isolate the section of the page that includes the article text.\n",
        "\n",
        "```HTML\n",
        "<article class=\"section news\">\n",
        "<div class=\"title-container\">\n",
        "<h2 class=\"topic\"><span class=\"title\">news</span></h2>\n",
        "<ul class=\"see-social addthis_toolbox\" addthis:url=\"https://ndsmcobserver.com/2021/10/south-bend-community-leaders-discuss-role-of-notre-dame-in-fight-for-black-civil-rights/\" addthis:title=\"South Bend community leaders discuss role of Notre Dame in fight for Black civil rights\" addthis:description=\"South Bend community leaders discuss role of Notre Dame in fight for Black civil rights\">\n",
        "<li><a class=\"addthis_button_email email\"></a></li>\n",
        "<li><a class=\"addthis_button_facebook facebook\"></a></li>\n",
        "<li><a class=\"addthis_button_twitter twitter\"></a></li>\n",
        "</ul> \n",
        "</div> \n",
        "<div class=\"content-header\">\n",
        "<h3>South Bend community leaders discuss role of Notre Dame in fight for Black civil rights</h3>\n",
        "<p class=\"info\"><a href=\"https://web.archive.org/web/20211016150109/https://ndsmcobserver.com/author/vortiz2/\" title=\"Posts by Valeria Ortiz\" class=\"author url fn\" rel=\"author\">Valeria Ortiz</a> | Friday, October 15, 2021</p>\n",
        "\n",
        "</div> \n",
        "<span id=\"outstream-unit\" style=\"width:100%;height:550px;padding:0.5em 0\"></span>\n",
        "<div class=\"content-body\">\n",
        "<p>The Notre Dame Initiative on Race and Resilience hosted a panel Wednesday in DeBartolo Hall on Black civil rights in South Bend, featuring some of South Bend’s prominent community leaders.</p>\n",
        "<p>The panel, which intended to explore the immense social inequalities facing South Bend’s Black residents, included Trina Robinson, president of NAACP-South Bend; Regina Williams-Preston, president of Community Action for Education and former South Bend Common Council representative; Jorden Giger, co-founder of Black Lives Matter South Bend and Deacon Mel Tardy, deacon of St. Augustine Parish and an advising faculty at the University.</p>\n",
        "<figure id=\"attachment_234452\" class=\"wp-caption aligncenter\" style=\"width: 700px\"> <div class=\"media-credit-container aligncenter\" style=\"max-width: 710px\">\n",
        "<img data-attachment-id=\"234452\" data-permalink=\"https://web.archive.org/web/20211016150109/https://ndsmcobserver.com/2021/10/south-bend-community-leaders-discuss-role-of-notre-dame-in-fight-for-black-civil-rights/screen-shot-2021-10-15-at-8-36-39-pm/\" data-orig-file=\"https://web.archive.org/web/20211016150109/https://i1.wp.com/ndsmcobserver.com/wp-content/uploads/2021/10/1634330204-71900895f520822.png?fit=726%2C538&amp;ssl=1\" data-orig-size=\"726,538\" data-comments-opened=\"1\" data-image-meta=\"{&quot;aperture&quot;:&quot;0&quot;,&quot;credit&quot;:&quot;&quot;,&quot;camera&quot;:&quot;&quot;,&quot;caption&quot;:&quot;&quot;,&quot;created_timestamp&quot;:&quot;0&quot;,&quot;copyright&quot;:&quot;&quot;,&quot;focal_length&quot;:&quot;0&quot;,&quot;iso&quot;:&quot;0&quot;,&quot;shutter_speed&quot;:&quot;0&quot;,&quot;title&quot;:&quot;&quot;,&quot;orientation&quot;:&quot;0&quot;}\" data-image-title=\"Screen Shot 2021-10-15 at 8.36.39 PM\" data-image-description=\"\" data-medium-file=\"https://web.archive.org/web/20211016150109/https://i1.wp.com/ndsmcobserver.com/wp-content/uploads/2021/10/1634330204-71900895f520822.png?fit=700%2C519&amp;ssl=1\" data-large-file=\"https://web.archive.org/web/20211016150109/https://i1.wp.com/ndsmcobserver.com/wp-content/uploads/2021/10/1634330204-71900895f520822.png?fit=700%2C519&amp;ssl=1\" class=\"wp-image-234452 size-medium\" src=\"https://web.archive.org/web/20211016150109im_/https://i1.wp.com/ndsmcobserver.com/wp-content/uploads/2021/10/1634330204-71900895f520822.png?resize=700%2C519&amp;ssl=1\" alt=\"\" width=\"700\" height=\"519\" srcset=\"https://web.archive.org/web/20211016150109im_/https://i1.wp.com/ndsmcobserver.com/wp-content/uploads/2021/10/1634330204-71900895f520822.png?resize=700%2C519&amp;ssl=1 700w, https://web.archive.org/web/20211016150109im_/https://i1.wp.com/ndsmcobserver.com/wp-content/uploads/2021/10/1634330204-71900895f520822.png?w=726&amp;ssl=1 726w\" sizes=\"(max-width: 700px) 100vw, 700px\" data-recalc-dims=\"1\"/><span class=\"media-credit\">Valeria Ortiz | The Observer</span> </div>\n",
        "<figcaption class=\"wp-caption-text\">In a Wednesday panel, community activists encouraged the University to give to local Black-owned businesses to support inclusion and business growth.</figcaption></figure>\n",
        "<p>The panelists offered their experiences and recommendations toward a stronger future for civil rights within the local community. They called for action to combat systemic racism — a historical pattern of denying opportunity to fair education, health and housing opportunities in South Bend.</p>\n",
        "<p>“He who wins the war gets to tell the story, so now we believe it all right. Here we are today seeing how that history gets uncovered,” Williams-Preston said.</p>\n",
        "<p>For more than a century, Tardy explained, African Americans have been moving to the north with the intention of looking for jobs after the Great Migration.</p>\n",
        "<p>“We have about 27% of [the] African American population,” Tardy said.</p>\n",
        "<p>However, the promise of labor has quickly shifted to the lack of job opportunities for people of color.</p>\n",
        "<p>“A lot of the families are having difficulty getting places to stay where there is some sort of consistency,” Tardy said.</p>\n",
        "<p>As mentioned in the panel, South Bend’s eviction rate is three times the national average. Low wages, prejudiced state policies and lack of affordable housing are the three main explanations for the city’s drastic increase in evictions, Williams Preston explained — and many citizens being displaced are people of color.</p>\n",
        "<p>In addition to the struggles people of color face in finding jobs, Robinson said the systematic racism that exists won’t let these communities break out of that endless loop of neglect.</p>\n",
        "<p>Panelists then discussed the ongoing disparities in the racial education gap, agreeing that the first step in improving the system is acknolwedging that there is an issue: Systematic racism leads to academic underperformance in children of color.</p>\n",
        "<p>“There exists a systematic problem … Black children don’t have less capabilities; the system is against them,” Williams-Preston said.</p>\n",
        "<p>Tardy emphasized the importance of educational resources and of having a strong focus on elementary schools where foundational skills are taught, such as reading and writing. He also stressed increasing accessibility of mental health resources.</p>\n",
        "<p>Robinson spoke of the need for reliable institutions in the education system.</p>\n",
        "<p>“We should hold corporations accountable for educating our children and for acknowledging the things that are not working,” Robinson said.</p>\n",
        "<p>Black-owned businesses struggle to grow because of the lack of support from big institutions and Indiana’s state government, Williams-Preston said.</p>\n",
        "<p>“It’s killing us,” she said.</p>\n",
        "<p>Williams-Preston said young people of color, including students, entrepreneurs and members of the community, are leaving South Bend due to a lack of opportunity.</p>\n",
        "<p>There is also space for improvement in the community of Notre Dame in eradicating “nepotism and favoritism,” Williams-Preston said. She argued that Notre Dame should support Black community efforts in “mining [their] gold” from the Westside Black communities in order to make them feel more connected.</p>\n",
        "<p>Panelists also suggested efforts to improve cooperation between local businesses and Notre Dame, including direct funding from the University in supporting local small Black-owned businesses. Efforts such as these, Williams-Preston explained, would provide much-needed space for business growth, talent training and inclusion within the community.</p>\n",
        "<p>“If we can do that, we won’t even be the first, but that’s the kind of thing Notre Dame needs to invest in &#8230; committing to becoming a leader in this community by investing in cooperative businesses right here at home,” Williams-Preston said.</p>\n",
        "<span class=\"tags\">Tags: <a href=\"https://web.archive.org/web/20211016150109/https://ndsmcobserver.com/tag/activism/\" rel=\"tag\">activism</a>, <a href=\"https://web.archive.org/web/20211016150109/https://ndsmcobserver.com/tag/black-lives-matter/\" rel=\"tag\">Black lives matter</a>, <a href=\"https://web.archive.org/web/20211016150109/https://ndsmcobserver.com/tag/black-owned-businesses/\" rel=\"tag\">black-owned businesses</a>, <a href=\"https://web.archive.org/web/20211016150109/https://ndsmcobserver.com/tag/civil-rights/\" rel=\"tag\">Civil Rights</a>, <a href=\"https://web.archive.org/web/20211016150109/https://ndsmcobserver.com/tag/south-bend/\" rel=\"tag\">South Bend</a>, <a href=\"https://web.archive.org/web/20211016150109/https://ndsmcobserver.com/tag/systemic-racism/\" rel=\"tag\">systemic racism</a></p>\n",
        "</div> \n",
        "</article> \n",
        "```\n",
        "\n",
        "From taking a look at the page source, we can see `<div class=\"content-header\">` that marks the article title and `<div class=\"content-body\">` that marks the start of the article text. And we can use a `Control-F`/`Command-F` search to see that the `content-body` class appears only once in the page. This means we can use `.find()` to extract this section of the page."
      ],
      "metadata": {
        "id": "zn-_C0cGMaOb"
      }
    },
    {
      "cell_type": "code",
      "source": [
        "# isolate HTML with content-body class\n",
        "article = soup.find(class_ = \"content-body\")\n",
        "\n",
        "# show article HTML\n",
        "article"
      ],
      "metadata": {
        "id": "xUQkN7pIMcoi"
      },
      "execution_count": null,
      "outputs": []
    },
    {
      "cell_type": "markdown",
      "source": [
        "Now we have the section of HTML with the article text isolated.\n",
        "\n",
        "```HTML\n",
        "<p>The Notre Dame Initiative on Race and Resilience hosted a panel Wednesday in DeBartolo Hall on Black civil rights in South Bend, featuring some of South Bend’s prominent community leaders.</p>\n",
        "<p>The panel, which intended to explore the immense social inequalities facing South Bend’s Black residents, included Trina Robinson, president of NAACP-South Bend; Regina Williams-Preston, president of Community Action for Education and former South Bend Common Council representative; Jorden Giger, co-founder of Black Lives Matter South Bend and Deacon Mel Tardy, deacon of St. Augustine Parish and an advising faculty at the University.</p>\n",
        "<figure id=\"attachment_234452\" class=\"wp-caption aligncenter\" style=\"width: 700px\"> <div class=\"media-credit-container aligncenter\" style=\"max-width: 710px\">\n",
        "<img data-attachment-id=\"234452\" data-permalink=\"https://ndsmcobserver.com/2021/10/south-bend-community-leaders-discuss-role-of-notre-dame-in-fight-for-black-civil-rights/screen-shot-2021-10-15-at-8-36-39-pm/\" data-orig-file=\"https://i1.wp.com/ndsmcobserver.com/wp-content/uploads/2021/10/1634330204-71900895f520822.png?fit=726%2C538&amp;ssl=1\" data-orig-size=\"726,538\" data-comments-opened=\"1\" data-image-meta=\"{&quot;aperture&quot;:&quot;0&quot;,&quot;credit&quot;:&quot;&quot;,&quot;camera&quot;:&quot;&quot;,&quot;caption&quot;:&quot;&quot;,&quot;created_timestamp&quot;:&quot;0&quot;,&quot;copyright&quot;:&quot;&quot;,&quot;focal_length&quot;:&quot;0&quot;,&quot;iso&quot;:&quot;0&quot;,&quot;shutter_speed&quot;:&quot;0&quot;,&quot;title&quot;:&quot;&quot;,&quot;orientation&quot;:&quot;0&quot;}\" data-image-title=\"Screen Shot 2021-10-15 at 8.36.39 PM\" data-image-description=\"\" data-medium-file=\"https://i1.wp.com/ndsmcobserver.com/wp-content/uploads/2021/10/1634330204-71900895f520822.png?fit=700%2C519&amp;ssl=1\" data-large-file=\"https://i1.wp.com/ndsmcobserver.com/wp-content/uploads/2021/10/1634330204-71900895f520822.png?fit=700%2C519&amp;ssl=1\" class=\"wp-image-234452 size-medium\" src=\"https://i1.wp.com/ndsmcobserver.com/wp-content/uploads/2021/10/1634330204-71900895f520822.png?resize=700%2C519&#038;ssl=1\" alt=\"\" width=\"700\" height=\"519\" srcset=\"https://i1.wp.com/ndsmcobserver.com/wp-content/uploads/2021/10/1634330204-71900895f520822.png?resize=700%2C519&amp;ssl=1 700w, https://i1.wp.com/ndsmcobserver.com/wp-content/uploads/2021/10/1634330204-71900895f520822.png?w=726&amp;ssl=1 726w\" sizes=\"(max-width: 700px) 100vw, 700px\" data-recalc-dims=\"1\" /><span class=\"media-credit\">Valeria Ortiz | The Observer</span> </div>\n",
        "<figcaption class=\"wp-caption-text\">In a Wednesday panel, community activists encouraged the University to give to local Black-owned businesses to support inclusion and business growth.</figcaption></figure>\n",
        "<p>The panelists offered their experiences and recommendations toward a stronger future for civil rights within the local community. They called for action to combat systemic racism — a historical pattern of denying opportunity to fair education, health and housing opportunities in South Bend.</p>\n",
        "<p>“He who wins the war gets to tell the story, so now we believe it all right. Here we are today seeing how that history gets uncovered,” Williams-Preston said.</p>\n",
        "```\n",
        "\n",
        "The next step is to create a list-like object with the sections of text that make up the article. For this web page, those sections are marked by paragraph (`<p>`) tags. We can use `.find_all(\"p\")` to create a list-like object with each `<p>` tag's content as a list item."
      ],
      "metadata": {
        "id": "LXR1qZqiMeMi"
      }
    },
    {
      "cell_type": "code",
      "source": [
        "# isolate paragraph tags\n",
        "paragraphs = article.find_all(\"p\")"
      ],
      "metadata": {
        "id": "oBFTTlgEMe1v"
      },
      "execution_count": null,
      "outputs": []
    },
    {
      "cell_type": "markdown",
      "source": [
        "The last step is to use a `for` loop to iterate over each paragraph in `article_paragraphs`, and use `.contents[]` to extract the paragraph contents and append it to a list. Since the output of `BeautifulSoup`'s `.contents[]` command is still a `BeautifulSoup` object type, we can use the `str()` function to convert the value to a string before appending it to a list."
      ],
      "metadata": {
        "id": "G1SuLdtCMftr"
      }
    },
    {
      "cell_type": "code",
      "source": [
        "# create empty list for paragraphs\n",
        "paragraph_list = []\n",
        "\n",
        "# for loop that removes HTML markup for each paragraph or instance of \"p\" tag\n",
        "for paragraph in paragraphs:\n",
        "    paragraph_list.append(str(paragraph.contents[0]))\n",
        "    \n",
        "# show list of plain-text paragraphs\n",
        "paragraph_list"
      ],
      "metadata": {
        "id": "L0TjEXInMgkf"
      },
      "execution_count": null,
      "outputs": []
    },
    {
      "cell_type": "markdown",
      "source": [
        "Now that we have a working program, we could write each paragraph to a newly-created `.txt` file."
      ],
      "metadata": {
        "id": "CHcbLHfRMhK6"
      }
    },
    {
      "cell_type": "code",
      "source": [
        "# create new txt file\n",
        "f = open(\"output.txt\", \"a\")\n",
        "\n",
        "# for loop that removes HTML markup for each paragraph or instance of \"p\" tag\n",
        "for paragraph in paragraph_list:\n",
        "    text = str(paragraph.contents[0])\n",
        "    f.write(text)"
      ],
      "metadata": {
        "id": "awJv67e-Mh02"
      },
      "execution_count": null,
      "outputs": []
    },
    {
      "cell_type": "markdown",
      "source": [
        "We could also combine the `paragraph.contents[0]` `for` loop program with the `for` loop that writes content to a `.txt` file. What that might look like:"
      ],
      "metadata": {
        "id": "LcKFwYLhMihb"
      }
    },
    {
      "cell_type": "code",
      "source": [
        "with open(\"output.txt\", \"a\") as f: # with statement that creates new txt file in append mode\n",
        "\tfor paragraph in paragraphs: # for loop that removes HTML markup for each paragraph and writes to txt file\n",
        "\t\tf.write(str(paragraph.contents[0]))\n",
        "\t\tf.write(\"\\n\") # newline after each paragraph"
      ],
      "metadata": {
        "id": "ySuYSQADMjWa"
      },
      "execution_count": null,
      "outputs": []
    },
    {
      "cell_type": "markdown",
      "source": [
        "Putting that all together:"
      ],
      "metadata": {
        "id": "-EBv3rAAMkyf"
      }
    },
    {
      "cell_type": "code",
      "source": [
        "import requests # import requests\n",
        "from bs4 import BeautifulSoup # import beautifulsoup\n",
        "\n",
        "page = requests.get(\"https://web.archive.org/web/20211016150109/https://ndsmcobserver.com/2021/10/south-bend-community-leaders-discuss-role-of-notre-dame-in-fight-for-black-civil-rights/\") # get page\n",
        "\n",
        "soup = BeautifulSoup(page.text, 'html.parser') # create BeautifulSoup object\n",
        "\n",
        "article = soup.find(class_ = \"content-body\") # isolate HTML with content-body class\n",
        "\n",
        "paragraphs = article.find_all(\"p\") # isolate paragraph tags\n",
        "\n",
        "with open(\"output.txt\", \"a\") as f: # with statement that creates new txt file in append mode\n",
        "\tfor paragraph in paragraphs: # for loop that removes HTML markup for each paragraph and writes to txt file\n",
        "\t\tf.write(str(paragraph.contents[0]))\n",
        "\t\tf.write(\"\\n\") # newline after each paragraph"
      ],
      "metadata": {
        "id": "iKm99x9rMlnU"
      },
      "execution_count": 1,
      "outputs": []
    },
    {
      "cell_type": "markdown",
      "source": [
        "## Application\n",
        "\n",
        "<table>\n",
        " <tr><td>\n",
        "<img src=\"https://elearn.southampton.ac.uk/wp-content/blogs.dir/sites/64/2021/04/PanPan.png\" alt=\"Panopto logo\" width=\"50\"/></td>\n",
        "  <td><a href=\"https://notredame.hosted.panopto.com/Panopto/Pages/Viewer.aspx?id=ee5be045-9655-4f34-a03e-af36017356f3\">Lab Notebook Question 8</a></td>\n",
        "  </tr>\n",
        "  </table>\n",
        "\n",
        "Q8A: Select another web page that includes unstructured text. From looking at the public web page, what text do you want to scrape from this web page (i.e. specific sections, multiple paragraphs, etc.)?\n",
        "\n",
        "A few places to start for unstructured text:\n",
        "- [The Observer!](https://ndsmcobserver.com) (or another news publication of your choosing)\n",
        "- [WikiSource](https://en.wikisource.org/wiki/Main_Page)(a library of texts that are not covered by copyright)\n",
        "  * [U.S. Presidential State of the Union Addresses](https://en.wikisource.org/wiki/Portal:State_of_the_Union_Speeches_by_United_States_Presidents)\n",
        "  * [U.S. Presidential Inaugural Speeches](https://en.wikisource.org/wiki/Portal:Inaugural_Speeches_by_United_States_Presidents)\n",
        "- [Project Gutenberg](https://www.gutenberg.org) (a library of literary works or texts that are not covered by copyright)\n",
        "\n",
        "Q8B: Take a look at the HTML for this page. What tags or other HTML components do you see around the section of the page you want to work with? For this question, we're thinking about how we will end up writing a program with `BeautifulSoup` to isolate a section of the web page.\n",
        "\n",
        "Q8C: Develop an outline for a Python program that scrapes unstructured text from the web page you selected. \n",
        "\n",
        "A preliminary workflow:\n",
        "- Load URL and create BeautifulSoup object\n",
        "- Isolate section of HTML with your text (either directly or extract from list)\n",
        "- IF NEEDED: Isolate text elements (create list where each element is a section of text)\n",
        "- IF NEEDED: Extract text contents (isolate text from each section/paragraph)\n",
        "- Write text to TXT file\n",
        "\n",
        "NOTE: You do not need to have working code for all components of this program. That's where we're heading with the final project. At this point, we're focusing on the conceptual framework for the web scraping program. Start to build out code where you can, but think about the programming version of outlining a paper.\n",
        "\n",
        "Q8D: What challenges or roadblocks did you face working on Q8C? What parts of the program do you understand/feel ready to develop at this point? What parts of the program are less clear?\n"
      ],
      "metadata": {
        "id": "_8jMpzT7Mrgo"
      }
    },
    {
      "cell_type": "markdown",
      "source": [
        "## Oh, the Places You Could Go\n",
        "\n",
        "<table>\n",
        " <tr><td>\n",
        "<img src=\"https://elearn.southampton.ac.uk/wp-content/blogs.dir/sites/64/2021/04/PanPan.png\" alt=\"Panopto logo\" width=\"50\"/></td>\n",
        "  <td><a href=\"https://notredame.hosted.panopto.com/Panopto/Pages/Viewer.aspx?id=b27a90ce-1247-4f24-bf63-af3601737891\">Oh the Places You Could Go</a></td>\n",
        "  </tr>\n",
        "  </table>\n",
        "\n",
        "Once we have a `.txt` file, we could use Python to generate a list of words used in the article.\n"
      ],
      "metadata": {
        "id": "5ZdRvNRDMskD"
      }
    },
    {
      "cell_type": "code",
      "source": [
        "# load file\n",
        "text = open(\"output.txt\", 'r')\n",
        "\n",
        "# read file to string\n",
        "text = text.read()\n",
        "\n",
        "# create list of words\n",
        "wordlist = text.split()\n",
        "\n",
        "# show first 120 words in wordlist\n",
        "print((wordlist[0:120]))"
      ],
      "metadata": {
        "colab": {
          "base_uri": "https://localhost:8080/"
        },
        "id": "S0069_-bMtkX",
        "outputId": "41505bb8-600e-4ffa-c13d-51a382928419"
      },
      "execution_count": 2,
      "outputs": [
        {
          "output_type": "stream",
          "name": "stdout",
          "text": [
            "['The', 'Notre', 'Dame', 'Initiative', 'on', 'Race', 'and', 'Resilience', 'hosted', 'a', 'panel', 'Wednesday', 'in', 'DeBartolo', 'Hall', 'on', 'Black', 'civil', 'rights', 'in', 'South', 'Bend,', 'featuring', 'some', 'of', 'South', 'Bend’s', 'prominent', 'community', 'leaders.', 'The', 'panel,', 'which', 'intended', 'to', 'explore', 'the', 'immense', 'social', 'inequalities', 'facing', 'South', 'Bend’s', 'Black', 'residents,', 'included', 'Trina', 'Robinson,', 'president', 'of', 'NAACP-South', 'Bend;', 'Regina', 'Williams-Preston,', 'president', 'of', 'Community', 'Action', 'for', 'Education', 'and', 'former', 'South', 'Bend', 'Common', 'Council', 'representative;', 'Jorden', 'Giger,', 'co-founder', 'of', 'Black', 'Lives', 'Matter', 'South', 'Bend', 'and', 'Deacon', 'Mel', 'Tardy,', 'deacon', 'of', 'St.', 'Augustine', 'Parish', 'and', 'an', 'advising', 'faculty', 'at', 'the', 'University.', 'The', 'panelists', 'offered', 'their', 'experiences', 'and', 'recommendations', 'toward', 'a', 'stronger', 'future', 'for', 'civil', 'rights', 'within', 'the', 'local', 'community.', 'They', 'called', 'for', 'action', 'to', 'combat', 'systemic', 'racism', '—', 'a']\n"
          ]
        }
      ]
    },
    {
      "cell_type": "markdown",
      "source": [
        "Then, we could use the list of words `wordlist` to count term frequency."
      ],
      "metadata": {
        "id": "S9WTUisiMulh"
      }
    },
    {
      "cell_type": "code",
      "source": [
        "# create empty list for word frequency\n",
        "wordfreq = []\n",
        "\n",
        "# append number of word appearanes to wordfreq list\n",
        "for word in wordlist:\n",
        "    wordfreq.append(wordlist.count(word))\n",
        "    \n",
        "# create nested list or lists with sublists that include word and number of appearances\n",
        "str(list(zip(wordlist, wordfreq)))"
      ],
      "metadata": {
        "colab": {
          "base_uri": "https://localhost:8080/",
          "height": 107
        },
        "id": "sB5_5vyOMvqu",
        "outputId": "e55f881a-a5aa-4434-d1fb-94531c2a2056"
      },
      "execution_count": 3,
      "outputs": [
        {
          "output_type": "execute_result",
          "data": {
            "text/plain": [
              "\"[('The', 3), ('Notre', 5), ('Dame', 4), ('Initiative', 1), ('on', 3), ('Race', 1), ('and', 16), ('Resilience', 1), ('hosted', 1), ('a', 8), ('panel', 1), ('Wednesday', 1), ('in', 18), ('DeBartolo', 1), ('Hall', 1), ('on', 3), ('Black', 6), ('civil', 2), ('rights', 2), ('in', 18), ('South', 8), ('Bend,', 1), ('featuring', 1), ('some', 2), ('of', 30), ('South', 8), ('Bend’s', 3), ('prominent', 1), ('community', 4), ('leaders.', 1), ('The', 3), ('panel,', 2), ('which', 1), ('intended', 1), ('to', 15), ('explore', 1), ('the', 34), ('immense', 1), ('social', 1), ('inequalities', 1), ('facing', 1), ('South', 8), ('Bend’s', 3), ('Black', 6), ('residents,', 1), ('included', 1), ('Trina', 1), ('Robinson,', 1), ('president', 2), ('of', 30), ('NAACP-South', 1), ('Bend;', 1), ('Regina', 1), ('Williams-Preston,', 1), ('president', 2), ('of', 30), ('Community', 1), ('Action', 1), ('for', 11), ('Education', 1), ('and', 16), ('former', 1), ('South', 8), ('Bend', 3), ('Common', 1), ('Council', 1), ('representative;', 1), ('Jorden', 1), ('Giger,', 1), ('co-founder', 1), ('of', 30), ('Black', 6), ('Lives', 1), ('Matter', 1), ('South', 8), ('Bend', 3), ('and', 16), ('Deacon', 1), ('Mel', 1), ('Tardy,', 1), ('deacon', 1), ('of', 30), ('St.', 1), ('Augustine', 1), ('Parish', 1), ('and', 16), ('an', 2), ('advising', 1), ('faculty', 1), ('at', 2), ('the', 34), ('University.', 1), ('The', 3), ('panelists', 1), ('offered', 1), ('their', 1), ('experiences', 1), ('and', 16), ('recommendations', 1), ('toward', 1), ('a', 8), ('stronger', 1), ('future', 1), ('for', 11), ('civil', 2), ('rights', 2), ('within', 2), ('the', 34), ('local', 3), ('community.', 2), ('They', 1), ('called', 1), ('for', 11), ('action', 1), ('to', 15), ('combat', 1), ('systemic', 1), ('racism', 3), ('—', 2), ('a', 8), ('historical', 1), ('pattern', 1), ('of', 30), ('denying', 1), ('opportunity', 1), ('to', 15), ('fair', 1), ('education,', 1), ('health', 2), ('and', 16), ('housing', 2), ('opportunities', 2), ('in', 18), ('South', 8), ('Bend.', 1), ('“He', 1), ('who', 1), ('wins', 1), ('the', 34), ('war', 1), ('gets', 2), ('to', 15), ('tell', 1), ('the', 34), ('story,', 1), ('so', 1), ('now', 1), ('we', 4), ('believe', 1), ('it', 1), ('all', 1), ('right.', 1), ('Here', 1), ('we', 4), ('are', 7), ('today', 1), ('seeing', 1), ('how', 1), ('that', 7), ('history', 1), ('gets', 2), ('uncovered,”', 1), ('Williams-Preston', 7), ('said.', 9), ('For', 1), ('more', 2), ('than', 1), ('a', 8), ('century,', 1), ('Tardy', 4), ('explained,', 2), ('African', 2), ('Americans', 1), ('have', 3), ('been', 1), ('moving', 1), ('to', 15), ('the', 34), ('north', 1), ('with', 1), ('the', 34), ('intention', 1), ('of', 30), ('looking', 1), ('for', 11), ('jobs', 1), ('after', 1), ('the', 34), ('Great', 1), ('Migration.', 1), ('“We', 2), ('have', 3), ('about', 1), ('27%', 1), ('of', 30), ('[the]', 1), ('African', 2), ('American', 1), ('population,”', 1), ('Tardy', 4), ('said.', 9), ('However,', 1), ('the', 34), ('promise', 1), ('of', 30), ('labor', 1), ('has', 1), ('quickly', 1), ('shifted', 1), ('to', 15), ('the', 34), ('lack', 4), ('of', 30), ('job', 1), ('opportunities', 2), ('for', 11), ('people', 4), ('of', 30), ('color.', 3), ('“A', 1), ('lot', 1), ('of', 30), ('the', 34), ('families', 1), ('are', 7), ('having', 2), ('difficulty', 1), ('getting', 1), ('places', 1), ('to', 15), ('stay', 1), ('where', 2), ('there', 2), ('is', 6), ('some', 2), ('sort', 1), ('of', 30), ('consistency,”', 1), ('Tardy', 4), ('said.', 9), ('As', 1), ('mentioned', 1), ('in', 18), ('the', 34), ('panel,', 2), ('South', 8), ('Bend’s', 3), ('eviction', 1), ('rate', 1), ('is', 6), ('three', 2), ('times', 1), ('the', 34), ('national', 1), ('average.', 1), ('Low', 1), ('wages,', 1), ('prejudiced', 1), ('state', 2), ('policies', 1), ('and', 16), ('lack', 4), ('of', 30), ('affordable', 1), ('housing', 2), ('are', 7), ('the', 34), ('three', 2), ('main', 1), ('explanations', 1), ('for', 11), ('the', 34), ('city’s', 1), ('drastic', 1), ('increase', 1), ('in', 18), ('evictions,', 1), ('Williams', 1), ('Preston', 1), ('explained', 1), ('—', 2), ('and', 16), ('many', 1), ('citizens', 1), ('being', 1), ('displaced', 1), ('are', 7), ('people', 4), ('of', 30), ('color.', 3), ('In', 1), ('addition', 1), ('to', 15), ('the', 34), ('struggles', 1), ('people', 4), ('of', 30), ('color', 1), ('face', 1), ('in', 18), ('finding', 1), ('jobs,', 1), ('Robinson', 3), ('said', 2), ('the', 34), ('systematic', 2), ('racism', 3), ('that', 7), ('exists', 2), ('won’t', 2), ('let', 1), ('these', 1), ('communities', 2), ('break', 1), ('out', 1), ('of', 30), ('that', 7), ('endless', 1), ('loop', 1), ('of', 30), ('neglect.', 1), ('Panelists', 2), ('then', 1), ('discussed', 1), ('the', 34), ('ongoing', 1), ('disparities', 1), ('in', 18), ('the', 34), ('racial', 1), ('education', 2), ('gap,', 1), ('agreeing', 1), ('that', 7), ('the', 34), ('first', 1), ('step', 1), ('in', 18), ('improving', 1), ('the', 34), ('system', 2), ('is', 6), ('acknolwedging', 1), ('that', 7), ('there', 2), ('is', 6), ('an', 2), ('issue:', 1), ('Systematic', 1), ('racism', 3), ('leads', 1), ('to', 15), ('academic', 1), ('underperformance', 1), ('in', 18), ('children', 3), ('of', 30), ('color.', 3), ('“There', 1), ('exists', 2), ('a', 8), ('systematic', 2), ('problem', 1), ('…', 2), ('Black', 6), ('children', 3), ('don’t', 1), ('have', 3), ('less', 1), ('capabilities;', 1), ('the', 34), ('system', 2), ('is', 6), ('against', 1), ('them,”', 1), ('Williams-Preston', 7), ('said.', 9), ('Tardy', 4), ('emphasized', 1), ('the', 34), ('importance', 1), ('of', 30), ('educational', 1), ('resources', 1), ('and', 16), ('of', 30), ('having', 2), ('a', 8), ('strong', 1), ('focus', 1), ('on', 3), ('elementary', 1), ('schools', 1), ('where', 2), ('foundational', 1), ('skills', 1), ('are', 7), ('taught,', 1), ('such', 2), ('as', 2), ('reading', 1), ('and', 16), ('writing.', 1), ('He', 1), ('also', 3), ('stressed', 1), ('increasing', 1), ('accessibility', 1), ('of', 30), ('mental', 1), ('health', 2), ('resources.', 1), ('Robinson', 3), ('spoke', 1), ('of', 30), ('the', 34), ('need', 1), ('for', 11), ('reliable', 1), ('institutions', 2), ('in', 18), ('the', 34), ('education', 2), ('system.', 1), ('“We', 2), ('should', 2), ('hold', 1), ('corporations', 1), ('accountable', 1), ('for', 11), ('educating', 1), ('our', 1), ('children', 3), ('and', 16), ('for', 11), ('acknowledging', 1), ('the', 34), ('things', 1), ('that', 7), ('are', 7), ('not', 1), ('working,”', 1), ('Robinson', 3), ('said.', 9), ('Black-owned', 2), ('businesses', 3), ('struggle', 1), ('to', 15), ('grow', 1), ('because', 1), ('of', 30), ('the', 34), ('lack', 4), ('of', 30), ('support', 2), ('from', 3), ('big', 1), ('institutions', 2), ('and', 16), ('Indiana’s', 1), ('state', 2), ('government,', 1), ('Williams-Preston', 7), ('said.', 9), ('“It’s', 1), ('killing', 1), ('us,”', 1), ('she', 1), ('said.', 9), ('Williams-Preston', 7), ('said', 2), ('young', 1), ('people', 4), ('of', 30), ('color,', 1), ('including', 2), ('students,', 1), ('entrepreneurs', 1), ('and', 16), ('members', 1), ('of', 30), ('the', 34), ('community,', 1), ('are', 7), ('leaving', 1), ('South', 8), ('Bend', 3), ('due', 1), ('to', 15), ('a', 8), ('lack', 4), ('of', 30), ('opportunity.', 1), ('There', 1), ('is', 6), ('also', 3), ('space', 2), ('for', 11), ('improvement', 1), ('in', 18), ('the', 34), ('community', 4), ('of', 30), ('Notre', 5), ('Dame', 4), ('in', 18), ('eradicating', 1), ('“nepotism', 1), ('and', 16), ('favoritism,”', 1), ('Williams-Preston', 7), ('said.', 9), ('She', 1), ('argued', 1), ('that', 7), ('Notre', 5), ('Dame', 4), ('should', 2), ('support', 2), ('Black', 6), ('community', 4), ('efforts', 2), ('in', 18), ('“mining', 1), ('[their]', 1), ('gold”', 1), ('from', 3), ('the', 34), ('Westside', 1), ('Black', 6), ('communities', 2), ('in', 18), ('order', 1), ('to', 15), ('make', 1), ('them', 1), ('feel', 1), ('more', 2), ('connected.', 1), ('Panelists', 2), ('also', 3), ('suggested', 1), ('efforts', 2), ('to', 15), ('improve', 1), ('cooperation', 1), ('between', 1), ('local', 3), ('businesses', 3), ('and', 16), ('Notre', 5), ('Dame,', 1), ('including', 2), ('direct', 1), ('funding', 1), ('from', 3), ('the', 34), ('University', 1), ('in', 18), ('supporting', 1), ('local', 3), ('small', 1), ('Black-owned', 2), ('businesses.', 1), ('Efforts', 1), ('such', 2), ('as', 2), ('these,', 1), ('Williams-Preston', 7), ('explained,', 2), ('would', 1), ('provide', 1), ('much-needed', 1), ('space', 2), ('for', 11), ('business', 1), ('growth,', 1), ('talent', 1), ('training', 1), ('and', 16), ('inclusion', 1), ('within', 2), ('the', 34), ('community.', 2), ('“If', 1), ('we', 4), ('can', 1), ('do', 1), ('that,', 1), ('we', 4), ('won’t', 2), ('even', 1), ('be', 1), ('the', 34), ('first,', 1), ('but', 1), ('that’s', 1), ('the', 34), ('kind', 1), ('of', 30), ('thing', 1), ('Notre', 5), ('Dame', 4), ('needs', 1), ('to', 15), ('invest', 1), ('in', 18), ('…', 2), ('committing', 1), ('to', 15), ('becoming', 1), ('a', 8), ('leader', 1), ('in', 18), ('this', 1), ('community', 4), ('by', 1), ('investing', 1), ('in', 18), ('cooperative', 1), ('businesses', 3), ('right', 1), ('here', 1), ('at', 2), ('home,”', 1), ('Williams-Preston', 7), ('said.', 9)]\""
            ],
            "application/vnd.google.colaboratory.intrinsic+json": {
              "type": "string"
            }
          },
          "metadata": {},
          "execution_count": 3
        }
      ]
    },
    {
      "cell_type": "markdown",
      "source": [
        "Or, we could connect the terms and frequency count using a dictionary's key-value pairs."
      ],
      "metadata": {
        "id": "y---2wWvM7cw"
      }
    },
    {
      "cell_type": "code",
      "source": [
        "# convert lists to dictionary using dictionary comprehension\n",
        "word_count = {wordlist[i]: wordfreq[i] for i in range(len(wordlist))}\n",
        "\n",
        "# show dictionary\n",
        "word_count"
      ],
      "metadata": {
        "id": "VEfpQFnpM9I6"
      },
      "execution_count": null,
      "outputs": []
    },
    {
      "cell_type": "markdown",
      "source": [
        "With normalized textual data, we could use Python to do things like:\n",
        "- count word frequency\n",
        "  * William J. Turkel and Adam Crymble, \"Counting Word Frequencies with Python,\" The Programming Historian 1 (2012), https://programminghistorian.org/en/lessons/counting-frequencies.\n",
        "- analyze keywords in contact using n-grams\n",
        "  * William J. Turkel and Adam Crymble, \"Keywords in Context (Using n-grams) with Python,\" The Programming Historian 1 (2012), https://programminghistorian.org/en/lessons/keywords-in-context-using-n-grams.\n",
        "\n",
        "Why go to all this  trouble? Computational text analysis or other kinds of natural language processing allow us to see patterns and detect change over time in large bodies of textual materials.\n",
        "\n",
        "A few projects that do this with speeches given by U.S. presidents:\n",
        "- [Google News Lab's Inaugurate project](http://inauguratespeeches.com/) that looks at the subjects of inauguration speeches\n",
        "- [\"The Language of the State of the Union,\"](https://www.theatlantic.com/politics/archive/2015/01/the-language-of-the-state-of-the-union/384575/) an interactive project from the *Atlantic*'s Ben Schmidt and Mitch Fraas that \"reveals how the words presidents use reflect the twists and turns of American history\"\n",
        "- [\"Mapping the State of the Union,\"](https://www.theatlantic.com/politics/archive/2015/01/mapping-the-state-of-the-union/384576/), also from Schmidt and Fraas, that \"shows the 1,410 different spots on the globe presidents have referenced in 224 speeches\""
      ],
      "metadata": {
        "id": "ARTtnAa5MxDg"
      }
    },
    {
      "cell_type": "markdown",
      "source": [
        "# Why did we do this?\n",
        "\n",
        "<table>\n",
        " <tr><td>\n",
        "<img src=\"https://elearn.southampton.ac.uk/wp-content/blogs.dir/sites/64/2021/04/PanPan.png\" alt=\"Panopto logo\" width=\"50\"/></td>\n",
        "  <td><a href=\"https://notredame.hosted.panopto.com/Panopto/Pages/Viewer.aspx?id=30d2c0df-f48c-466a-bfa8-af3601739408\">Why Did We Do This</a></td>\n",
        "  </tr>\n",
        "  </table>\n",
        "\n",
        "At this point, your brain probably hurts. Mine does. Why go to all the trouble of building a Python program when we could just copy and paste the text from an *Observer* article into a `.txt` file, or copy and paste data from Sports Reference into an Excel file or Google Sheet document? Why write a program when we could just remove the markup ourselves through manual data manipulation?\n",
        "\n",
        "That's a fair question.\n",
        "\n",
        "Scientific disciplines value research that can be reproduced and replicated. A 2013 editorial in *PLOS Computational Biology* outlines the value of reproducible computational research:\n",
        "<blockquote>\"The importance of replication and reproducibility has recently been exemplified through studies showing that scientific papers commonly leave out experimental details essential for reproduction, studies showing difficulties with replicating published experimental results, an increase in retracted papers, and through a high number of failing clinical trials.\n",
        "<br>\n",
        "<br>\"We want to emphasize that reproducibility is not only a moral responsibility with respect to the scientific field, but that a lack of reproducibility can also be a burden for you as an individual researcher. As an example, a good practice of reproducibility is necessary in order to allow previously developed methodology to be effectively applied on new data, or to allow reuse of code and results for new projects. In other words, good habits of reproducibility may actually turn out to be a time-saver in the longer run.\n",
        "<br>\n",
        "<br>\"We further note that reproducibility is just as much about the habits that ensure reproducible research as the technologies that can make these processes efficient and realistic.\"\n",
        "<br>\n",
        "<br>\n",
        "<em>Sandve GK, Nekrutenko A, Taylor J, Hovig E (2013) Ten Simple Rules for Reproducible Computational Research. PLOS Computational Biology 9(10): e1003285. https://doi.org/10.1371/journal.pcbi.1003285.</em></blockquote>\n",
        "\n",
        "Manually wrangling or manipulating data makes it difficult for colleagues (and future you) to understand how you got from point A to point B with your data. It also increases the likelihood of human error. In the *PLOS Computational Biology* article, one of the ten rules the authors outline is \"Avoid Manual Data Manipulation Steps.\" The Python workflows we're covering in this lab move in the direction of automating the data scraping/manipulation process, creating a template or workflow others could implement or adapt. \n"
      ],
      "metadata": {
        "id": "2zEJogicMyX4"
      }
    },
    {
      "cell_type": "markdown",
      "source": [
        "# Lab Notebook Questions\n",
        "\n",
        "[Click here](https://colab.research.google.com/drive/1-2ahHpMdSzYFSVLnZGfldEoAuyRs5wj7?usp=sharing) to access the lab notebook template as a Jupyter Notebook (Google Colab, ND Users).\n",
        "\n",
        "Q1: Describe the general approach to loading a web page in Python using `requests` and isolating the section of HTML you need using `BeautifulSoup`. What are the basic steps involved in this workflow, thinking about what happens at the start of the program to isolate the section of HTML you would need to do further work with to extract the data you want to work with?\n",
        "\n",
        "Q2A: Select another Wikipedia page that includes a table. From looking at the public web page, what data do you want to scrape from this web page (i.e. specific table, multiple tables, etc.)? What do you want the resulting data structure to look like (columns, rows, etc)?\n",
        "\n",
        "Q2B: Take a look at the HTML for this page. What tags or other HTML components do you see around the section of the page you want to work with? For this question, we're thinking about how we will end up writing a program with <code>BeautifulSoup</code> to isolate a section of the web page.\n",
        "\n",
        "Q2C: Develop an outline for a Python program that scrapes data from the web page you selected. \n",
        "\n",
        "A preliminary workflow:\n",
        "- Load URL and create BeautifulSoup object\n",
        "- Isolate section of HTML with your table (either directly or extract from list)\n",
        "- Isolate table row elements (create list where each element is a table row)\n",
        "- Extract contents from row (isolate the pieces of information from each row)\n",
        "- Create Pandas DataFrame\n",
        "- Write extracted row contents to CSV file\n",
        "\n",
        "NOTE: You do not need to have working code for all components of this program. That's where we're heading with the final project. At this point, we're focusing on the conceptual framework for the web scraping program. Start to build out code where you can, but think about the programming version of outlining a paper.\n",
        "\n",
        "Q2D: What challenges or roadblocks did you face working on Q2C? What parts of the program do you understand/feel ready to develop at this point? What parts of the program are less clear?\n",
        "\n",
        "Q3: Describe in your own words how the url generation program covered in the previous section of the lab works. The full program is also included below. What is happening in the different program components?\n",
        "\n",
        "Q4: Select another Sports Reference web page that follows this pattern and write a program that generates a list of full URLs for that team/organization.\n",
        "\n",
        "A few places to start:\n",
        "- Baseball Reference season web pages have the following URL pattern:\n",
        "  * `https://www.baseball-reference.com/teams/`, `TEAM ABBREVIATION`, `SEASON`, `.shtml`\n",
        "- Basketball Reference season web pages have a similar pattern for NBA teams:\n",
        "  * `https://www.basketball-reference.com/teams/`, `TEAM ABBREVIATION`, `SEASON`, `.html`\n",
        "- Basketball Reference uses a slightly different pattern for its WNBA pages:\n",
        "  * `https://www.basketball-reference.com/wnba/teams`, `TEAM ABBREVIATION`, `SEASON`, `.html`\n",
        "- College Basketball Reference pages also follow a pattern: \n",
        "  * `https://www.sports-reference.com/cbb/schools`, `SCHOOL ABBREVIATION`, `SEASON`, `.html`\n",
        "- For Hockey Reference pages: \n",
        "  * `https://www.hockey-reference.com/teams/`, `TEAM ABBREVIATION`, `SEASON`, `.html`\n",
        "- Football Reference pages follow the same pattern for men's and women's teams:\n",
        "  * `https://fbref.com/en/squads/`, `SQUAD ID`, `SEASON`, `TEAM NAME`\n",
        "- Pro Football Reference pages also have a pattern: \n",
        "  * `https://www.pro-football-reference.com/teams/`, `TEAM ABBREVIATION`, `SEASON`, `.htm`\n",
        "\n",
        "NOTE: You DO NOT need to write a program that scrapes data from these pages for this question. The purpose of this question is to be able to programmatically generate a list of URLs that cover a date range. \n",
        "\n",
        "Q5: Describe the general approach to loading a web page in Python using `pd.read_html()`. What are the basic steps involved in this workflow, thinking about what happens to identify/isolate the specific table you want to work with?\n",
        "\n",
        "Q6: For Q4, you generated a list of Sports Reference URLs covering a time span for a specific team/organization. Select three years and web pages from that list- something early in the time period covered, something in the middle of the time period covered, and something toward the end of the time period covered. Do these pages have the same pattern in terms of number and order of tables? For one of these pages, what table or tables on these pages would you want to be able to extract and work with?\n",
        "\n",
        "Q7A: Develop an outline for a Python program that uses `pd.read_html()` to scrape data from one of the web pages you select in Q6.\n",
        "\n",
        "A preliminary workflow:\n",
        "- Use `pd.read_html()` to create a list of DataFrame objects\n",
        "- Identify which DataFrame object in the list is the table you want to work with\n",
        "- Isolate the list element to create a new DataFrame\n",
        "- Write the new DataFrame to a CSV file\n",
        "\n",
        "NOTE: For Q3, you did not need to have working code for all components of this program. Since `pd.read_html()` has an easier learning curve, let's see if we can flesh out more of this program. But if you run into problems, it's okay to focus on the conceptual framework for the web scraping program. Start to build out code where you can, but think about the programming version of outlining a paper.\n",
        "\n",
        "ANOTHER NOTE: For many Sports Reference pages, tables further down the page are buried in HTML comments. These tables will not show up when you use `pd.read_html()`. We can come back to these \"hidden tables\" in the final project, but for now, focus on the tables that do show up when you use `pd.read_html()`.\n",
        "\n",
        "Q7B: What challenges or roadblocks did you face working on Q7A? What parts of the program do you understand and/or were able to develop? What parts of the program are less clear?\n",
        "\n",
        "Q8A: Select another web page that includes unstructured text. From looking at the public web page, what text do you want to scrape from this web page (i.e. specific sections, multiple paragraphs, etc.)?\n",
        "\n",
        "A few places to start for unstructured text:\n",
        "- [The Observer!](https://ndsmcobserver.com) (or another news publication of your choosing)\n",
        "- [WikiSource](https://en.wikisource.org/wiki/Main_Page)(a library of texts that are not covered by copyright)\n",
        "  * [U.S. Presidential State of the Union Addresses](https://en.wikisource.org/wiki/Portal:State_of_the_Union_Speeches_by_United_States_Presidents)\n",
        "  * [U.S. Presidential Inaugural Speeches](https://en.wikisource.org/wiki/Portal:Inaugural_Speeches_by_United_States_Presidents)\n",
        "- [Project Gutenberg](https://www.gutenberg.org) (a library of literary works or texts that are not covered by copyright)\n",
        "\n",
        "Q8B: Take a look at the HTML for this page. What tags or other HTML components do you see around the section of the page you want to work with? For this question, we're thinking about how we will end up writing a program with `BeautifulSoup` to isolate a section of the web page.\n",
        "\n",
        "Q8C: Develop an outline for a Python program that scrapes unstructured text from the web page you selected. \n",
        "\n",
        "A preliminary workflow:\n",
        "- Load URL and create BeautifulSoup object\n",
        "- Isolate section of HTML with your text (either directly or extract from list)\n",
        "- IF NEEDED: Isolate text elements (create list where each element is a section of text)\n",
        "- IF NEEDED: Extract text contents (isolate text from each section/paragraph)\n",
        "- Write text to TXT file\n",
        "\n",
        "NOTE: You do not need to have working code for all components of this program. That's where we're heading with the final project. At this point, we're focusing on the conceptual framework for the web scraping program. Start to build out code where you can, but think about the programming version of outlining a paper.\n",
        "\n",
        "Q8D: What challenges or roadblocks did you face working on Q8C? What parts of the program do you understand/feel ready to develop at this point? What parts of the program are less clear?"
      ],
      "metadata": {
        "id": "YzXvLuFfM0cH"
      }
    },
    {
      "cell_type": "markdown",
      "source": [
        "# Final Project Next Steps\n",
        "\n",
        "<table>\n",
        " <tr><td>\n",
        "<img src=\"https://elearn.southampton.ac.uk/wp-content/blogs.dir/sites/64/2021/04/PanPan.png\" alt=\"Panopto logo\" width=\"50\"/></td>\n",
        "  <td><a href=\"https://notredame.hosted.panopto.com/Panopto/Pages/Viewer.aspx?id=5d0206a3-4f08-47da-9cd9-af360173b157\">Final Project Next Steps</a></td>\n",
        "  </tr>\n",
        "  </table>\n",
        "\n",
        "Our work in this lab is designed to lay the foundation and serve as a springboard for final project work. Specifically, Q2, Q7, and Q8 ask you to develop an outline for web scraping programs using `BeautifulSoup` and `pd.read_html()`. Those questions (and other work for this lab) are the starting place for the final project.\n",
        "\n",
        "The final project for this course involves a web-scraping project written in Python. Specifically, the final project allows you to select a web page (or web pages) and write a Python program (or programs) that downloads select content from that web page as a plain-text file (`.csv`, `.txt`, etc). That content could be paragraphs of text, tables of data, etc. \n",
        "\n",
        "Successful final projects will include two main components:\n",
        "- a well-documented, working Python program written in Jupyter Notebooks\n",
        "- a written reflection (minimum 300 words) that documents how you approached the final project/what you wanted to accomplish via the final project, resources consulted, how you handled challenges you encountered, key takeaways, etc.\n",
        "  * That reflection can come at the end of the Jupyter Notebook or be embedded throughout the Jupyter Notebook, if you want to approach authoring the notebook as a type of tutorial or \"report\".\n",
        "\n",
        "Expect to spend at least 10 hours working on the final project. That includes brainstorming, meeting with instructor/TAs, in-class work time, etc. If you’re working on a project that is not going to take that much time, think about how to add complexity or take on another smaller scale project.\n",
        "\n",
        "Contact the instructor with questions.\n",
        "\n",
        "So where to start? The instructor and TAs are going to move quickly on getting you feedback on this lab. But your work in Q2, Q7, and Q8 should be the starting place for how you think about and approach the final project. Specifically, think about the kinds of web content you were able to scrape for these questions and how you might further develop, refine, or expand your work.\n",
        "\n",
        "For example, these questions asked you to develop an outline for specific types of webscraping programs. \n",
        "- One next step for the final project could be selecting 1-2 of these programs and further developing or refining the code.\n",
        "- Another next step (especially if you were able to develop working programs for these questions) is to think about how you could expand or extend these workflows to multiple web pages or other web data sources.\n",
        "- A third option for next steps would involve thinking expansively about how you could apply the concepts and approaches covered in this lab to a different type of data source/structure. \n",
        "\n",
        "So in the interim, as you're waiting for feedback on this lab, think about where you could go next with expanding and extending your work in this lab, and start to flesh out or develop some of your own ideas about where you put your time and effort as you work on the final project.\n",
        "\n",
        "Contact the instructor with questions."
      ],
      "metadata": {
        "id": "Bhv_y7BuM1wd"
      }
    }
  ]
}