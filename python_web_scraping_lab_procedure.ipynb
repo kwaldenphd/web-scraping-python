{
  "nbformat": 4,
  "nbformat_minor": 0,
  "metadata": {
    "colab": {
      "provenance": [],
      "toc_visible": true,
      "authorship_tag": "ABX9TyPUHG9kIV5nYYblPqk+wYht",
      "include_colab_link": true
    },
    "kernelspec": {
      "name": "python3",
      "display_name": "Python 3"
    },
    "language_info": {
      "name": "python"
    }
  },
  "cells": [
    {
      "cell_type": "markdown",
      "metadata": {
        "id": "view-in-github",
        "colab_type": "text"
      },
      "source": [
        "<a href=\"https://colab.research.google.com/github/kwaldenphd/web-scraping-python/blob/main/python_web_scraping_lab_procedure.ipynb\" target=\"_parent\"><img src=\"https://colab.research.google.com/assets/colab-badge.svg\" alt=\"Open In Colab\"/></a>"
      ]
    },
    {
      "cell_type": "markdown",
      "source": [
        "# Web Scraping in Python\n",
        "\n",
        "<a href=\"http://creativecommons.org/licenses/by-nc/4.0/\" rel=\"license\"><img style=\"border-width: 0;\" src=\"https://i.creativecommons.org/l/by-nc/4.0/88x31.png\" alt=\"Creative Commons License\" /></a>This tutorial was written by Katherine Walden and is licensed under a <a href=\"http://creativecommons.org/licenses/by-nc/4.0/\" rel=\"license\">Creative Commons Attribution-NonCommercial 4.0 International License</a>."
      ],
      "metadata": {
        "id": "yDjc5aVCKc7E"
      }
    },
    {
      "cell_type": "markdown",
      "source": [
        "## Lab Overview\n",
        "\n",
        "This lab provides an introduction and overview to parsing HTML in Python using `beautifulsoup` and `pandas`.\n",
        "\n",
        "<table>\n",
        " <tr><td>\n",
        "<img src=\"https://elearn.southampton.ac.uk/wp-content/blogs.dir/sites/64/2021/04/PanPan.png\" alt=\"Panopto logo\" width=\"50\"/></td>\n",
        "  <td><a href=\"https://notredame.hosted.panopto.com/Panopto/Pages/Viewer.aspx?id=a11358d5-c0a6-4bf1-a405-af36017212dc\">Lab overview</a></td>\n",
        "  </tr>\n",
        "  </table>\n",
        "  \n",
        "<table>\n",
        " <tr><td>\n",
        "<img src=\"https://elearn.southampton.ac.uk/wp-content/blogs.dir/sites/64/2021/04/PanPan.png\" alt=\"Panopto logo\" width=\"50\"/></td>\n",
        "<td><a href=\"https://notredame.hosted.panopto.com/Panopto/Pages/Viewer.aspx?pid=05f99aec-b0ee-4816-b1e8-af3601753e5b\">Lecture/live coding playlist</a></td>\n",
        "  </tr>\n",
        "  </table>"
      ],
      "metadata": {
        "id": "f9U2qK15Kd1w"
      }
    },
    {
      "cell_type": "markdown",
      "source": [
        "## Acknowledgements\n",
        "\n",
        "The author consulted the following materials when building this lab:\n",
        "- Lisa Tagliaferri, \"How to Scrape Web Pages With Beautiful Soup and Python 3\" *Digital Ocean* (20 March 2019). https://www.digitalocean.com/community/tutorials/how-to-scrape-web-pages-with-beautiful-soup-and-python-3\n",
        "- Jeri Wieringa, \"Intro to Beautiful Soup,\" *The Programming Historian* 1 (2012), https://doi.org/10.46430/phen0008.\n",
        "- Martin Breuss, \"Beautiful Soup: Build a Web Scraper With Python\" *Real Python*. https://realpython.com/beautiful-soup-web-scraper-python/\n",
        "- DataQuest, \"Tutorial: Web Scraping With Python Using Beautiful Soup\" *DataQuest* (2 September 2020). https://www.dataquest.io/blog/web-scraping-tutorial-python/\n",
        "\n",
        "The introductory sections of this lab are based on and adapted from:\n",
        "- Lisa Tagliaferri, \"How to Scrape Web Pages With Beautiful Soup and Python 3\" *Digital Ocean* (20 March 2019). https://www.digitalocean.com/community/tutorials/how-to-scrape-web-pages-with-beautiful-soup-and-python-3"
      ],
      "metadata": {
        "id": "8Dk3Ra7ZKe3C"
      }
    },
    {
      "cell_type": "markdown",
      "source": [
        "## Lecture & Live Coding\n",
        "\n",
        "Throughout this lab, you will see a Panopto icon at the start of select sections.\n",
        "\n",
        "This icon indicates there is lecture/live coding asynchronous content that accompanies this section of the lab.\n",
        "\n",
        "You can click the link in the figure caption to access these materials (ND users only).\n",
        "\n",
        "Example:\n",
        "\n",
        "<table>\n",
        " <tr><td>\n",
        "<img src=\"https://elearn.southampton.ac.uk/wp-content/blogs.dir/sites/64/2021/04/PanPan.png\" alt=\"Panopto logo\" width=\"50\"/></td>\n",
        "  <td><a href=\"https://notredame.hosted.panopto.com/Panopto/Pages/Viewer.aspx?id=a11358d5-c0a6-4bf1-a405-af36017212dc\">Lab overview</a></td>\n",
        "  </tr>\n",
        "  </table>\n",
        "  \n",
        "<table>\n",
        " <tr><td>\n",
        "<img src=\"https://elearn.southampton.ac.uk/wp-content/blogs.dir/sites/64/2021/04/PanPan.png\" alt=\"Panopto logo\" width=\"50\"/></td>\n",
        "<td><a href=\"https://notredame.hosted.panopto.com/Panopto/Pages/Viewer.aspx?pid=05f99aec-b0ee-4816-b1e8-af3601753e5b\">Lecture/live coding playlist</a></td>\n",
        "  </tr>\n",
        "  </table>\n"
      ],
      "metadata": {
        "id": "wOszt-ToKgJE"
      }
    },
    {
      "cell_type": "markdown",
      "source": [
        "## Lab Notebook Template\n",
        "\n",
        "[Click here](https://colab.research.google.com/drive/1-2ahHpMdSzYFSVLnZGfldEoAuyRs5wj7?usp=sharing) to access the lab notebook template as a Jupyter Notebook (Google Colab, ND Users)."
      ],
      "metadata": {
        "id": "1Q3eaxz3Kh4N"
      }
    },
    {
      "cell_type": "markdown",
      "source": [
        "## How to submit this lab (and show your work)\n",
        "\n",
        "Moving forward, we're going to be submitting lab notebooks using Jupyter Notebook templates.\n",
        "- If working in JupyterLab (or another desktop IDE), download the `.ipynb` file to your local computer\n",
        "  * `File` - `Download` - `Download as .ipynb`\n",
        "- If working in Google Colaboratory, MAKE SURE you save a copy to your local drive. Otherwise your changes will not be saved.\n",
        "  * `File` - `Save a copy in Drive`\n",
        "\n",
        "The lab notebook template includes all of the questions as well as pre-created markdown cells for narrative text answers and pre-created code cells for any programs you may need to create.\n",
        "- Double click on these cells to edit and add your own content\n",
        "- If questions do not require a code component, you can ignore those cells\n",
        "- If questions to not require a narrative component, you can ignore those cells\n",
        "\n",
        "If working in JupyterLab or another desktop IDE, upload the lab notebook template `.ipynb` file to Canvas as your lab submission.\n",
        "\n",
        "If working in Google Colaboratory, submit the link to your notebook (checking sharing permissions, similar with Google Docs)."
      ],
      "metadata": {
        "id": "DkcV5vWIOQit"
      }
    },
    {
      "cell_type": "markdown",
      "source": [
        "# Beautiful Soup Overview\n",
        "\n",
        "<table>\n",
        " <tr><td>\n",
        "<img src=\"https://elearn.southampton.ac.uk/wp-content/blogs.dir/sites/64/2021/04/PanPan.png\" alt=\"Panopto logo\" width=\"50\"/></td>\n",
        "  <td><a href=\"https://notredame.hosted.panopto.com/Panopto/Pages/Viewer.aspx?id=7d13378f-8395-40b1-89d0-af3601723136\">Getting Started With Beautiful Soup</a></td>\n",
        "  </tr>\n",
        "  </table>"
      ],
      "metadata": {
        "id": "goiEA5JaKjf9"
      }
    },
    {
      "cell_type": "markdown",
      "source": [
        "## Introduction to Beautiful Soup\n",
        "\n",
        "What is Beautiful Soup? \"Beautiful Soup is a Python library for pulling data out of HTML and XML files. It works with your favorite parser to provide idiomatic ways of navigating, searching, and modifying the parse tree. It commonly saves programmers hours or days of work\" ([Beautiful Soup Documentation](https://www.crummy.com/software/BeautifulSoup/bs4/doc/)) The library name is an allusion to the song Lewis Carroll character the Mock Turtle sings in Chapter 10 of *Alice's Adventures in Wonderland*.\n",
        "\n",
        "`Beautiful Soup` uses the structure of markup language documents (i.e. HTML, XML, etc) to extract information we can work with in a Python programming environment. In this lab, we will be focusing on using `Beautiful Soup` to parse and scrape web pages built using HTML and CSS."
      ],
      "metadata": {
        "id": "U0mq0tj7KkqO"
      }
    },
    {
      "cell_type": "markdown",
      "source": [
        "## Installing Beautiful Soup\n",
        "\n",
        "We'll need to install a couple of libraries to be able to parse HTML with `BeautifulSoup`\n",
        "- `BeautifulSoup`: `pip install beautifulsoup4`\n",
        "- `lxml`: `pip install lxml`"
      ],
      "metadata": {
        "id": "K6Ea-Hy0Km6T"
      }
    },
    {
      "cell_type": "markdown",
      "source": [
        "## Loading URLs in Python\n",
        "\n",
        "We will be using the `requests` library to load URLs in Python. This library is already built into Python and does not require additional installation. Core syntax for using the `requests` library to load a URL:"
      ],
      "metadata": {
        "id": "7Ccap8fUKoSs"
      }
    },
    {
      "cell_type": "code",
      "source": [
        "# import requests\n",
        "import requests\n",
        "\n",
        "# load url using get requests.get() method\n",
        "page = requests.get('URL GOES HERE')"
      ],
      "metadata": {
        "id": "cX5cML-9Ko_c"
      },
      "execution_count": null,
      "outputs": []
    },
    {
      "cell_type": "markdown",
      "source": [
        "## Creating a Beautiful Soup Object\n",
        "\n",
        "Once we have a URL loaded in Python, we want to be able to use `BeautifulSoup` to parse the web page's HTML components. We can do that by creating a BeautifulSoup object. Core syntax:"
      ],
      "metadata": {
        "id": "k1LT75AhKp_W"
      }
    },
    {
      "cell_type": "code",
      "source": [
        "# import beautifulsoup\n",
        "from bs4 import BeautifulSoup\n",
        "\n",
        "# create beautifulsoup object\n",
        "soup = BeautifulSoup(page.text, 'html.parser')"
      ],
      "metadata": {
        "id": "wIygKkWRKrB_"
      },
      "execution_count": null,
      "outputs": []
    },
    {
      "cell_type": "markdown",
      "source": [
        "Putting that all together, the core syntax for loading a URL and creating a BeautifulSoup object:"
      ],
      "metadata": {
        "id": "obYx3XIaKtC8"
      }
    },
    {
      "cell_type": "code",
      "source": [
        "# import requests\n",
        "import requests\n",
        "\n",
        "# import beautifulsoup\n",
        "from bs4 import BeautifulSoup\n",
        "\n",
        "# load url using get requests.get() method\n",
        "page = requests.get('URL GOES HERE')\n",
        "\n",
        "# create beautiful soup object\n",
        "soup = BeautifulSoup(page.text, 'html.parser')"
      ],
      "metadata": {
        "id": "LUT6ZBMHKtyQ"
      },
      "execution_count": null,
      "outputs": []
    },
    {
      "cell_type": "markdown",
      "source": [
        "Now, we are ready to parse the web page's HTML using `BeautifulSoup`.\n",
        "\n",
        "# Beautiful Soup & Structured Data"
      ],
      "metadata": {
        "id": "iOX1IO8aKvCM"
      }
    },
    {
      "cell_type": "markdown",
      "source": [
        "## Concept Refresh\n",
        "\n",
        "\n",
        "<table>\n",
        " <tr><td>\n",
        "<img src=\"https://elearn.southampton.ac.uk/wp-content/blogs.dir/sites/64/2021/04/PanPan.png\" alt=\"Panopto logo\" width=\"50\"/></td>\n",
        "  <td><a href=\"https://notredame.hosted.panopto.com/Panopto/Pages/Viewer.aspx?id=a0385ece-2d22-4fd7-84a3-af36017254d6\">HTML & File Methods Refresh</a></td>\n",
        "  </tr>\n",
        "  </table>"
      ],
      "metadata": {
        "id": "xOUw0KkNKxKD"
      }
    },
    {
      "cell_type": "markdown",
      "source": [
        "### HTML Tables\n",
        "\n",
        "When using `BeautifulSoup`, we can isolate information on the webpage through interacting with the HTML syntax. HTML uses a few core tags for web pages that include tables.\n",
        "- `table` (marks the start and end of a table\n",
        "- `tbody` (marks the start and end of the table body)\n",
        "- `tr` (marks the start and end of each table row)\n",
        "- `th` (marks the start and end of each column in the first row of the table)\n",
        "- `td` (marks the start and end of each column after the first row of the table)\n",
        "\n",
        "How we might see those tags combined in a table structure:\n",
        "\n",
        "```HTML\n",
        "<table>\n",
        " <tr>\n",
        "  <th>First Column Header</th>\n",
        "  <th>Second Column Header</th>\n",
        "  <th>Third Column Header</th>\n",
        " </tr>\n",
        " <tr>\n",
        "  <td>Data in first column/first row</td>\n",
        "  <td>Data in second column/first row</td>\n",
        "  <td>Data in third column/first row</td>\n",
        " </tr>\n",
        " <tr>\n",
        "  <td>Data in first column/second row</td>\n",
        "  <td>Data in second column/second row</td>\n",
        "  <td>Data in third column/second row</td>\n",
        " </tr>\n",
        "</table>\n",
        "```\n",
        "\n",
        "The output of that HTML would look like:\n",
        "\n",
        "<table>\n",
        " <tr>\n",
        "  <th>First Column Header</th>\n",
        "  <th>Second Column Header</th>\n",
        "  <th>Third Column Header</th>\n",
        " </tr>\n",
        " <tr>\n",
        "  <td>Data in first column/first row</td>\n",
        "  <td>Data in second column/first row</td>\n",
        "  <td>Data in third column/first row</td>\n",
        " </tr>\n",
        " <tr>\n",
        "  <td>Data in first column/second row</td>\n",
        "  <td>Data in second column/second row</td>\n",
        "  <td>Data in third column/second row</td>\n",
        " </tr>\n",
        "</table>\n",
        "\n",
        "Additional attributes like `align`, `style`, etc. can be used with many of these tags. Some other tags that we might encounter when trying to parse HTML using `BeautifulSoup`:\n",
        "\n",
        "<table>\n",
        "    <tr>\n",
        "        <td>Name</td>\n",
        "        <td>Syntax</td>\n",
        "        <td>Description</td>\n",
        "    </tr>\n",
        "    <tr>\n",
        "        <td>Heading</td>\n",
        "        <td><code>h1, h2, h3, etc</code></td>\n",
        "            <td>HTML headings</td>\n",
        "            </tr>\n",
        "            <tr>\n",
        "                <td>Division</td>\n",
        "                <td><code>div</code></td>\n",
        "                <td>Defines sections or divisions in an HTML document</td>\n",
        "            </tr>\n",
        "            <tr>\n",
        "                <td>Paragraph</td>\n",
        "                <td><code>p</code></td>\n",
        "                <td>Defines paragraphs in an HTML document</td>\n",
        "            </tr>\n",
        "            <tr>\n",
        "                <td>Span</td>\n",
        "                <td><code>span</code></td>\n",
        "                <td>Defines a section in an HTML document</td>\n",
        "            </tr>\n",
        "            <tr>\n",
        "                <td>Unordered list</td>\n",
        "                <td><code>ul</code></td>\n",
        "                <td>Defines the start of an unordered list (followed by <code>li</code> tags)</td>\n",
        "            </tr>\n",
        "            <tr>\n",
        "                <td>Hyperlink</td>\n",
        "                <td><code>a</code></td>\n",
        "                    <td>Defines a hyperlink in an HTML document (followed by <code>href = \"URL\"</code>)</td>\n",
        "            </tr>\n",
        "            </table>\n",
        "\n",
        "\n",
        "For more detail on HTML and CSS:\n",
        "- [W3Schools HTML Tutorial](https://www.w3schools.com/html)\n",
        "- [W3Schools CSS Tutorial](https://www.w3schools.com/css)\n",
        "- [EoC HTML/CSS Lab](https://github.com/kwaldenphd/HTML-CSS/tree/EoC1-F20)"
      ],
      "metadata": {
        "id": "PgMlVKtAKzHA"
      }
    },
    {
      "cell_type": "markdown",
      "source": [
        "### File I/O\n",
        "\n",
        "As part of our work in this lab, we'll be saving the content we have scraped from a web page to a plain-text file (either `.txt` or `.csv`), focusing on...\n",
        "- `open()`\n",
        "- `write()`\n",
        "\n",
        "[Click here](https://github.com/kwaldenphd/python-structured-data#file-io--access-modes) to review file I/O and access modes in Python."
      ],
      "metadata": {
        "id": "Thy9C9-gK0SE"
      }
    },
    {
      "cell_type": "markdown",
      "source": [
        "## Using BeautifulSoup With a Single Web Page\n",
        "\n",
        "<table>\n",
        " <tr><td>\n",
        "<img src=\"https://elearn.southampton.ac.uk/wp-content/blogs.dir/sites/64/2021/04/PanPan.png\" alt=\"Panopto logo\" width=\"50\"/></td>\n",
        "  <td><a href=\"https://notredame.hosted.panopto.com/Panopto/Pages/Viewer.aspx?id=3ee96582-1e15-40e2-b31d-af3601727e35\">BeautifulSoup and a Single Web page</a></td>\n",
        "  </tr>\n",
        "  </table>\n",
        "\n",
        "Now, we're going to see HTML syntax and file methods at work to develop a web scraping program that takes tabular data on a web page and writes it to a `CSV` file."
      ],
      "metadata": {
        "id": "L4huWDdyK-uy"
      }
    },
    {
      "cell_type": "markdown",
      "source": [
        "### Finding a Table\n",
        "\n",
        "Head to https://en.wikipedia.org/wiki/All-time_Olympic_Games_medal_table in a web browser. There are a nubmer of tables on this page, but we're going to focus on the `Unranked medal table (sortable)` section of the page.\n",
        "\n",
        "<p align=\"center\"><img src=\"https://github.com/kwaldenphd/web-scraping-python/blob/main/images/fig1.jpg?raw=true\"></p>\n",
        "\n",
        "Take a look at this table on the public web page, thinking about the rows, columns, and data values we might want to map onto a tabular (table, spreadsheet) data structure.\n",
        "\n",
        "<p align=\"center\"><img src=\"https://github.com/kwaldenphd/web-scraping-python/blob/main/images/fig2.jpg?raw=true\"></p>\n",
        "\n",
        "Then, right click on the page (`Control-click` on a Mac) and select the `View Page Source` option.\n",
        "- The specific label for this option may differ across browsers and operating systems.\n",
        "\n",
        "<p align=\"center\"><img src=\"https://github.com/kwaldenphd/web-scraping-python/blob/main/images/fig3.jpg?raw=true\"></p>\n",
        "\n",
        "There's a lot going on here- we're looking at the back-end HTML for the Wikipedia page with the table we want to work with. But we want to figure out what HTML elements are adjacent to the section of the page we want to isolate. Scrolling through the HTML until you see things that look promising is one place to start. You can also type `Control-F` (`Command-F` on a Mac) to search for particular words/phrases in the HTML. We know one of the country names in the table is `Afghanistan`, so let's search the HTML to see where that term appears.\n",
        "\n",
        "```HTML\n",
        "<th style=\"width:2em;\">\n",
        "<p><span title=\"Combined total number of all Medals won by each country\" class=\"rt-commentedText\" style=\"border-bottom:1px dotted\">Total</span>\n",
        "</p>\n",
        "</th></tr>\n",
        "<tr>\n",
        "<td align=\"left\"><span id=\"AFG\"><img alt=\"\" src=\"//upload.wikimedia.org/wikipedia/commons/thumb/c/cd/Flag_of_Afghanistan_%282013%E2%80%932021%29.svg/22px-Flag_of_Afghanistan_%282013%E2%80%932021%29.svg.png\" decoding=\"async\" width=\"22\" height=\"15\" class=\"thumbborder\" srcset=\"//upload.wikimedia.org/wikipedia/commons/thumb/c/cd/Flag_of_Afghanistan_%282013%E2%80%932021%29.svg/33px-Flag_of_Afghanistan_%282013%E2%80%932021%29.svg.png 1.5x, //upload.wikimedia.org/wikipedia/commons/thumb/c/cd/Flag_of_Afghanistan_%282013%E2%80%932021%29.svg/44px-Flag_of_Afghanistan_%282013%E2%80%932021%29.svg.png 2x\" data-file-width=\"900\" data-file-height=\"600\" />&#160;<a href=\"/wiki/Afghanistan_at_the_Olympics\" title=\"Afghanistan at the Olympics\">Afghanistan</a>&#160;<span style=\"font-size:90%;\">(AFG)</span></span>\n",
        "</td>\n",
        "<td style=\"background:#f2f2ce;\">15</td>\n",
        "<td style=\"background:#f2f2ce;\">0</td>\n",
        "<td style=\"background:#f2f2ce;\">0</td>\n",
        "<td style=\"background:#f2f2ce;\">2</td>\n",
        "<td style=\"background:#f2f2ce;\">2\n",
        "</td>\n",
        "<td style=\"background:#cedff2;\">0</td>\n",
        "<td style=\"background:#cedff2;\">0</td>\n",
        "<td style=\"background:#cedff2;\">0</td>\n",
        "<td style=\"background:#cedff2;\">0</td>\n",
        "<td style=\"background:#cedff2;\">0\n",
        "</td>\n",
        "<td>15</td>\n",
        "<td>0</td>\n",
        "<td>0</td>\n",
        "<td>2</td>\n",
        "<td>2\n",
        "</td></tr>\n",
        "<tr>\n",
        "```\n",
        "\n",
        "Again, there's still a lot going on, but we can see the table row `<tr>` tag around a section of HTML that includes multiple `<td>` tags with information about the country name (`Afghanistan`) and number values that correspond to the medal counts from that row in the table. Now, we need to figure out where this table \"starts,\" or what HTML elements mark the beginning/end of the table. If we scroll up from the `Afghanistan` search results, we can see the section of HTML that marks the start of this table.\n",
        "\n",
        "```HTML\n",
        "<h2><span id=\"Unranked_medal_table_.28sortable.29\"></span><span class=\"mw-headline\" id=\"Unranked_medal_table_(sortable)\">Unranked medal table (sortable)</span><span class=\"mw-editsection\"><span class=\"mw-editsection-bracket\">[</span><a href=\"/w/index.php?title=All-time_Olympic_Games_medal_table&amp;action=edit&amp;section=1\" title=\"Edit section: Unranked medal table (sortable)\">edit</a><span class=\"mw-editsection-bracket\">]</span></span></h2>\n",
        "<p>The table is pre-sorted by the name of each Olympic Committee, but can be displayed as sorted by any other column, such as the total number of <a href=\"/wiki/Gold_medal\" title=\"Gold medal\">gold medals</a> or total number of overall medals. To sort by gold, silver, and then bronze, sort first by the bronze column, then the silver, and then the gold. The table does not include revoked medals (e.g., due to <a href=\"/wiki/Doping_in_sport\" title=\"Doping in sport\">doping</a>).\n",
        "</p><p>Medal totals in this table are current through the <a href=\"/wiki/2020_Summer_Olympics\" title=\"2020 Summer Olympics\">2020 Summer Olympics</a> in <a href=\"/wiki/Tokyo\" title=\"Tokyo\">Tokyo</a>, Japan, and all <a href=\"/wiki/List_of_stripped_Olympic_medals\" title=\"List of stripped Olympic medals\">changes in medal standings</a> due to doping cases and medal redistributions up to 8 August 2021 are taken into account.\n",
        "</p>\n",
        "<style data-mw-deduplicate=\"TemplateStyles:r981673959\">.mw-parser-output .legend{page-break-inside:avoid;break-inside:avoid-column}.mw-parser-output .legend-color{display:inline-block;min-width:1.25em;height:1.25em;line-height:1.25;margin:1px 0;text-align:center;border:1px solid black;background-color:transparent;color:black}.mw-parser-output .legend-text{}</style><div class=\"legend\"><span class=\"legend-color\" style=\"background-color:lightblue; color:black;\">&#160;</span>&#160;Special delegation, not an actual nation</div>\n",
        "<table class=\"wikitable sortable\" style=\"margin-top:0; text-align:center; font-size:90%;\">\n",
        "\n",
        "<tbody><tr>\n",
        "<th>Team\n",
        "</th>\n",
        "<th align=\"center\" style=\"background-color:#f2f2ce;\" colspan=\"5\"><a href=\"/wiki/Summer_Olympic_Games\" title=\"Summer Olympic Games\">Summer Olympic Games</a>\n",
        "</th>\n",
        "<th align=\"center\" style=\"background-color:#cedff2;\" colspan=\"5\"><a href=\"/wiki/Winter_Olympic_Games\" title=\"Winter Olympic Games\">Winter Olympic Games</a>\n",
        "</th>\n",
        "<th align=\"center\" colspan=\"5\"><a href=\"/wiki/Olympic_Games\" title=\"Olympic Games\">Combined total</a>\n",
        "</th></tr>\n",
        "<tr>\n",
        "<th><span title=\"International Olympic Committee country code\" class=\"rt-commentedText\" style=\"border-bottom:1px dotted\">Team (IOC&#160;code)</span>\n",
        "</th>\n",
        "```\n",
        "\n",
        "Since we're looking for a table, identifying a `<table>` tag is a good place to start. We can see the line `<table class=\"wikitable sortable\" style=\"margin-top:0; text-align:center; font-size:90%;\">` marks the start of the medal count table. This gives us the critical pieces of information we need when working in Python with `BeautifulSoup` to isolate this section of HTML.\n",
        ""
      ],
      "metadata": {
        "id": "ymvdPTLsLAwH"
      }
    },
    {
      "cell_type": "markdown",
      "source": [
        "### Load URL & Create BeautifulSoup Object\n",
        "\n",
        "The first step in our program is to import the libraries we'll need, load the web page using `requests` and create the `BeautifulSoup` object."
      ],
      "metadata": {
        "id": "dm-5QdQ2LC-r"
      }
    },
    {
      "cell_type": "code",
      "source": [
        "# import statements\n",
        "import requests\n",
        "from bs4 import BeautifulSoup\n",
        "import csv\n",
        "import pandas as pd\n",
        "\n",
        "# get page\n",
        "page = requests.get(\"https://en.wikipedia.org/wiki/All-time_Olympic_Games_medal_table\")\n",
        "\n",
        "# create BeautifulSoup object\n",
        "soup = BeautifulSoup(page.text, 'html.parser')\n",
        "\n",
        "# show BeautifulSoup object\n",
        "soup"
      ],
      "metadata": {
        "id": "8NITPJmqLEG6"
      },
      "execution_count": null,
      "outputs": []
    },
    {
      "cell_type": "markdown",
      "source": [
        "At this point we have loaded the web page into Python as a `BeautifulSoup` object.\n",
        "\n",
        "### Extract Medal Table\n",
        "\n",
        "The next step is to use `BeautifulSoup` to identify and isolate the section of the web page we want to focus on. We can do this using the `.find()` or `.find_all()` with our `BeautifulSoup` object.\n",
        "- `.find()` isolates a single instance of an HTML class or tag\n",
        "- `.find_all()` creates a list-like object with each instance of a specific tag or class\n"
      ],
      "metadata": {
        "id": "tfC6BHn-LHlP"
      }
    },
    {
      "cell_type": "code",
      "source": [
        "# basic syntax for find\n",
        "# soup.find(\"HTML TAG  GOES HERE\")\n",
        "\n",
        "# a specific example with the p tag\n",
        "soup.find(\"p\")"
      ],
      "metadata": {
        "id": "6oHz6W40LIiV"
      },
      "execution_count": null,
      "outputs": []
    },
    {
      "cell_type": "code",
      "source": [
        "# basic syntax for find_all, this time using a class instead of a tag\n",
        "# soup.find_all(class_ = \"CLASS NAME GOES HERE\")\n",
        "\n",
        "# a specific example using the wikitable sortable class\n",
        "soup.find_all(class_ = 'wikitable sortable')"
      ],
      "metadata": {
        "id": "vf4NRq0ZLJ3F"
      },
      "execution_count": null,
      "outputs": []
    },
    {
      "cell_type": "markdown",
      "source": [
        "Again, we know the line of HTML `<table class=\"wikitable sortable\" style=\"margin-top:0; text-align:center; font-size:90%;\">` marks the start of the medal count table. But we don't know how many instances of the `<table>` tag or `wikitable sortable` class appear in this web page. Some more work with `Command-F`/`Control-F` shows us there are 30 instances of the `<table>` tag and 9 instances of the `wikitable sortable` class in this page. So let's use `.find_all()` with the `wikitable sortable` class and then figure out which of those 9 instances is the table we want to work with."
      ],
      "metadata": {
        "id": "ziKZUSsALMIy"
      }
    },
    {
      "cell_type": "code",
      "source": [
        "# isolate all HTML with wikitable sortable class\n",
        "tables = soup.find_all(class_ = 'wikitable sortable')"
      ],
      "metadata": {
        "id": "zVjSj_waLM5y"
      },
      "execution_count": null,
      "outputs": []
    },
    {
      "cell_type": "markdown",
      "source": [
        "Then, we can use index operators to go through the items in `tables` to see which one has the HTML we want to work with."
      ],
      "metadata": {
        "id": "x68pLPG-LNm7"
      }
    },
    {
      "cell_type": "code",
      "source": [
        "# show first table in tables\n",
        "tables[0]"
      ],
      "metadata": {
        "id": "FK9QnJu-LOMC"
      },
      "execution_count": null,
      "outputs": []
    },
    {
      "cell_type": "markdown",
      "source": [
        "The first table in the list is the medal count, so we can assign that to a variable."
      ],
      "metadata": {
        "id": "yLmf2lmmLO1A"
      }
    },
    {
      "cell_type": "code",
      "source": [
        "# isolate first table in tables\n",
        "table = tables[0]"
      ],
      "metadata": {
        "id": "p5tv1MRqLPh2"
      },
      "execution_count": null,
      "outputs": []
    },
    {
      "cell_type": "markdown",
      "source": [
        "Now that we have just the HTML for the table we want to work with, we want to create a list-like object for each row in the table. So, we can use `.find()` or `.find_all()` again to create a list-like object with all elements that match a particular class or tag. In this case, we want the HTML for each row in the table to be a value or element in the list, so we're going to be looking for the table row `<tr>` tag. And since this table has multiple rows, we're going to use `.find_all(\"tr\")` to find all instances of the `<tr>` tag and map those onto a list-like structure."
      ],
      "metadata": {
        "id": "DnNW7IqmLQYv"
      }
    },
    {
      "cell_type": "code",
      "source": [
        "# get all table rows from medal_table\n",
        "rows = table.find_all(\"tr\")\n",
        "\n",
        "# show table rows\n",
        "rows"
      ],
      "metadata": {
        "id": "OBJHaIuXLRXx"
      },
      "execution_count": null,
      "outputs": []
    },
    {
      "cell_type": "markdown",
      "source": [
        "### Testing On Single Table Row (Single Country)\n",
        "\n",
        "So now we have the HTML for each row in the table as a list value in our `medal_test` list. To recap:\n",
        "- Load url using `requests.get()`\n",
        "- Creat `BeautifulSoup` object using `BeautifulSoup()\n",
        "- Isolate section of page with table using `.find_all()` (with `wikitable sortable` class) and index values\n",
        "- Create list of rows using `.find_all()` (with `tr` tag)\n",
        "\n",
        "We'll eventually want to figure out how to iterate over all the rows in the table, but for now, let's isolate a single row so we can test our program on a single row. Since the first two rows in the the table have column header information and do not match the structure/format of the country rows, we'll use the third row (first country row) for our single-row testing."
      ],
      "metadata": {
        "id": "xnUqiCivLStI"
      }
    },
    {
      "cell_type": "code",
      "source": [
        "# isolate first country in medal_table\n",
        "row = rows[2]\n",
        "\n",
        "# show first country\n",
        "row"
      ],
      "metadata": {
        "id": "iwgEJ76aLUh2"
      },
      "execution_count": null,
      "outputs": []
    },
    {
      "cell_type": "markdown",
      "source": [
        "Now, we have a `row` object that includes the entire HTML associated with the `<tr>` tag for `Afghanistan`. As before, we want to create a list-like object for each cell or column in the table. Since there are multiple cells in each row, we'll use `.find_all()` to look for the table cell `<td>` tag and map those values onto a list-like structure."
      ],
      "metadata": {
        "id": "O1aJjXqeLVTR"
      }
    },
    {
      "cell_type": "code",
      "source": [
        "# get all cells in single_country\n",
        "cells = row.find_all(\"td\")\n",
        "\n",
        "# show single country\n",
        "cells"
      ],
      "metadata": {
        "id": "sGLkHSG4LWE2"
      },
      "execution_count": null,
      "outputs": []
    },
    {
      "cell_type": "markdown",
      "source": [
        "Now we have a list of cells (`<td>` tags) for a single row of HTML in the original table. The next step is to figure out how we work within that list of `<td>` tag contents to isolate the specific values we want to eventually write to each row in our `.csv` file. At this point, before we start writing code to extract these values, it's useful to stop and think about the endpoint for the data scraping process. Specifically, thinking about what columns we have in mind for the ultimate data structure helps us keep the end goal in mind as we start working through each aspect of the program.\n",
        "\n",
        "For this table, we might want a data structure with the following columns:\n",
        "- `Country_Name`\n",
        "- `Country URL`\n",
        "- `Number of Summer Olympic Appearances`\n",
        "- `Number of Summer Olympic Gold Medals`\n",
        "- `Number of Summer Olympic Silver Medals`\n",
        "- `Number of Summer Olympic Bronze Medals`\n",
        "- `Total Number of Summer Olympic Medals`\n",
        "- `Number of Winter Olympic Appearances`\n",
        "- `Number of Winter Olympic Gold Medals`\n",
        "- `Number of Winter Olympic Silver Medals`\n",
        "- `Number of Winter Olympic Bronze Medals`\n",
        "- `Total Number of Winter Olympic Medals`\n",
        "- `Combined Number of Olympic Appearances`\n",
        "- `Combined Number of Gold Medals`\n",
        "- `Combined Number of Silver Medals`\n",
        "- `Combined Number of Bronze Medals`\n",
        "- `Total Combined Number of Medals`\n",
        "\n",
        "So let's figure out how we can isolate each of those values, with the ultimate goal of developing a program that can iterate over all the similarly-structured rows in our table.\n",
        "\n",
        "#### Country Name\n",
        "\n",
        "To get the country name, we can isolate the first cell (`<td>` tag) in the `row` list of cells. Then, we can use .contents[] (part of BeautifulSoup) to get the contents of that first cell.\n"
      ],
      "metadata": {
        "id": "IEUq_7O-LYzz"
      }
    },
    {
      "cell_type": "code",
      "source": [
        "# isolate country name using contents and index\n",
        "name = cells[0].contents[0]\n",
        "\n",
        "# show country_name HTML\n",
        "name"
      ],
      "metadata": {
        "id": "fWC-UsikLaoT"
      },
      "execution_count": null,
      "outputs": []
    },
    {
      "cell_type": "markdown",
      "source": [
        "So now we have the HTML associated with the first `<td>` tag, but there's still a lot of extraneous markup we want to remove to get just the country name.\n",
        "\n",
        "```HTML\n",
        "<span id=\"AFG\"><img alt=\"\" class=\"thumbborder\" data-file-height=\"600\" data-file-width=\"900\" decoding=\"async\" height=\"15\" src=\"//upload.wikimedia.org/wikipedia/commons/thumb/c/cd/Flag_of_Afghanistan_%282013%E2%80%932021%29.svg/22px-Flag_of_Afghanistan_%282013%E2%80%932021%29.svg.png\" srcset=\"//upload.wikimedia.org/wikipedia/commons/thumb/c/cd/Flag_of_Afghanistan_%282013%E2%80%932021%29.svg/33px-Flag_of_Afghanistan_%282013%E2%80%932021%29.svg.png 1.5x, //upload.wikimedia.org/wikipedia/commons/thumb/c/cd/Flag_of_Afghanistan_%282013%E2%80%932021%29.svg/44px-Flag_of_Afghanistan_%282013%E2%80%932021%29.svg.png 2x\" width=\"22\"/> <a href=\"/wiki/Afghanistan_at_the_Olympics\" title=\"Afghanistan at the Olympics\">Afghanistan</a> <span style=\"font-size:90%;\">(AFG)</span></span>\n",
        "```\n",
        "\n",
        "If we drill down into this HTML, we can see the `<a href...>` tag is the HTML element closest to the country name we want to extract. So let's use `.find()` to get just the `a` tag HTML."
      ],
      "metadata": {
        "id": "1B0yChzRLdqz"
      }
    },
    {
      "cell_type": "code",
      "source": [
        "# get HTML with a tag\n",
        "name = name.find('a')\n",
        "\n",
        "# show name_tag\n",
        "name"
      ],
      "metadata": {
        "id": "1Utg0AQyLblG"
      },
      "execution_count": null,
      "outputs": []
    },
    {
      "cell_type": "markdown",
      "source": [
        "Now with just the `a` tag (`<a href=\"/wiki/Afghanistan_at_the_Olympics\" title=\"Afghanistan at the Olympics\">Afghanistan</a>`), we can use `.contents[]` again to get the tag contents. Remember an index value goes in the brackets for `.contents[]`."
      ],
      "metadata": {
        "id": "d_qbEh4uLe5x"
      }
    },
    {
      "cell_type": "code",
      "source": [
        "# get contents of a href tag\n",
        "name = name.contents[0]\n",
        "\n",
        "# show country\n",
        "name"
      ],
      "metadata": {
        "id": "fo4LD4M3LgEU"
      },
      "execution_count": null,
      "outputs": []
    },
    {
      "cell_type": "markdown",
      "source": [
        "Voila! The country name. Putting that all together:"
      ],
      "metadata": {
        "id": "Xq_oH_ufLg2v"
      }
    },
    {
      "cell_type": "code",
      "source": [
        "# combined program for country name\n",
        "name = cells[0].contents[0].find('a').contents[0]"
      ],
      "metadata": {
        "id": "V8dlyaVuLhk_"
      },
      "execution_count": null,
      "outputs": []
    },
    {
      "cell_type": "markdown",
      "source": [
        "#### Country URL\n",
        "\n",
        "```HTML\n",
        "<span id=\"AFG\"><img alt=\"\" class=\"thumbborder\" data-file-height=\"600\" data-file-width=\"900\" decoding=\"async\" height=\"15\" src=\"//upload.wikimedia.org/wikipedia/commons/thumb/c/cd/Flag_of_Afghanistan_%282013%E2%80%932021%29.svg/22px-Flag_of_Afghanistan_%282013%E2%80%932021%29.svg.png\" srcset=\"//upload.wikimedia.org/wikipedia/commons/thumb/c/cd/Flag_of_Afghanistan_%282013%E2%80%932021%29.svg/33px-Flag_of_Afghanistan_%282013%E2%80%932021%29.svg.png 1.5x, //upload.wikimedia.org/wikipedia/commons/thumb/c/cd/Flag_of_Afghanistan_%282013%E2%80%932021%29.svg/44px-Flag_of_Afghanistan_%282013%E2%80%932021%29.svg.png 2x\" width=\"22\"/> <a href=\"/wiki/Afghanistan_at_the_Olympics\" title=\"Afghanistan at the Olympics\">Afghanistan</a> <span style=\"font-size:90%;\">(AFG)</span></span>\n",
        "```\n",
        "\n",
        "If we look at the HTML associated with `country_name`, we can see that the country's Wikipedia URL is also in this section of HTML, as part of the `<a href...>` tag. So we can again use `.find()` to isolate the `<a>` tag's contents."
      ],
      "metadata": {
        "id": "drYihluQLitH"
      }
    },
    {
      "cell_type": "code",
      "source": [
        "# get first/only instance of a link tag in HTML for single country\n",
        "link = cells[0].find('a')\n",
        "\n",
        "# show link\n",
        "link"
      ],
      "metadata": {
        "id": "_42dTeJYLjlV"
      },
      "execution_count": null,
      "outputs": []
    },
    {
      "cell_type": "markdown",
      "source": [
        "Now, looking at the `link_test` piece of HTML (`<a href=\"/wiki/Afghanistan_at_the_Olympics\" title=\"Afghanistan at the Olympics\">Afghanistan</a>`), we want to extract the URL associated with the `href` attribute. We were able to use `.contents[]` to get the contents of this HTML tag, but we'll need a different approach for getting the `href` attribute value. `BeautifulSoup` includes a `.get()` argument that lets us isolate the value associated with an HTML attribute. So we can use `.get('href')` to isolate the URL.\n"
      ],
      "metadata": {
        "id": "vGsHryMsLkwm"
      }
    },
    {
      "cell_type": "code",
      "source": [
        "# get the contents of the url from the href attribute\n",
        "link = link.get('href')\n",
        "\n",
        "# show href contents\n",
        "link"
      ],
      "metadata": {
        "id": "4tHaADgZLlcr"
      },
      "execution_count": null,
      "outputs": []
    },
    {
      "cell_type": "markdown",
      "source": [
        "But wait! `/wiki/Afghanistan_at_the_Olympics` doesn't look like a full url...That's because it isn't. Wikipedia is using an internal link with the `<a href...>` tag to connect to another Wikipedia page, which means they don't have to use the full URL for the link to work. But, we can use concatenation to recreate the full link, since all English-language Wikipedia pages start with the same root URL: `https://en.wikipedia.org`"
      ],
      "metadata": {
        "id": "ErC3YAM5LmKe"
      }
    },
    {
      "cell_type": "code",
      "source": [
        "# use contenation to get full url\n",
        "link = \"https://en.wikipedia.org\" + link\n",
        "\n",
        "# show full link\n",
        "link"
      ],
      "metadata": {
        "id": "JureGabMLnQp"
      },
      "execution_count": null,
      "outputs": []
    },
    {
      "cell_type": "markdown",
      "source": [
        "Great! Now we have the full link."
      ],
      "metadata": {
        "id": "BSf2DTtMLoJ3"
      }
    },
    {
      "cell_type": "code",
      "source": [
        "# combined program for link\n",
        "link = cells[0].find('a').get('href')\n",
        "link = \"https://en.wikipedia.org\" + link\n",
        "print(link)"
      ],
      "metadata": {
        "id": "OkvVmsqqLpPV"
      },
      "execution_count": null,
      "outputs": []
    },
    {
      "cell_type": "markdown",
      "source": [
        "#### Medal Counts\n",
        "\n",
        "If we take a look at the original Wikipedia table, we notice there are three column \"groupings\":\n",
        "- `Summer Olympic Games`\n",
        "- `Winter Olympic Games`\n",
        "- `Combined total`\n",
        "\n",
        "We can extract medal counts within each of these column groups by selecting the cell and then getting the value of that cell using `contents[]` and index values."
      ],
      "metadata": {
        "id": "_S5_S5VULqEC"
      }
    },
    {
      "cell_type": "code",
      "source": [
        "# number of summer olympic appearances\n",
        "summer = cells[1].contents[0]\n",
        "\n",
        "# number of summer gold medals\n",
        "summer_gold = cells[2].contents[0]\n",
        "\n",
        "# number of summer silver medals\n",
        "summer_silver = cells[3].contents[0]\n",
        "\n",
        "# number of summer bronze medals\n",
        "summer_bronze = cells[4].contents[0]\n",
        "\n",
        "# total number of summer olympics medals, using strip() to remove line break\n",
        "summer_medals = cells[5].contents[0].strip()\n",
        "\n",
        "# total number of winter olympic appearances\n",
        "winter = cells[6].contents[0]\n",
        "\n",
        "# number of winter gold medals\n",
        "winter_gold = cells[7].contents[0]\n",
        "\n",
        "# number of winter silver\n",
        "winter_silver = cells[8].contents[0]\n",
        "\n",
        "# number of winter bronze\n",
        "winter_bronze = cells[9].contents[0]\n",
        "\n",
        "# total number of winter medals\n",
        "winter_medals = cells[10].contents[0].strip()\n",
        "\n",
        "# total number combined olympic appearances\n",
        "combined_olympics = cells[11].contents[0].strip()\n",
        "\n",
        "# total number gold medals\n",
        "gold_total = cells[12].contents[0]\n",
        "\n",
        "# total number silver medals\n",
        "silver_total = cells[13].contents[0]\n",
        "\n",
        "# total number bronze medals\n",
        "bronze_total = cells[14].contents[0]\n",
        "\n",
        "# total number of medals, combined\n",
        "medals_total = cells[15].contents[0].strip()\n",
        "\n",
        "# create list with all of these values\n",
        "medals = [summer, summer_gold, summer_silver, summer_bronze, summer_medals, winter, winter_gold, winter_silver, winter_bronze, winter_medals, combined_olympics, gold_total, silver_total, bronze_total, medals_total]\n",
        "\n",
        "# show list\n",
        "print(medals)"
      ],
      "metadata": {
        "id": "o4vODzSdLraI"
      },
      "execution_count": null,
      "outputs": []
    },
    {
      "cell_type": "markdown",
      "source": [
        "We could also create a list with the medal data and the country names + links we extracted in the previous section of the lab."
      ],
      "metadata": {
        "id": "qvj19JzILsk5"
      }
    },
    {
      "cell_type": "code",
      "source": [
        "# add country name and URL to medals list\n",
        "medals.insert(0, name)\n",
        "medals.insert(1, link)\n",
        "\n",
        "# show updated list\n",
        "print(medals)"
      ],
      "metadata": {
        "id": "WjZfinPCLtWb"
      },
      "execution_count": null,
      "outputs": []
    },
    {
      "cell_type": "markdown",
      "source": [
        "Now we have working code that extracts each piece of data from a row in the table.\n",
        "\n",
        "### Iterating Over Multiple Rows\n",
        "\n",
        "To recap our workflow so far:\n",
        "- Load url using `requests.get()`\n",
        "- Creat `BeautifulSoup` object using `BeautifulSoup()\n",
        "- Isolate section of page with table using `.find_all()` (with `wikitable sortable` class) and index values\n",
        "- Create list of rows using `.find_all()` (with `tr` tag)\n",
        "- Isolate single row using index values\n",
        "- Develop program that works on single row using combination of index values, `.get()`, `.find()`, and `.contents[]`\n",
        "- Create list from extracted values\n",
        "\n",
        "Now that we have working code that will extract each piece of data as a variable, we want to run these lines of code on each country in the table to get the data in each column. We can do this using a `for` loop that iterates over each row in the table.\n",
        "\n",
        "But before we throw iteration into the mix, we might want to remove or exclude rows in the table that don't follow the pattern or structure of the rows with data. Specifically for this table, the first two rows have the column header information and don't match the format/structure of the rest of the table. One option for removing these rows would be `del` statements."
      ],
      "metadata": {
        "id": "436v7FJcLuXw"
      }
    },
    {
      "cell_type": "code",
      "source": [
        "# remove second row\n",
        "del rows[1]\n",
        "\n",
        "# remove first row\n",
        "del rows[0]\n",
        "\n",
        "# show updated list of rows\n",
        "print(rows)"
      ],
      "metadata": {
        "id": "Li7N9jVELvFb"
      },
      "execution_count": null,
      "outputs": []
    },
    {
      "cell_type": "markdown",
      "source": [
        "Now we're ready to iterate over each country (table row) using the code we tested on a single country. We can create a list with each row's values and append that list as a sublist or nested list to an empty list."
      ],
      "metadata": {
        "id": "AgdDbhrILyVl"
      }
    },
    {
      "cell_type": "code",
      "source": [
        "table_rows = [] # empty list for data\n",
        "\n",
        "for row in rows: # for loop that iterates over rows\n",
        "  tags = [] # create empty list for td tags in single row\n",
        "\n",
        "  cells = row.find_all('td') # isolate cells, td elements\n",
        "\n",
        "  tags.append(cells) # append tags to tag list\n",
        "\n",
        "  for cells in tags:\n",
        "    try:\n",
        "      name = cells[0].contents[0].find('a').contents[0] # combined program for country name\n",
        "      link = cells[0].find('a').get('href') # for loop that iterates over cells in row\n",
        "      link = \"https://en.wikipedia.org\" + link\n",
        "      summer = cells[1].contents[0] # number of summer olympic appearances\n",
        "      summer_gold = cells[2].contents[0] # number of summer gold medals\n",
        "      summer_silver = cells[3].contents[0] # number of summer silver medals\n",
        "      summer_bronze = cells[4].contents[0] # number of summer bronze medals\n",
        "      summer_medals = cells[5].contents[0].strip() # total number of summer olympics medals, using strip() to remove line break\n",
        "      winter = cells[6].contents[0] # total number of winter olympic appearances\n",
        "      winter_gold = cells[7].contents[0] # number of winter gold medals\n",
        "      winter_silver = cells[8].contents[0] # number of winter silver\n",
        "      winter_bronze = cells[9].contents[0] # number of winter bronze\n",
        "      winter_medals = cells[10].contents[0].strip() # total number of winter medals\n",
        "      combined_olympics = cells[11].contents[0].strip() # total number combined olympic appearances\n",
        "      gold_total = cells[12].contents[0] # total number gold medals\n",
        "      silver_total = cells[13].contents[0] # total number silver medals\n",
        "      bronze_total = cells[14].contents[0] # total number bronze medals\n",
        "      medals_total = cells[15].contents[0].strip() # total number of medals, combined\n",
        "\n",
        "      # creates list of values from each data element\n",
        "      row_data = [name, link, summer, summer_gold, summer_silver, summer_bronze, summer_medals, winter, winter_gold, winter_silver, winter_bronze, winter_medals, combined_olympics, gold_total, silver_total, bronze_total, medals_total]\n",
        "\n",
        "      # append row_data to test_list\n",
        "      table_rows.append(row_data)\n",
        "\n",
        "    except:\n",
        "      continue\n",
        "\n",
        "# show list\n",
        "table_rows"
      ],
      "metadata": {
        "id": "kxM6D9k0YyQZ"
      },
      "execution_count": null,
      "outputs": []
    },
    {
      "cell_type": "markdown",
      "source": [
        "Each row of data in the table is a list value, or sublist/nested list in `tags`. In this program `try` and `except` instruct Python to `try` to run the lines nested under `try`, but if it runs into an error (`except`), `continue` iterating over the values in the `tags` list. Using `try` and `except` can be dangerous if you don't know if or how a program is working- in this case, we've tested the program and got it working on a single row that matches the pattern for all the rows we want to scrape data frame.\n",
        "\n",
        "Now that we know the iteration is working, we can take `table_rows` and write each item in the list (which itself is a row of data) to a row in a `.csv` file."
      ],
      "metadata": {
        "id": "TsiOBJKzL1L3"
      }
    },
    {
      "cell_type": "code",
      "source": [
        "# create new csv file\n",
        "f = csv.writer(open('medals.csv', 'w'))\n",
        "\n",
        "# list of strings with headers\n",
        "headers = [\"country_name\", \"link\", \"no_summer_olympics\", \"no_summer_gold\", \"no_summer_silver\", \"no_summer_bronze\", \"total_no_summer_medals\", \"no_winter_olympics\", \"no_winter_gold\", \"no_winter_silver\", \"no_winter_bronze\", \"total_no_winter_medals\", \"no_combined_olympics\", \"no_combined_gold\", \"no_combined_silver\", \"no_combined_bronze\", \"total_no_combined_medals\"]\n",
        "\n",
        "# write header row or first row for CSV file\n",
        "f.writerow(headers)\n",
        "\n",
        "# for loop that assigns each element in test_list to a new row\n",
        "for row in table_rows:\n",
        "    f.writerow(row)"
      ],
      "metadata": {
        "id": "Jije9wTVY0OS"
      },
      "execution_count": null,
      "outputs": []
    },
    {
      "cell_type": "markdown",
      "source": [
        "We can also use `table_rows` and `headers` to create a `pandas` `DataFrame`. `pandas` will map each value in the list (nested list or sublist with single row of data) to a row in the `DataFrame`. And the `headers` list we created for writing the first row of the `medals` CSV file can be used to set the `DataFrame` column names."
      ],
      "metadata": {
        "id": "eHB2m5TsL4Gg"
      }
    },
    {
      "cell_type": "code",
      "source": [
        "# import pandas\n",
        "import pandas as pd\n",
        "\n",
        "# list of strings with headers\n",
        "headers = [\"country_name\", \"link\", \"no_summer_olympics\", \"no_summer_gold\", \"no_summer_silver\", \"no_summer_bronze\", \"total_no_summer_medals\", \"no_winter_olympics\", \"no_winter_gold\", \"no_winter_silver\", \"no_winter_bronze\", \"total_no_winter_medals\", \"no_combined_olympics\", \"no_combined_gold\", \"no_combined_silver\", \"no_combined_bronze\", \"total_no_combined_medals\"]\n",
        "\n",
        "# create data frame\n",
        "df = pd.DataFrame(table_rows, columns=headers)\n",
        "\n",
        "# show df\n",
        "df"
      ],
      "metadata": {
        "id": "Aiv7ySzZY2kP"
      },
      "execution_count": null,
      "outputs": []
    },
    {
      "cell_type": "markdown",
      "source": [
        "Then we could use `pd.to_csv` to write the `DataFrame` to a `CSV` file."
      ],
      "metadata": {
        "id": "V7k0482xL5-l"
      }
    },
    {
      "cell_type": "code",
      "source": [
        "# write df to csv file\n",
        "df.to_csv(\"output.csv\", index=False)"
      ],
      "metadata": {
        "id": "j3skNAPjL611"
      },
      "execution_count": null,
      "outputs": []
    },
    {
      "cell_type": "markdown",
      "source": [
        "## Application\n",
        "\n",
        "<table>\n",
        " <tr><td>\n",
        "<img src=\"https://elearn.southampton.ac.uk/wp-content/blogs.dir/sites/64/2021/04/PanPan.png\" alt=\"Panopto logo\" width=\"50\"/></td>\n",
        "  <td><a href=\"https://notredame.hosted.panopto.com/Panopto/Pages/Viewer.aspx?id=b7e2f787-47cf-4f61-af59-af3601729e4d\">Lab Notebook Question 1</a></td>\n",
        "  </tr>\n",
        "  </table>\n",
        "\n",
        "Q1A: Select another Wikipedia page that includes a table. From looking at the public web page, what data do you want to scrape from this web page (i.e. specific table, multiple tables, etc.)? What do you want the resulting data structure to look like (columns, rows, etc)?\n",
        "\n",
        "Q1B: Take a look at the HTML for this page. What tags or other HTML components do you see around the section of the page you want to work with? For this question, we're thinking about how we will end up writing a program with <code>BeautifulSoup</code> to isolate a section of the web page.\n",
        "\n",
        "Q1C: Develop an outline for a Python program that scrapes data from the web page you selected.\n",
        "\n",
        "A preliminary workflow:\n",
        "- Load URL and create BeautifulSoup object\n",
        "- Isolate section of HTML with your table (either directly or extract from list)\n",
        "- Isolate table row elements (create list where each element is a table row)\n",
        "- Extract contents from row (isolate the pieces of information from each row)\n",
        "- Create Pandas DataFrame\n",
        "- Write extracted row contents to CSV file\n",
        "\n",
        "NOTE: This program will have a lot of moving parts! Starting with pseudocode to think about the underlying logic can help you organize the components you're building. As you start to build out your own program, think about where you can draw on sample code from the lab (or follow the same conceptual workflow).\n",
        "\n",
        "Q1D: What challenges or roadblocks did you face working on Q1C? How did you start to tackle or solve them?"
      ],
      "metadata": {
        "id": "mGK59ZGFL9c4"
      }
    },
    {
      "cell_type": "markdown",
      "source": [
        "# An Alternate Approach: pandas.read_html()\n",
        "\n",
        "<table>\n",
        " <tr><td>\n",
        "<img src=\"https://elearn.southampton.ac.uk/wp-content/blogs.dir/sites/64/2021/04/PanPan.png\" alt=\"Panopto logo\" width=\"50\"/></td>\n",
        "  <td><a href=\"https://notredame.hosted.panopto.com/Panopto/Pages/Viewer.aspx?id=f02d35d9-bb7f-4503-9f79-af360172f44e\">pandas.read_html()</a></td>\n",
        "  </tr>\n",
        "  </table>\n",
        "\n",
        "`BeautifulSoup` is an incredibly powerful package that lets us drill down into the structure of an HTML document to isolate the pieces of information we need or want to work with. But if we're dealing with an HTML table that has straightforward formatting, an alternate approach is to use the `.read_html()` function that is part of the `pandas` library. `pd.read_html()` looks for any `<table>` tag on a web page and reads each `<table>`  tag's HTML into Python as a list of `DataFrame` objects. Let's take a look at how we could use `pd.read_html()` for the College Football Reference web page we looked at in the previous section of the lab.\n"
      ],
      "metadata": {
        "id": "c9jUochXMH39"
      }
    },
    {
      "cell_type": "code",
      "source": [
        "# import pandas\n",
        "import pandas as pd\n",
        "\n",
        "# load url\n",
        "url = \"https://www.sports-reference.com/cfb/schools/notre-dame/1940-schedule.html\"\n",
        "\n",
        "# create list of dataframes from url using .read_html()\n",
        "dfs = pd.read_html(url)\n",
        "\n",
        "# show dfs list\n",
        "dfs"
      ],
      "metadata": {
        "id": "bBz7HuV7MImw"
      },
      "execution_count": null,
      "outputs": []
    },
    {
      "cell_type": "markdown",
      "source": [
        "We could also the URL directly to `pd.read_html()`:"
      ],
      "metadata": {
        "id": "_E4nDYhHMJfB"
      }
    },
    {
      "cell_type": "code",
      "source": [
        "# import pandas\n",
        "import pandas as pd\n",
        "\n",
        "# create list of dataframes from url using .read_html()\n",
        "dfs = pd.read_html(\"https://www.sports-reference.com/cfb/schools/notre-dame/1940-schedule.html\")\n",
        "\n",
        "# show dfs list\n",
        "dfs"
      ],
      "metadata": {
        "id": "wRNqR0XGMKRM"
      },
      "execution_count": null,
      "outputs": []
    },
    {
      "cell_type": "markdown",
      "source": [
        "At first glance, `dfs` doesn't seem to have clear data tables, but remember `dfs` is a list of `DataFrames` created from any HTML `table` content on the page."
      ],
      "metadata": {
        "id": "lKQ-DBXVMK3r"
      }
    },
    {
      "cell_type": "code",
      "source": [
        "# number of elements in dfs list\n",
        "len(dfs)"
      ],
      "metadata": {
        "id": "QC65PEzxML9r"
      },
      "execution_count": null,
      "outputs": []
    },
    {
      "cell_type": "markdown",
      "source": [
        "Since there are only two elements in the `dfs` list, let's isolate each one."
      ],
      "metadata": {
        "id": "CQgasCexMMjC"
      }
    },
    {
      "cell_type": "code",
      "source": [
        "# show first dataframe in dfs\n",
        "dfs[0]"
      ],
      "metadata": {
        "id": "UKAZZbMdMNPL"
      },
      "execution_count": null,
      "outputs": []
    },
    {
      "cell_type": "markdown",
      "source": [
        "These values correspond to the `AP Poll Summary` table on the page."
      ],
      "metadata": {
        "id": "4zbLokIYMN5N"
      }
    },
    {
      "cell_type": "code",
      "source": [
        "# select single dataframe\n",
        "df = dfs[1]\n",
        "\n",
        "# show new dataframe\n",
        "df"
      ],
      "metadata": {
        "id": "6M6mjBCLMPXf"
      },
      "execution_count": null,
      "outputs": []
    },
    {
      "cell_type": "markdown",
      "source": [
        "College Football Reference schedule pages for pre-1936 Notre Dame do not have the first `AP Poll` table. We can use the 1935 schedule page (https://www.sports-reference.com/cfb/schools/notre-dame/1935-schedule.html) as an example."
      ],
      "metadata": {
        "id": "ZF__uX8LMQJa"
      }
    },
    {
      "cell_type": "code",
      "source": [
        "# load url\n",
        "url = \"https://www.sports-reference.com/cfb/schools/notre-dame/1935-schedule.html\"\n",
        "\n",
        "# create list of dataframes from url using .read_html()\n",
        "dfs = pd.read_html(url)\n",
        "\n",
        "# show number of tables in dfs\n",
        "len(dfs)"
      ],
      "metadata": {
        "id": "YCeGMtbiMRH5"
      },
      "execution_count": null,
      "outputs": []
    },
    {
      "cell_type": "markdown",
      "source": [
        "Only one table here, so we can isolate that table as a `DataFrame`."
      ],
      "metadata": {
        "id": "yePQXp6NMS1w"
      }
    },
    {
      "cell_type": "code",
      "source": [
        "# select single dataframe\n",
        "df = dfs[0]\n",
        "\n",
        "# show new dataframe\n",
        "df"
      ],
      "metadata": {
        "id": "LWHq0zmLMSDR"
      },
      "execution_count": null,
      "outputs": []
    },
    {
      "cell_type": "markdown",
      "source": [
        "If we were ultimately going to do further work with analyzing/visualizing this data, we would probably want to spend some more time standardizing column names and values. And if we were going to scrape this table across multiple pages, we would need to find some way to get the year or season represented in the `DataFrame`. But for now, if we wanted to write the `DataFrame` we created using `pd.read_html()` to a `CSV`..."
      ],
      "metadata": {
        "id": "Sl_x3lGKMT7R"
      }
    },
    {
      "cell_type": "code",
      "source": [
        "df.to_csv(\"output.csv\", index=False)"
      ],
      "metadata": {
        "id": "hb-6LMhsMUnA"
      },
      "execution_count": null,
      "outputs": []
    },
    {
      "cell_type": "markdown",
      "source": [
        "\n",
        "## Application\n",
        "\n",
        "<table>\n",
        " <tr><td>\n",
        "<img src=\"https://elearn.southampton.ac.uk/wp-content/blogs.dir/sites/64/2021/04/PanPan.png\" alt=\"Panopto logo\" width=\"50\"/></td>\n",
        "  <td><a href=\"https://notredame.hosted.panopto.com/Panopto/Pages/Viewer.aspx?id=234b8c5b-7641-47bf-a61c-af3601731318\">Lab Notebook Question 2</a></td>\n",
        "  </tr>\n",
        "  </table>\n",
        "  \n",
        "Q2A: Develop an outline for a Python program that uses `pd.read_html()` to scrape data from a web page of your choosing.\n",
        "- *Wikipedia tables are fair game, but folks interested in sport data may want to head over to a [Sports Reference](https://www.sports-reference.com/) site.*\n",
        "\n",
        "A preliminary workflow:\n",
        "- Use `pd.read_html()` to create a list of DataFrame objects\n",
        "- Identify which DataFrame object in the list is the table you want to work with\n",
        "- Isolate the list element to create a new DataFrame\n",
        "- Write the new DataFrame to a CSV file\n",
        "\n",
        "NOTE: Even though `pd.read_html()` has an easier learning curve than `BeautifulSoup`, this program will have a few moving parts! Starting with pseudocode to think about the underlying logic can help you organize the components you're building. As you start to build out your own program, think about where you can draw on sample code from the lab (or follow the same conceptual workflow).\n",
        "\n",
        "ANOTHER NOTE: For many Sports Reference pages, tables further down the page are buried in HTML comments. These tables will not show up when you use `pd.read_html()`. We can come back to these \"hidden tables\" in the final project, but for now, focus on the tables that do show up when you use `pd.read_html()`.\n",
        "\n",
        "Q2B: What challenges or roadblocks did you face working on Q2A? How did you start to tackle or solve them?"
      ],
      "metadata": {
        "id": "AID4M45aNMSA"
      }
    },
    {
      "cell_type": "markdown",
      "source": [
        "# `Beautiful Soup` & Unstructured Text\n",
        "\n",
        "<table>\n",
        " <tr><td>\n",
        "<img src=\"https://elearn.southampton.ac.uk/wp-content/blogs.dir/sites/64/2021/04/PanPan.png\" alt=\"Panopto logo\" width=\"50\"/></td>\n",
        "  <td><a href=\"https://notredame.hosted.panopto.com/Panopto/Pages/Viewer.aspx?id=13f5e27a-d21f-48a8-883b-af360173332a\">Unstructured Text</a></td>\n",
        "  </tr>\n",
        "  </table>\n",
        "\n",
        "So far, this lab has focused on approaches for scraping structured data from the web using Python. But there are other contexts and use cases when we might want to be able to scrape unstructured text from the web and be able to work with that \"data\" in Python (or write it to a plain-text `.txt` file). For example, take a look at Fall 2021 *Observer* article: https://web.archive.org/web/20211016150109/https://ndsmcobserver.com/2021/10/south-bend-community-leaders-discuss-role-of-notre-dame-in-fight-for-black-civil-rights/\n",
        "\n",
        "Imagine we wanted to use Python to analyze the words or terms used in this article. The first step would be to get a plain-text `.txt` version of the article text.  We would start with the same `BeautifulSoup` workflow we've used previously:\n",
        "- Load URL\n",
        "- Create `BeautifulSoup` object\n",
        "- Isolate section of HTML with article text"
      ],
      "metadata": {
        "id": "JVKdRyGIMXnY"
      }
    },
    {
      "cell_type": "code",
      "source": [
        "# get page\n",
        "page = requests.get(\"https://en.wikisource.org/wiki/John_F._Kennedy%27s_Inaugural_Address\")\n",
        "\n",
        "# create BeautifulSoup object\n",
        "soup = BeautifulSoup(page.text, 'html.parser')\n",
        "\n",
        "# show BeautifulSoup object\n",
        "soup"
      ],
      "metadata": {
        "id": "2FAs4X5WMYWU"
      },
      "execution_count": null,
      "outputs": []
    },
    {
      "cell_type": "markdown",
      "source": [
        "Next, we want to isolate the section of the page that includes the article text.\n",
        "\n",
        "```HTML\n",
        "<span class=\"&#95;_watch ws-noexport noprint\"><figure class=\"mw-default-size mw-halign-right\" typeof=\"mw:File/Thumb\"><span><video id=\"mwe_player_1\" poster=\"//upload.wikimedia.org/wikipedia/commons/thumb/7/74/John_F._Kennedy_Inauguration_Speech.ogv/220px--John_F._Kennedy_Inauguration_Speech.ogv.jpg\" controls=\"\" preload=\"none\" class=\"mw-file-element\" width=\"220\" height=\"165\" data-durationhint=\"931\" data-mwtitle=\"John_F._Kennedy_Inauguration_Speech.ogv\" data-mwprovider=\"wikimediacommons\" resource=\"/wiki/File:John_F._Kennedy_Inauguration_Speech.ogv\"><source src=\"//upload.wikimedia.org/wikipedia/commons/transcoded/7/74/John_F._Kennedy_Inauguration_Speech.ogv/John_F._Kennedy_Inauguration_Speech.ogv.480p.vp9.webm\" type=\"video/webm; codecs=&quot;vp9, opus&quot;\" data-transcodekey=\"480p.vp9.webm\" data-width=\"640\" data-height=\"480\" /><source src=\"//upload.wikimedia.org/wikipedia/commons/7/74/John_F._Kennedy_Inauguration_Speech.ogv\" type=\"video/ogg; codecs=&quot;theora, vorbis&quot;\" data-width=\"640\" data-height=\"480\" /><source src=\"//upload.wikimedia.org/wikipedia/commons/transcoded/7/74/John_F._Kennedy_Inauguration_Speech.ogv/John_F._Kennedy_Inauguration_Speech.ogv.240p.vp9.webm\" type=\"video/webm; codecs=&quot;vp9, opus&quot;\" data-transcodekey=\"240p.vp9.webm\" data-width=\"320\" data-height=\"240\" /><source src=\"//upload.wikimedia.org/wikipedia/commons/transcoded/7/74/John_F._Kennedy_Inauguration_Speech.ogv/John_F._Kennedy_Inauguration_Speech.ogv.360p.vp9.webm\" type=\"video/webm; codecs=&quot;vp9, opus&quot;\" data-transcodekey=\"360p.vp9.webm\" data-width=\"480\" data-height=\"360\" /><source src=\"//upload.wikimedia.org/wikipedia/commons/transcoded/7/74/John_F._Kennedy_Inauguration_Speech.ogv/John_F._Kennedy_Inauguration_Speech.ogv.360p.webm\" type=\"video/webm; codecs=&quot;vp8, vorbis&quot;\" data-transcodekey=\"360p.webm\" data-width=\"480\" data-height=\"360\" /><track src=\"https://commons.wikimedia.org/w/api.php?action=timedtext&amp;title=File%3AJohn_F._Kennedy_Inauguration_Speech.ogv&amp;lang=en&amp;trackformat=vtt&amp;origin=%2A\" kind=\"subtitles\" type=\"text/vtt\" srclang=\"en\" label=\"English ‪(en)‬\" data-dir=\"ltr\" /></video></span><figcaption>John F. Kennedy delivering his inaugural address<br />(<small>241.44 MB,&#32;15m 30s,&#32;<a href=\"https://commons.wikimedia.org/wiki/Project:Media_help\" class=\"extiw\" title=\"commons:Project:Media help\">help</a>,&#32;<a href=\"https://commons.wikimedia.org/wiki/File:John_F._Kennedy_Inauguration_Speech.ogv\" class=\"extiw\" title=\"commons:File:John F. Kennedy Inauguration Speech.ogv\">file info or download</a></small>)</figcaption></figure></span>\n",
        "<p>Vice President Johnson, Mr. Speaker, Mr. Chief Justice, President Eisenhower, Vice President Nixon, President Truman, Reverend Clergy, fellow citizens:\n",
        "</p><p>We observe today not a victory of party but a celebration of freedom, symbolizing an end as well as a beginning, signifying renewal as well as change. For I have sworn before you and Almighty God the same solemn oath our forbears prescribed nearly a century and three-quarters ago.\n",
        "</p><p>The world is very different now. For man holds in his mortal hands the power to abolish all forms of human poverty and all forms of human life. And yet the same revolutionary beliefs for which our forebears fought are still at issue around the globe–the belief that the rights of man come not from the generosity of the state but from the hand of God.\n",
        "</p><p>We dare not forget today that we are the heirs of that first revolution. Let the word go forth from this time and place, to friend and foe alike, that the torch has been passed to a new generation of Americans, born in this century, tempered by war, disciplined by a hard and bitter peace, proud of our ancient heritage, and unwilling to witness or permit the slow undoing of those human rights to which this nation has always been committed, and to which we are committed today at home and around the world.\n",
        "</p><p>Let every nation know, whether it wishes us well or ill, that we shall pay any price, bear any burden, meet any hardship, support any friend, oppose any foe to assure the survival and the success of liberty.\n",
        "</p><p>This much we pledge–and more.\n",
        "</p><p>To those old allies whose cultural and spiritual origins we share, we pledge the loyalty of faithful friends. United there is little we cannot do in a host of cooperative ventures. Divided there is little we can do; for we dare not meet a powerful challenge at odds and split asunder.\n",
        "</p><p>To those new states whom we welcome to the ranks of the free, we pledge our word that one form of colonial control shall not have passed away merely to be replaced by a far more iron tyranny. We shall not always expect to find them supporting our view. But we shall always hope to find them strongly supporting their own freedom; and to remember that, in the past, those who foolishly sought power by riding the back of the tiger ended up inside.\n",
        "</p><p>To those people in the huts and villages of half the globe struggling to break the bonds of mass misery, we pledge our best efforts to help them help themselves, for whatever period is required–not because the communists may be doing it, not because we seek their votes, but because it is right. If a free society cannot help the many who are poor, it cannot save the few who are rich.\n",
        "</p><p>To our sister republics south of our border, we offer a special pledge: to convert our good words into good deeds in a new alliance for progress; to assist free men and free governments in casting off the chains of poverty. But this peaceful revolution of hope cannot become the prey of hostile powers. Let all our neighbors know that we shall join with them to oppose aggression or subversion anywhere in the Americas. And let every other power know that this Hemisphere intends to remain the master of its own house.\n",
        "</p><p>To that world assembly of sovereign states, the United Nations, our last best hope in an age where the instruments of war have far outpaced the instruments of peace, we renew our pledge of support, to prevent it from becoming merely a forum for invective, to strengthen its shield of the new and the weak, and to enlarge the area in which its writ may run.\n",
        "</p><p>Finally, to those nations who would make themselves our adversary, we offer not a pledge but a request: that both sides begin anew the quest for peace, before the dark powers of destruction unleashed by science engulf all humanity in planned or accidental self-destruction.\n",
        "</p><p>We dare not tempt them with weakness. For only when our arms are sufficient beyond doubt can we be certain beyond doubt that they will never be employed.\n",
        "</p><p>But neither can two great and powerful groups of nations take comfort from our present course–both sides overburdened by the cost of modern weapons, both rightly alarmed by the steady spread of the deadly atom, yet both racing to alter that uncertain balance of terror that stays the hand of mankind's final war.\n",
        "</p><p>So let us begin anew–remembering on both sides that civility is not a sign of weakness, and sincerity is always subject to proof. Let us never negotiate out of fear. But let us never fear to negotiate.\n",
        "</p><p>Let both sides explore what problems unite us instead of belaboring those problems which divide us.\n",
        "</p><p>Let both sides, for the first time, formulate serious and precise proposals for the inspection and control of arms–and bring the absolute power to destroy other nations under the absolute control of all nations.\n",
        "</p><p>Let both sides seek to invoke the wonders of science instead of its terrors. Together let us explore the stars, conquer the deserts, eradicate disease, tap the ocean depths and encourage the arts and commerce.\n",
        "</p><p>Let both sides unite to heed in all corners of the Earth the command of Isaiah to \"<a href=\"/wiki/Bible_(King_James)/Isaiah#Chapter_58\" title=\"Bible (King James)/Isaiah\">undo the heavy burdens ... (and) let the oppressed go free.</a>\"\n",
        "</p><p>And if a beachhead of cooperation may push back the jungle of suspicion, let both sides join in creating a new endeavor, not a new balance of power, but a new world of law, where the strong are just and the weak secure and the peace preserved.\n",
        "</p><p>All this will not be finished in the first one hundred days. Nor will it be finished in the first one thousand days, nor in the life of this Administration, nor even perhaps in our lifetime on this planet. But let us begin.\n",
        "</p><p>In your hands, my fellow citizens, more than mine, will rest the final success or failure of our course. Since this country was founded, each generation of Americans has been summoned to give testimony to its national loyalty. The graves of young Americans who answered the call to service surround the globe.\n",
        "</p><p>Now the trumpet summons us again; not as a call to bear arms, though arms we need; not as a call to battle, though embattled we are; but a call to bear the burden of a long twilight struggle, year in and year out, \"<a href=\"/wiki/Bible_(King_James)/Romans#Chapter_12\" title=\"Bible (King James)/Romans\">rejoicing in hope, patient in tribulation</a>\"–a struggle against the common enemies of man: tyranny, poverty, disease and war itself.\n",
        "</p><p>Can we forge against these enemies a grand and global alliance, North and South, East and West, that can assure a more fruitful life for all mankind? Will you join in that historic effort?\n",
        "</p><p>In the long history of the world, only a few generations have been granted the role of defending freedom in its hour of maximum danger. I do not shrink from this responsibility; I welcome it. I do not believe that any of us would exchange places with any other people or any other generation. The energy, the faith, the devotion which we bring to this endeavor will light our country and all who serve it–and the glow from that fire can truly light the world.\n",
        "</p><p>And so, my fellow Americans: ask not what your country can do for you–ask what you can do for your country.\n",
        "</p><p>My fellow citizens of the world: ask not what America will do for you, but what together we can do for the freedom of man.\n",
        "</p><p>Finally, whether you are citizens of America or citizens of the world, ask of us here the same high standards of strength and sacrifice which we ask of you. With a good conscience our only sure reward, with history the final judge of our deeds, let us go forth to lead the land we love, asking His blessing and His help, but knowing that here on Earth God's work must truly be our own.\n",
        "</p><p><br />\n",
        "</p>\n",
        "```\n",
        "\n",
        "From taking a look at the page source, we can see `<p>` (paragraph tags) mark each paragraph. And we can use a `Control-F`/`Command-F` search to see that that most of the `<p>` tags appear around the text of the speech.\n",
        "\n",
        "We can use `.find_all(\"p\")` to create a list-like object with each `<p>` tag's content as a list item."
      ],
      "metadata": {
        "id": "zn-_C0cGMaOb"
      }
    },
    {
      "cell_type": "code",
      "source": [
        "# isolate paragraph tags\n",
        "paragraphs = soup.find_all(\"p\")\n",
        "\n",
        "# show number of paragraphs\n",
        "len(paragraphs)"
      ],
      "metadata": {
        "id": "xUQkN7pIMcoi"
      },
      "execution_count": null,
      "outputs": []
    },
    {
      "cell_type": "code",
      "source": [
        "# show first paragraph\n",
        "paragraphs[0]"
      ],
      "metadata": {
        "id": "28vCg-vgNcBH"
      },
      "execution_count": null,
      "outputs": []
    },
    {
      "cell_type": "code",
      "source": [
        "# show last paragraph\n",
        "paragraphs[-1]"
      ],
      "metadata": {
        "id": "SVyb5nxCNdHE"
      },
      "execution_count": null,
      "outputs": []
    },
    {
      "cell_type": "markdown",
      "source": [
        "We'll need to subset the `paragraphs` list to get just the `<p>` tags that have the speech text. We can do this using list indexing."
      ],
      "metadata": {
        "id": "_cttXZY0Nfdl"
      }
    },
    {
      "cell_type": "code",
      "source": [
        "subset = paragraphs[1:29] # subset paragraph tags\n",
        "subset[0].contents[0].strip() # isolate single paragraph; strip removes the \"\\n\" new line regular expression"
      ],
      "metadata": {
        "id": "5mvyjTpQNgYR"
      },
      "execution_count": null,
      "outputs": []
    },
    {
      "cell_type": "markdown",
      "source": [
        "So now we have just the `<p>` tags connected to the speech. The last step is to use a `for` loop to iterate over each paragraph in `article_paragraphs`, and use `.contents[]` to extract the paragraph contents and append it to a list. Since the output of `BeautifulSoup`'s `.contents[]` command is still a `BeautifulSoup` object type, we can use the `str()` function to convert the value to a string before appending it to a list."
      ],
      "metadata": {
        "id": "KAIclUHKNlON"
      }
    },
    {
      "cell_type": "code",
      "source": [
        "for p in subset: # iterate over paragraphs\n",
        "  print(p.contents[0].strip()) # show text"
      ],
      "metadata": {
        "id": "0gF4gPAtNmW8"
      },
      "execution_count": null,
      "outputs": []
    },
    {
      "cell_type": "code",
      "source": [
        "lines = [] # empty list for text\n",
        "\n",
        "for p in subset: # iterate over paragraphs\n",
        "  lines.append(str(p.contents[0].strip())) # isolate p tag contents and append to list\n",
        "\n",
        "lines[0] # show first line"
      ],
      "metadata": {
        "id": "oBFTTlgEMe1v"
      },
      "execution_count": null,
      "outputs": []
    },
    {
      "cell_type": "markdown",
      "source": [
        "Now that we have a working program, we could write each paragraph to a newly-created `.txt` file."
      ],
      "metadata": {
        "id": "JWpVyPltNpM2"
      }
    },
    {
      "cell_type": "code",
      "source": [
        "with open(\"output.txt\", \"a\") as f: # new file\n",
        "  for p in subset: # iterate over paragraphs\n",
        "    f.write(str(p.contents[0].strip())) # write paragraph to file\n",
        "    f.write(\"\\n\") # preserve line breaks"
      ],
      "metadata": {
        "id": "5U4xSSvvNqFi"
      },
      "execution_count": null,
      "outputs": []
    },
    {
      "cell_type": "markdown",
      "source": [
        "Putting that all together:"
      ],
      "metadata": {
        "id": "OzUoVa_ANq5M"
      }
    },
    {
      "cell_type": "code",
      "source": [
        "# import statements\n",
        "import requests, csv, pandas as pd\n",
        "from bs4 import BeautifulSoup\n",
        "\n",
        "# load page\n",
        "page = requests.get(\"https://en.wikisource.org/wiki/John_F._Kennedy%27s_Inaugural_Address\")\n",
        "\n",
        "# beautifulsoup object\n",
        "soup = BeautifulSoup(page.text, 'html.parser')\n",
        "\n",
        "# isolate paragraph tags\n",
        "paragraphs = soup.find_all('p')\n",
        "\n",
        "# subset paragraph tags\n",
        "subset = paragraphs[1:29]\n",
        "\n",
        "# write output to text file\n",
        "with open(\"output.txt\", \"a\") as f: # new file\n",
        "  for p in subset: # iterate over paragraphs\n",
        "    f.write(str(p.contents[0].strip())) # write paragraph to file\n",
        "    f.write(\"\\n\") # preserve line breaks\n",
        "    print(p.contents[0].strip()) # show paragraph"
      ],
      "metadata": {
        "id": "uHX2VDOQNsQL"
      },
      "execution_count": null,
      "outputs": []
    },
    {
      "cell_type": "markdown",
      "source": [
        "## Application\n",
        "\n",
        "<table>\n",
        " <tr><td>\n",
        "<img src=\"https://elearn.southampton.ac.uk/wp-content/blogs.dir/sites/64/2021/04/PanPan.png\" alt=\"Panopto logo\" width=\"50\"/></td>\n",
        "  <td><a href=\"https://notredame.hosted.panopto.com/Panopto/Pages/Viewer.aspx?id=ee5be045-9655-4f34-a03e-af36017356f3\">Lab Notebook Question 3</a></td>\n",
        "  </tr>\n",
        "  </table>\n",
        "\n",
        "Q3A: Select another web page that includes unstructured text. From looking at the public web page, what text do you want to scrape from this web page (i.e. specific sections, multiple paragraphs, etc.)?\n",
        "\n",
        "A few places to start for unstructured text:\n",
        "- [WikiSource](https://en.wikisource.org/wiki/Main_Page)(a library of texts that are not covered by copyright)\n",
        "  * [U.S. Presidential State of the Union Addresses](https://en.wikisource.org/wiki/Portal:State_of_the_Union_Speeches_by_United_States_Presidents)\n",
        "  * [U.S. Presidential Inaugural Speeches](https://en.wikisource.org/wiki/Portal:Inaugural_Speeches_by_United_States_Presidents)\n",
        "- [Project Gutenberg](https://www.gutenberg.org) (a library of literary works or texts that are not covered by copyright)\n",
        "\n",
        "Q3B: Take a look at the HTML for this page. What tags or other HTML components do you see around the section of the page you want to work with? For this question, we're thinking about how we will end up writing a program with `BeautifulSoup` to isolate a section of the web page.\n",
        "\n",
        "Q3C: Develop an outline for a Python program that scrapes unstructured text from the web page you selected.\n",
        "\n",
        "A preliminary workflow:\n",
        "- Load URL and create BeautifulSoup object\n",
        "- Isolate section of HTML with your text (either directly or extract from list)\n",
        "- IF NEEDED: Isolate text elements (create list where each element is a section of text)\n",
        "- IF NEEDED: Extract text contents (isolate text from each section/paragraph)\n",
        "- Write text to TXT file\n",
        "\n",
        "NOTE: This program will have a lot of moving parts! Starting with pseudocode to think about the underlying logic can help you organize the components you're building. As you start to build out your own program, think about where you can draw on sample code from the lab (or follow the same conceptual workflow).\n",
        "\n",
        "Q3D: What challenges or roadblocks did you face working on Q3C? How did you start to tackle or solve them?"
      ],
      "metadata": {
        "id": "_8jMpzT7Mrgo"
      }
    },
    {
      "cell_type": "markdown",
      "source": [
        "## Oh, the Places You Could Go\n",
        "\n",
        "<table>\n",
        " <tr><td>\n",
        "<img src=\"https://elearn.southampton.ac.uk/wp-content/blogs.dir/sites/64/2021/04/PanPan.png\" alt=\"Panopto logo\" width=\"50\"/></td>\n",
        "  <td><a href=\"https://notredame.hosted.panopto.com/Panopto/Pages/Viewer.aspx?id=b27a90ce-1247-4f24-bf63-af3601737891\">Oh the Places You Could Go</a></td>\n",
        "  </tr>\n",
        "  </table>\n",
        "\n",
        "Once we have the isolated text, we could use Python to generate a list of words used in the speech.\n"
      ],
      "metadata": {
        "id": "5ZdRvNRDMskD"
      }
    },
    {
      "cell_type": "code",
      "source": [
        "lines = [] # empty list for text\n",
        "\n",
        "for p in subset: # iterate over paragraphs\n",
        "  lines.append(str(p.contents[0].strip())) # isolate p tag contents and append to list\n",
        "\n",
        "lines[0] # show first line"
      ],
      "metadata": {
        "id": "G2Cv0W48N1Vi"
      },
      "execution_count": null,
      "outputs": []
    },
    {
      "cell_type": "code",
      "source": [
        "speech = \"\\n\".join(lines) # use list method to concatenate list items\n",
        "print(speech) # show speech text"
      ],
      "metadata": {
        "id": "oUyBmzWhN41A"
      },
      "execution_count": null,
      "outputs": []
    },
    {
      "cell_type": "code",
      "source": [
        "wordlist = speech.split() # list of words\n",
        "print((wordlist[0:120])) # show first 120 words in wordlist"
      ],
      "metadata": {
        "id": "ftCGsUGyN7Oc"
      },
      "execution_count": null,
      "outputs": []
    },
    {
      "cell_type": "markdown",
      "source": [
        "Then, we could use the list of words `wordlist` to count term frequency."
      ],
      "metadata": {
        "id": "S9WTUisiMulh"
      }
    },
    {
      "cell_type": "code",
      "source": [
        "# create empty list for word frequency\n",
        "wordfreq = []\n",
        "\n",
        "# append number of word appearanes to wordfreq list\n",
        "for word in wordlist:\n",
        "    wordfreq.append(wordlist.count(word))\n",
        "\n",
        "# create nested list or lists with sublists that include word and number of appearances\n",
        "str(list(zip(wordlist, wordfreq)))"
      ],
      "metadata": {
        "colab": {
          "base_uri": "https://localhost:8080/",
          "height": 107
        },
        "id": "sB5_5vyOMvqu",
        "outputId": "e55f881a-a5aa-4434-d1fb-94531c2a2056"
      },
      "execution_count": null,
      "outputs": [
        {
          "output_type": "execute_result",
          "data": {
            "text/plain": [
              "\"[('The', 3), ('Notre', 5), ('Dame', 4), ('Initiative', 1), ('on', 3), ('Race', 1), ('and', 16), ('Resilience', 1), ('hosted', 1), ('a', 8), ('panel', 1), ('Wednesday', 1), ('in', 18), ('DeBartolo', 1), ('Hall', 1), ('on', 3), ('Black', 6), ('civil', 2), ('rights', 2), ('in', 18), ('South', 8), ('Bend,', 1), ('featuring', 1), ('some', 2), ('of', 30), ('South', 8), ('Bend’s', 3), ('prominent', 1), ('community', 4), ('leaders.', 1), ('The', 3), ('panel,', 2), ('which', 1), ('intended', 1), ('to', 15), ('explore', 1), ('the', 34), ('immense', 1), ('social', 1), ('inequalities', 1), ('facing', 1), ('South', 8), ('Bend’s', 3), ('Black', 6), ('residents,', 1), ('included', 1), ('Trina', 1), ('Robinson,', 1), ('president', 2), ('of', 30), ('NAACP-South', 1), ('Bend;', 1), ('Regina', 1), ('Williams-Preston,', 1), ('president', 2), ('of', 30), ('Community', 1), ('Action', 1), ('for', 11), ('Education', 1), ('and', 16), ('former', 1), ('South', 8), ('Bend', 3), ('Common', 1), ('Council', 1), ('representative;', 1), ('Jorden', 1), ('Giger,', 1), ('co-founder', 1), ('of', 30), ('Black', 6), ('Lives', 1), ('Matter', 1), ('South', 8), ('Bend', 3), ('and', 16), ('Deacon', 1), ('Mel', 1), ('Tardy,', 1), ('deacon', 1), ('of', 30), ('St.', 1), ('Augustine', 1), ('Parish', 1), ('and', 16), ('an', 2), ('advising', 1), ('faculty', 1), ('at', 2), ('the', 34), ('University.', 1), ('The', 3), ('panelists', 1), ('offered', 1), ('their', 1), ('experiences', 1), ('and', 16), ('recommendations', 1), ('toward', 1), ('a', 8), ('stronger', 1), ('future', 1), ('for', 11), ('civil', 2), ('rights', 2), ('within', 2), ('the', 34), ('local', 3), ('community.', 2), ('They', 1), ('called', 1), ('for', 11), ('action', 1), ('to', 15), ('combat', 1), ('systemic', 1), ('racism', 3), ('—', 2), ('a', 8), ('historical', 1), ('pattern', 1), ('of', 30), ('denying', 1), ('opportunity', 1), ('to', 15), ('fair', 1), ('education,', 1), ('health', 2), ('and', 16), ('housing', 2), ('opportunities', 2), ('in', 18), ('South', 8), ('Bend.', 1), ('“He', 1), ('who', 1), ('wins', 1), ('the', 34), ('war', 1), ('gets', 2), ('to', 15), ('tell', 1), ('the', 34), ('story,', 1), ('so', 1), ('now', 1), ('we', 4), ('believe', 1), ('it', 1), ('all', 1), ('right.', 1), ('Here', 1), ('we', 4), ('are', 7), ('today', 1), ('seeing', 1), ('how', 1), ('that', 7), ('history', 1), ('gets', 2), ('uncovered,”', 1), ('Williams-Preston', 7), ('said.', 9), ('For', 1), ('more', 2), ('than', 1), ('a', 8), ('century,', 1), ('Tardy', 4), ('explained,', 2), ('African', 2), ('Americans', 1), ('have', 3), ('been', 1), ('moving', 1), ('to', 15), ('the', 34), ('north', 1), ('with', 1), ('the', 34), ('intention', 1), ('of', 30), ('looking', 1), ('for', 11), ('jobs', 1), ('after', 1), ('the', 34), ('Great', 1), ('Migration.', 1), ('“We', 2), ('have', 3), ('about', 1), ('27%', 1), ('of', 30), ('[the]', 1), ('African', 2), ('American', 1), ('population,”', 1), ('Tardy', 4), ('said.', 9), ('However,', 1), ('the', 34), ('promise', 1), ('of', 30), ('labor', 1), ('has', 1), ('quickly', 1), ('shifted', 1), ('to', 15), ('the', 34), ('lack', 4), ('of', 30), ('job', 1), ('opportunities', 2), ('for', 11), ('people', 4), ('of', 30), ('color.', 3), ('“A', 1), ('lot', 1), ('of', 30), ('the', 34), ('families', 1), ('are', 7), ('having', 2), ('difficulty', 1), ('getting', 1), ('places', 1), ('to', 15), ('stay', 1), ('where', 2), ('there', 2), ('is', 6), ('some', 2), ('sort', 1), ('of', 30), ('consistency,”', 1), ('Tardy', 4), ('said.', 9), ('As', 1), ('mentioned', 1), ('in', 18), ('the', 34), ('panel,', 2), ('South', 8), ('Bend’s', 3), ('eviction', 1), ('rate', 1), ('is', 6), ('three', 2), ('times', 1), ('the', 34), ('national', 1), ('average.', 1), ('Low', 1), ('wages,', 1), ('prejudiced', 1), ('state', 2), ('policies', 1), ('and', 16), ('lack', 4), ('of', 30), ('affordable', 1), ('housing', 2), ('are', 7), ('the', 34), ('three', 2), ('main', 1), ('explanations', 1), ('for', 11), ('the', 34), ('city’s', 1), ('drastic', 1), ('increase', 1), ('in', 18), ('evictions,', 1), ('Williams', 1), ('Preston', 1), ('explained', 1), ('—', 2), ('and', 16), ('many', 1), ('citizens', 1), ('being', 1), ('displaced', 1), ('are', 7), ('people', 4), ('of', 30), ('color.', 3), ('In', 1), ('addition', 1), ('to', 15), ('the', 34), ('struggles', 1), ('people', 4), ('of', 30), ('color', 1), ('face', 1), ('in', 18), ('finding', 1), ('jobs,', 1), ('Robinson', 3), ('said', 2), ('the', 34), ('systematic', 2), ('racism', 3), ('that', 7), ('exists', 2), ('won’t', 2), ('let', 1), ('these', 1), ('communities', 2), ('break', 1), ('out', 1), ('of', 30), ('that', 7), ('endless', 1), ('loop', 1), ('of', 30), ('neglect.', 1), ('Panelists', 2), ('then', 1), ('discussed', 1), ('the', 34), ('ongoing', 1), ('disparities', 1), ('in', 18), ('the', 34), ('racial', 1), ('education', 2), ('gap,', 1), ('agreeing', 1), ('that', 7), ('the', 34), ('first', 1), ('step', 1), ('in', 18), ('improving', 1), ('the', 34), ('system', 2), ('is', 6), ('acknolwedging', 1), ('that', 7), ('there', 2), ('is', 6), ('an', 2), ('issue:', 1), ('Systematic', 1), ('racism', 3), ('leads', 1), ('to', 15), ('academic', 1), ('underperformance', 1), ('in', 18), ('children', 3), ('of', 30), ('color.', 3), ('“There', 1), ('exists', 2), ('a', 8), ('systematic', 2), ('problem', 1), ('…', 2), ('Black', 6), ('children', 3), ('don’t', 1), ('have', 3), ('less', 1), ('capabilities;', 1), ('the', 34), ('system', 2), ('is', 6), ('against', 1), ('them,”', 1), ('Williams-Preston', 7), ('said.', 9), ('Tardy', 4), ('emphasized', 1), ('the', 34), ('importance', 1), ('of', 30), ('educational', 1), ('resources', 1), ('and', 16), ('of', 30), ('having', 2), ('a', 8), ('strong', 1), ('focus', 1), ('on', 3), ('elementary', 1), ('schools', 1), ('where', 2), ('foundational', 1), ('skills', 1), ('are', 7), ('taught,', 1), ('such', 2), ('as', 2), ('reading', 1), ('and', 16), ('writing.', 1), ('He', 1), ('also', 3), ('stressed', 1), ('increasing', 1), ('accessibility', 1), ('of', 30), ('mental', 1), ('health', 2), ('resources.', 1), ('Robinson', 3), ('spoke', 1), ('of', 30), ('the', 34), ('need', 1), ('for', 11), ('reliable', 1), ('institutions', 2), ('in', 18), ('the', 34), ('education', 2), ('system.', 1), ('“We', 2), ('should', 2), ('hold', 1), ('corporations', 1), ('accountable', 1), ('for', 11), ('educating', 1), ('our', 1), ('children', 3), ('and', 16), ('for', 11), ('acknowledging', 1), ('the', 34), ('things', 1), ('that', 7), ('are', 7), ('not', 1), ('working,”', 1), ('Robinson', 3), ('said.', 9), ('Black-owned', 2), ('businesses', 3), ('struggle', 1), ('to', 15), ('grow', 1), ('because', 1), ('of', 30), ('the', 34), ('lack', 4), ('of', 30), ('support', 2), ('from', 3), ('big', 1), ('institutions', 2), ('and', 16), ('Indiana’s', 1), ('state', 2), ('government,', 1), ('Williams-Preston', 7), ('said.', 9), ('“It’s', 1), ('killing', 1), ('us,”', 1), ('she', 1), ('said.', 9), ('Williams-Preston', 7), ('said', 2), ('young', 1), ('people', 4), ('of', 30), ('color,', 1), ('including', 2), ('students,', 1), ('entrepreneurs', 1), ('and', 16), ('members', 1), ('of', 30), ('the', 34), ('community,', 1), ('are', 7), ('leaving', 1), ('South', 8), ('Bend', 3), ('due', 1), ('to', 15), ('a', 8), ('lack', 4), ('of', 30), ('opportunity.', 1), ('There', 1), ('is', 6), ('also', 3), ('space', 2), ('for', 11), ('improvement', 1), ('in', 18), ('the', 34), ('community', 4), ('of', 30), ('Notre', 5), ('Dame', 4), ('in', 18), ('eradicating', 1), ('“nepotism', 1), ('and', 16), ('favoritism,”', 1), ('Williams-Preston', 7), ('said.', 9), ('She', 1), ('argued', 1), ('that', 7), ('Notre', 5), ('Dame', 4), ('should', 2), ('support', 2), ('Black', 6), ('community', 4), ('efforts', 2), ('in', 18), ('“mining', 1), ('[their]', 1), ('gold”', 1), ('from', 3), ('the', 34), ('Westside', 1), ('Black', 6), ('communities', 2), ('in', 18), ('order', 1), ('to', 15), ('make', 1), ('them', 1), ('feel', 1), ('more', 2), ('connected.', 1), ('Panelists', 2), ('also', 3), ('suggested', 1), ('efforts', 2), ('to', 15), ('improve', 1), ('cooperation', 1), ('between', 1), ('local', 3), ('businesses', 3), ('and', 16), ('Notre', 5), ('Dame,', 1), ('including', 2), ('direct', 1), ('funding', 1), ('from', 3), ('the', 34), ('University', 1), ('in', 18), ('supporting', 1), ('local', 3), ('small', 1), ('Black-owned', 2), ('businesses.', 1), ('Efforts', 1), ('such', 2), ('as', 2), ('these,', 1), ('Williams-Preston', 7), ('explained,', 2), ('would', 1), ('provide', 1), ('much-needed', 1), ('space', 2), ('for', 11), ('business', 1), ('growth,', 1), ('talent', 1), ('training', 1), ('and', 16), ('inclusion', 1), ('within', 2), ('the', 34), ('community.', 2), ('“If', 1), ('we', 4), ('can', 1), ('do', 1), ('that,', 1), ('we', 4), ('won’t', 2), ('even', 1), ('be', 1), ('the', 34), ('first,', 1), ('but', 1), ('that’s', 1), ('the', 34), ('kind', 1), ('of', 30), ('thing', 1), ('Notre', 5), ('Dame', 4), ('needs', 1), ('to', 15), ('invest', 1), ('in', 18), ('…', 2), ('committing', 1), ('to', 15), ('becoming', 1), ('a', 8), ('leader', 1), ('in', 18), ('this', 1), ('community', 4), ('by', 1), ('investing', 1), ('in', 18), ('cooperative', 1), ('businesses', 3), ('right', 1), ('here', 1), ('at', 2), ('home,”', 1), ('Williams-Preston', 7), ('said.', 9)]\""
            ],
            "application/vnd.google.colaboratory.intrinsic+json": {
              "type": "string"
            }
          },
          "metadata": {},
          "execution_count": 3
        }
      ]
    },
    {
      "cell_type": "markdown",
      "source": [
        "Or, we could connect the terms and frequency count using a dictionary's key-value pairs."
      ],
      "metadata": {
        "id": "y---2wWvM7cw"
      }
    },
    {
      "cell_type": "code",
      "source": [
        "# convert lists to dictionary using dictionary comprehension\n",
        "word_count = {wordlist[i]: wordfreq[i] for i in range(len(wordlist))}\n",
        "\n",
        "# show dictionary\n",
        "word_count"
      ],
      "metadata": {
        "id": "VEfpQFnpM9I6"
      },
      "execution_count": null,
      "outputs": []
    },
    {
      "cell_type": "markdown",
      "source": [
        "We could also put that data in a Pandas DataFrame."
      ],
      "metadata": {
        "id": "qSGR9_GAN-mg"
      }
    },
    {
      "cell_type": "code",
      "source": [
        "# import pandas\n",
        "import pandas as pd\n",
        "\n",
        "# create dataframe\n",
        "df = pd.DataFrame(list(word_count.items()), columns=['term', 'count'])\n",
        "\n",
        "# show df with count column sorted\n",
        "df.sort_values('count')"
      ],
      "metadata": {
        "id": "aTJvlf2UN_eK"
      },
      "execution_count": null,
      "outputs": []
    },
    {
      "cell_type": "markdown",
      "source": [
        "And once it's in a DataFrame, we could filter or subset the data, by...\n",
        "\n",
        "Filtering out commonly-used words:"
      ],
      "metadata": {
        "id": "YPNt0HQ8OAz9"
      }
    },
    {
      "cell_type": "code",
      "source": [
        "# stopwords\n",
        "stopWords = ['a', 'an', 'and', 'the', 'has', 'to', 'of', 'that', 'in', 'for', 'this']\n",
        "\n",
        "# filter out rows that match list value\n",
        "subset = df[~df['term'].isin(stopWords)]\n",
        "\n",
        "# show updated df\n",
        "subset.sort_values('count')"
      ],
      "metadata": {
        "id": "b2AjMrvZOBs2"
      },
      "execution_count": null,
      "outputs": []
    },
    {
      "cell_type": "markdown",
      "source": [
        "Filtering out rows with terms that only appear 1-2 times."
      ],
      "metadata": {
        "id": "CrH4lCE5OCdV"
      }
    },
    {
      "cell_type": "code",
      "source": [
        "# filter out terms that only 1-2 times\n",
        "subset = subset[subset['count'] > 2]\n",
        "\n",
        "# show updated df\n",
        "subset.sort_values('count')"
      ],
      "metadata": {
        "id": "zrbsIimmODZV"
      },
      "execution_count": null,
      "outputs": []
    },
    {
      "cell_type": "markdown",
      "source": [
        "With normalized textual data, we could use Python to do things like:\n",
        "- count word frequency\n",
        "  * William J. Turkel and Adam Crymble, \"Counting Word Frequencies with Python,\" The Programming Historian 1 (2012), https://programminghistorian.org/en/lessons/counting-frequencies.\n",
        "- analyze keywords in contact using n-grams\n",
        "  * William J. Turkel and Adam Crymble, \"Keywords in Context (Using n-grams) with Python,\" The Programming Historian 1 (2012), https://programminghistorian.org/en/lessons/keywords-in-context-using-n-grams.\n",
        "\n",
        "Why go to all this  trouble? Computational text analysis or other kinds of natural language processing allow us to see patterns and detect change over time in large bodies of textual materials.\n",
        "\n",
        "A few projects that do this with speeches given by U.S. presidents:\n",
        "- [Google News Lab's Inaugurate project](http://inauguratespeeches.com/) that looks at the subjects of inauguration speeches\n",
        "- [\"The Language of the State of the Union,\"](https://www.theatlantic.com/politics/archive/2015/01/the-language-of-the-state-of-the-union/384575/) an interactive project from the *Atlantic*'s Ben Schmidt and Mitch Fraas that \"reveals how the words presidents use reflect the twists and turns of American history\"\n",
        "- [\"Mapping the State of the Union,\"](https://www.theatlantic.com/politics/archive/2015/01/mapping-the-state-of-the-union/384576/), also from Schmidt and Fraas, that \"shows the 1,410 different spots on the globe presidents have referenced in 224 speeches\""
      ],
      "metadata": {
        "id": "ARTtnAa5MxDg"
      }
    },
    {
      "cell_type": "markdown",
      "source": [
        "# Why did we do this?\n",
        "\n",
        "<table>\n",
        " <tr><td>\n",
        "<img src=\"https://elearn.southampton.ac.uk/wp-content/blogs.dir/sites/64/2021/04/PanPan.png\" alt=\"Panopto logo\" width=\"50\"/></td>\n",
        "  <td><a href=\"https://notredame.hosted.panopto.com/Panopto/Pages/Viewer.aspx?id=30d2c0df-f48c-466a-bfa8-af3601739408\">Why Did We Do This</a></td>\n",
        "  </tr>\n",
        "  </table>\n",
        "\n",
        "At this point, your brain probably hurts. Mine does. Why go to all the trouble of building a Python program when we could just copy and paste the text from an *Observer* article into a `.txt` file, or copy and paste data from Sports Reference into an Excel file or Google Sheet document? Why write a program when we could just remove the markup ourselves through manual data manipulation?\n",
        "\n",
        "That's a fair question.\n",
        "\n",
        "Scientific disciplines value research that can be reproduced and replicated. A 2013 editorial in *PLOS Computational Biology* outlines the value of reproducible computational research:\n",
        "<blockquote>\"The importance of replication and reproducibility has recently been exemplified through studies showing that scientific papers commonly leave out experimental details essential for reproduction, studies showing difficulties with replicating published experimental results, an increase in retracted papers, and through a high number of failing clinical trials.\n",
        "<br>\n",
        "<br>\"We want to emphasize that reproducibility is not only a moral responsibility with respect to the scientific field, but that a lack of reproducibility can also be a burden for you as an individual researcher. As an example, a good practice of reproducibility is necessary in order to allow previously developed methodology to be effectively applied on new data, or to allow reuse of code and results for new projects. In other words, good habits of reproducibility may actually turn out to be a time-saver in the longer run.\n",
        "<br>\n",
        "<br>\"We further note that reproducibility is just as much about the habits that ensure reproducible research as the technologies that can make these processes efficient and realistic.\"\n",
        "<br>\n",
        "<br>\n",
        "<em>Sandve GK, Nekrutenko A, Taylor J, Hovig E (2013) Ten Simple Rules for Reproducible Computational Research. PLOS Computational Biology 9(10): e1003285. https://doi.org/10.1371/journal.pcbi.1003285.</em></blockquote>\n",
        "\n",
        "Manually wrangling or manipulating data makes it difficult for colleagues (and future you) to understand how you got from point A to point B with your data. It also increases the likelihood of human error. In the *PLOS Computational Biology* article, one of the ten rules the authors outline is \"Avoid Manual Data Manipulation Steps.\" The Python workflows we're covering in this lab move in the direction of automating the data scraping/manipulation process, creating a template or workflow others could implement or adapt.\n"
      ],
      "metadata": {
        "id": "2zEJogicMyX4"
      }
    },
    {
      "cell_type": "markdown",
      "source": [
        "\n",
        "# How to submit this lab (and show your work)\n",
        "\n",
        "Moving forward, we're going to be submitting lab notebooks using Jupyter Notebook templates.\n",
        "- If working in JupyterLab (or another desktop IDE), download the `.ipynb` file to your local computer\n",
        "  * `File` - `Download` - `Download as .ipynb`\n",
        "- If working in Google Colaboratory, MAKE SURE you save a copy to your local drive. Otherwise your changes will not be saved.\n",
        "  * `File` - `Save a copy in Drive`\n",
        "\n",
        "The lab notebook template includes all of the questions as well as pre-created markdown cells for narrative text answers and pre-created code cells for any programs you may need to create.\n",
        "- Double click on these cells to edit and add your own content\n",
        "- If questions do not require a code component, you can ignore those cells\n",
        "- If questions to not require a narrative component, you can ignore those cells\n",
        "\n",
        "If working in JupyterLab or another desktop IDE, upload the lab notebook template `.ipynb` file to Canvas as your lab submission.\n",
        "\n",
        "If working in Google Colaboratory, submit the link to your notebook (checking sharing permissions, similar with Google Docs)."
      ],
      "metadata": {
        "id": "zRIQVQzsOMSZ"
      }
    },
    {
      "cell_type": "markdown",
      "source": [
        "# Lab Notebook Questions\n",
        "\n",
        "[Click here](https://colab.research.google.com/drive/1-2ahHpMdSzYFSVLnZGfldEoAuyRs5wj7?usp=sharing) to access the lab notebook template as a Jupyter Notebook (Google Colab, ND Users).\n",
        "\n",
        "Q1A: Select another Wikipedia page that includes a table. From looking at the public web page, what data do you want to scrape from this web page (i.e. specific table, multiple tables, etc.)? What do you want the resulting data structure to look like (columns, rows, etc)?\n",
        "\n",
        "Q1B: Take a look at the HTML for this page. What tags or other HTML components do you see around the section of the page you want to work with? For this question, we're thinking about how we will end up writing a program with <code>BeautifulSoup</code> to isolate a section of the web page.\n",
        "\n",
        "Q1C: Develop an outline for a Python program that scrapes data from the web page you selected.\n",
        "\n",
        "A preliminary workflow:\n",
        "- Load URL and create BeautifulSoup object\n",
        "- Isolate section of HTML with your table (either directly or extract from list)\n",
        "- Isolate table row elements (create list where each element is a table row)\n",
        "- Extract contents from row (isolate the pieces of information from each row)\n",
        "- Create Pandas DataFrame\n",
        "- Write extracted row contents to CSV file\n",
        "\n",
        "NOTE: This program will have a lot of moving parts! Starting with pseudocode to think about the underlying logic can help you organize the components you're building. As you start to build out your own program, think about where you can draw on sample code from the lab (or follow the same conceptual workflow).\n",
        "\n",
        "Q1D: What challenges or roadblocks did you face working on Q1C? How did you start to tackle or solve them?\n",
        "\n",
        "Q2A: Develop an outline for a Python program that uses pd.read_html() to scrape data from a web page of your choosing.\n",
        "- *Wikipedia tables are fair game, but folks interested in sport data may want to head over to a [Sports Reference site](https://www.sports-reference.com/).*\n",
        "\n",
        "A preliminary workflow:\n",
        "- Use `pd.read_html()` to create a list of DataFrame objects\n",
        "- Identify which DataFrame object in the list is the table you want to work with\n",
        "- Isolate the list element to create a new DataFrame\n",
        "- Write the new DataFrame to a CSV file\n",
        "\n",
        "NOTE: Even though `pd.read_html()` has an easier learning curve than `BeautifulSoup`, this program will have a few moving parts! Starting with pseudocode to think about the underlying logic can help you organize the components you're building. As you start to build out your own program, think about where you can draw on sample code from the lab (or follow the same conceptual workflow).\n",
        "\n",
        "ANOTHER NOTE: For many Sports Reference pages, tables further down the page are buried in HTML comments. These tables will not show up when you use `pd.read_html()`. We can come back to these \"hidden tables\" in the final project, but for now, focus on the tables that do show up when you use `pd.read_html()`.\n",
        "\n",
        "Q2B: What challenges or roadblocks did you face working on Q2A? How did you start to tackle or solve them?\n",
        "\n",
        "Q3A: Select another web page that includes unstructured text. From looking at the public web page, what text do you want to scrape from this web page (i.e. specific sections, multiple paragraphs, etc.)?\n",
        "\n",
        "A few places to start for unstructured text:\n",
        "- [WikiSource](https://en.wikisource.org/wiki/Main_Page)(a library of texts that are not covered by copyright)\n",
        "  * [U.S. Presidential State of the Union Addresses](https://en.wikisource.org/wiki/Portal:State_of_the_Union_Speeches_by_United_States_Presidents)\n",
        "  * [U.S. Presidential Inaugural Speeches](https://en.wikisource.org/wiki/Portal:Inaugural_Speeches_by_United_States_Presidents)\n",
        "- [Project Gutenberg](https://www.gutenberg.org) (a library of literary works or texts that are not covered by copyright)\n",
        "\n",
        "Q3B: Take a look at the HTML for this page. What tags or other HTML components do you see around the section of the page you want to work with? For this question, we're thinking about how we will end up writing a program with `BeautifulSoup` to isolate a section of the web page.\n",
        "\n",
        "Q3C: Develop an outline for a Python program that scrapes unstructured text from the web page you selected.\n",
        "\n",
        "A preliminary workflow:\n",
        "- Load URL and create BeautifulSoup object\n",
        "- Isolate section of HTML with your text (either directly or extract from list)\n",
        "- IF NEEDED: Isolate text elements (create list where each element is a section of text)\n",
        "- IF NEEDED: Extract text contents (isolate text from each section/paragraph)\n",
        "- Write text to TXT file\n",
        "\n",
        "NOTE: This program will have a lot of moving parts! Starting with pseudocode to think about the underlying logic can help you organize the components you're building. As you start to build out your own program, think about where you can draw on sample code from the lab (or follow the same conceptual workflow).\n",
        "\n",
        "Q3D: What challenges or roadblocks did you face working on Q3C? How did you start to tackle or solve them?"
      ],
      "metadata": {
        "id": "qn8chVq6OKdX"
      }
    }
  ]
}