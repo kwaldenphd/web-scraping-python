{
  "cells": [
    {
      "cell_type": "markdown",
      "metadata": {
        "id": "view-in-github",
        "colab_type": "text"
      },
      "source": [
        "<a href=\"https://colab.research.google.com/github/kwaldenphd/web-scraping-python/blob/main/python_web_scraping_procedure.ipynb\" target=\"_parent\"><img src=\"https://colab.research.google.com/assets/colab-badge.svg\" alt=\"Open In Colab\"/></a>"
      ]
    },
    {
      "cell_type": "markdown",
      "source": [
        "# Web Scraping in Python\n",
        "\n",
        "<a href=\"http://creativecommons.org/licenses/by-nc/4.0/\" rel=\"license\"><img style=\"border-width: 0;\" src=\"https://i.creativecommons.org/l/by-nc/4.0/88x31.png\" alt=\"Creative Commons License\" /></a>\n",
        "This tutorial is licensed under a <a href=\"http://creativecommons.org/licenses/by-nc/4.0/\" rel=\"license\">Creative Commons Attribution-NonCommercial 4.0 International License</a>."
      ],
      "metadata": {
        "id": "ZPx1UbbtQUlp"
      },
      "id": "ZPx1UbbtQUlp"
    },
    {
      "cell_type": "markdown",
      "source": [
        "## Lab Overview\n",
        "\n",
        "This lab provides an introduction and overview to parsing HTML in Python using `beautifulsoup` and `pandas`.\n",
        "\n",
        "<table>\n",
        " <tr><td>\n",
        "<img src=\"https://elearn.southampton.ac.uk/wp-content/blogs.dir/sites/64/2021/04/PanPan.png\" alt=\"Panopto logo\" width=\"50\"/></td>\n",
        "  <td><a href=\"https://notredame.hosted.panopto.com/Panopto/Pages/Viewer.aspx?id=c49fc924-268d-4f3b-a0cc-ade900293029\">Lab overview</a></td>\n",
        "  </tr>\n",
        "  </table>\n",
        "  \n",
        "<table>\n",
        " <tr><td>\n",
        "<img src=\"https://elearn.southampton.ac.uk/wp-content/blogs.dir/sites/64/2021/04/PanPan.png\" alt=\"Panopto logo\" width=\"50\"/></td>\n",
        "<td><a href=\"https://notredame.hosted.panopto.com/Panopto/Pages/Viewer.aspx?pid=134db1ac-7685-4fce-b121-adea01531389\">Lecture/live coding playlist</a></td>\n",
        "  </tr>\n",
        "  </table>"
      ],
      "metadata": {
        "id": "V2DNim7aQVZ_"
      },
      "id": "V2DNim7aQVZ_"
    },
    {
      "cell_type": "markdown",
      "source": [
        "## Acknowledgements\n",
        "\n",
        "The author consulted the following materials when building this lab:\n",
        "- Lisa Tagliaferri, \"How to Scrape Web Pages With Beautiful Soup and Python 3\" *Digital Ocean* (20 March 2019). https://www.digitalocean.com/community/tutorials/how-to-scrape-web-pages-with-beautiful-soup-and-python-3\n",
        "- Jeri Wieringa, \"Intro to Beautiful Soup,\" *The Programming Historian* 1 (2012), https://doi.org/10.46430/phen0008.\n",
        "- Martin Breuss, \"Beautiful Soup: Build a Web Scraper With Python\" *Real Python*. https://realpython.com/beautiful-soup-web-scraper-python/\n",
        "- DataQuest, \"Tutorial: Web Scraping With Python Using Beautiful Soup\" *DataQuest* (2 September 2020). https://www.dataquest.io/blog/web-scraping-tutorial-python/\n",
        "\n",
        "The introductory sections of this lab are based on and adapted from:\n",
        "- Lisa Tagliaferri, \"How to Scrape Web Pages With Beautiful Soup and Python 3\" *Digital Ocean* (20 March 2019). https://www.digitalocean.com/community/tutorials/how-to-scrape-web-pages-with-beautiful-soup-and-python-3"
      ],
      "metadata": {
        "id": "HN5qIh1oQWXO"
      },
      "id": "HN5qIh1oQWXO"
    },
    {
      "cell_type": "markdown",
      "source": [
        "# Lecture and Live Coding\n",
        "\n",
        "Throughout this lab, you will see a Panopto icon at the start of select sections.\n",
        "\n",
        "This icon indicates there is lecture/live coding asynchronous content that accompanies this section of the lab. \n",
        "\n",
        "You can click the link in the figure caption to access these materials (ND users only).\n",
        "\n",
        "Example:\n",
        "\n",
        "<table>\n",
        " <tr><td>\n",
        "<img src=\"https://elearn.southampton.ac.uk/wp-content/blogs.dir/sites/64/2021/04/PanPan.png\" alt=\"Panopto logo\" width=\"50\"/></td>\n",
        "  <td><a href=\"https://notredame.hosted.panopto.com/Panopto/Pages/Viewer.aspx?id=c49fc924-268d-4f3b-a0cc-ade900293029\">Lab overview</a></td>\n",
        "  </tr>\n",
        "  </table>\n",
        "  \n",
        "<table>\n",
        " <tr><td>\n",
        "<img src=\"https://elearn.southampton.ac.uk/wp-content/blogs.dir/sites/64/2021/04/PanPan.png\" alt=\"Panopto logo\" width=\"50\"/></td>\n",
        "<td><a href=\"https://notredame.hosted.panopto.com/Panopto/Pages/Viewer.aspx?pid=134db1ac-7685-4fce-b121-adea01531389\">Lecture/live coding playlist</a></td>\n",
        "  </tr>\n",
        "  </table>\n"
      ],
      "metadata": {
        "id": "mIjrh9h2QX8J"
      },
      "id": "mIjrh9h2QX8J"
    },
    {
      "cell_type": "markdown",
      "source": [
        "# Lab Notebook Template\n",
        "\n",
        "Lab notebook template:\n",
        "- [Jupyter Notebook](https://drive.google.com/file/d/1LRsbOC11-8YrPUNBJNAzJDiIM_CQJ3go/view?usp=sharing)"
      ],
      "metadata": {
        "id": "A5zxAZnzQY5I"
      },
      "id": "A5zxAZnzQY5I"
    },
    {
      "cell_type": "markdown",
      "source": [
        "# Introduction to Beautiful Soup\n",
        "\n",
        "<table>\n",
        " <tr><td>\n",
        "<img src=\"https://elearn.southampton.ac.uk/wp-content/blogs.dir/sites/64/2021/04/PanPan.png\" alt=\"Panopto logo\" width=\"50\"/></td>\n",
        "  <td><a href=\"https://notredame.hosted.panopto.com/Panopto/Pages/Viewer.aspx?id=ab460bfe-4adc-40a4-8072-ade9002b5fa6\">Getting Started With Beautiful Soup</a></td>\n",
        "  </tr>\n",
        "  </table>\n",
        "\n",
        "1. What is Beautiful Soup? \n",
        "\n",
        "2. \"Beautiful Soup is a Python library for pulling data out of HTML and XML files. It works with your favorite parser to provide idiomatic ways of navigating, searching, and modifying the parse tree. It commonly saves programmers hours or days of work\" ([Beautiful Soup Documentation](https://www.crummy.com/software/BeautifulSoup/bs4/doc/))\n",
        "\n",
        "3. The library name is an allusion to the song Lewis Carroll character the Mock Turtle sings in Chapter 10 of *Alice's Adventures in Wonderland*.\n",
        "\n",
        "4. `Beautiful Soup` uses the structure of markup language documents (i.e. HTML, XML, etc) to extract information we can work with in a Python programming environment.\n",
        "\n",
        "5. In this lab, we will be focusing on using `Beautiful Soup` to parse and scrape web pages built using HTML and CSS."
      ],
      "metadata": {
        "id": "bT90V2x6QaKU"
      },
      "id": "bT90V2x6QaKU"
    },
    {
      "cell_type": "markdown",
      "source": [
        "# Installing Beautiful Soup\n",
        "\n",
        "6. We can install `Beautiful Soup` at the command line using a terminal or shell in our Python environment.\n",
        "\n",
        "7. To install `Beautiful Soup` using `pip`:\n",
        "- `pip install beautifulsoup4`\n",
        "\n",
        "8. For more on installing modules using `pip`: Fred Gibbs, \"Installing Python Modules with pip,\" The Programming Historian 2 (2013), https://doi.org/10.46430/phen0029.\n",
        "\n",
        "9. We also can install the `lxml` library to help with parsing HTML.\n",
        "\n",
        "10. To install `lxml` using `pip`:\n",
        "- `pip install lxml`"
      ],
      "metadata": {
        "id": "ast08dviQb6g"
      },
      "id": "ast08dviQb6g"
    },
    {
      "cell_type": "markdown",
      "source": [
        "# Loading URLs in Python\n",
        "\n",
        "11. We will be using the `requests` library to load URLs in Python.\n",
        "\n",
        "12. This library is already built into Python and does not require additional installation.\n",
        "\n",
        "13. Core syntax for using the `requests` library to load a URL:\n"
      ],
      "metadata": {
        "id": "3TiedxpxQc65"
      },
      "id": "3TiedxpxQc65"
    },
    {
      "cell_type": "code",
      "source": [
        "# import requests\n",
        "import requests\n",
        "\n",
        "# load url using get requests.get() method\n",
        "page = requests.get('URL GOES HERE')"
      ],
      "metadata": {
        "id": "OyVLroLeQdzR"
      },
      "id": "OyVLroLeQdzR",
      "execution_count": null,
      "outputs": []
    },
    {
      "cell_type": "markdown",
      "source": [
        "# Creating a Beautiful Soup Object\n",
        "\n",
        "14. Once we have a URL loaded in Python, we want to be able to use `BeautifulSoup` to parse the web page's HTML components.\n",
        "\n",
        "15. We can do that by creating a BeautifulSoup object.\n",
        "\n",
        "16. Core syntax:"
      ],
      "metadata": {
        "id": "jKPGcX68Qe0S"
      },
      "id": "jKPGcX68Qe0S"
    },
    {
      "cell_type": "code",
      "source": [
        "# import beautifulsoup\n",
        "from bs4 import BeautifulSoup\n",
        "\n",
        "# create beautifulsoup object\n",
        "soup = BeautifulSoup(page.text, 'html.parser')"
      ],
      "metadata": {
        "id": "ql88YI-SQfj0"
      },
      "id": "ql88YI-SQfj0",
      "execution_count": null,
      "outputs": []
    },
    {
      "cell_type": "markdown",
      "source": [
        "17. Putting that all together, the core syntax for loading a URL and creating a BeautifulSoup object:"
      ],
      "metadata": {
        "id": "O1T2COVzQgb0"
      },
      "id": "O1T2COVzQgb0"
    },
    {
      "cell_type": "code",
      "source": [
        "# import requests\n",
        "import requests\n",
        "\n",
        "# import beautifulsoup\n",
        "from bs4 import BeautifulSoup\n",
        "\n",
        "# load url using get requests.get() method\n",
        "page = requests.get('URL GOES HERE')\n",
        "\n",
        "# create beautiful soup object\n",
        "soup = BeautifulSoup(page.text, 'html.parser')"
      ],
      "metadata": {
        "id": "kUS7-eTBQhT0"
      },
      "id": "kUS7-eTBQhT0",
      "execution_count": null,
      "outputs": []
    },
    {
      "cell_type": "markdown",
      "source": [
        "18. Now, we are ready to parse the web page's HTML using `BeautifulSoup`.\n",
        "\n",
        "# HTML Refresh\n",
        "\n",
        "<table>\n",
        " <tr><td>\n",
        "<img src=\"https://elearn.southampton.ac.uk/wp-content/blogs.dir/sites/64/2021/04/PanPan.png\" alt=\"Panopto logo\" width=\"50\"/></td>\n",
        "  <td><a href=\"https://notredame.hosted.panopto.com/Panopto/Pages/Viewer.aspx?id=1ed9a128-e2f1-4415-a8ea-ade9002f2f98\">HTML Refresh</a></td>\n",
        "  </tr>\n",
        "  </table>\n",
        "\n",
        "\n",
        "19. HTML uses a few core tags for web pages that include tables.\n",
        "- `table` (marks the start and end of a table\n",
        "- `tbody` (marks the start and end of the table body)\n",
        "- `tr` (marks the start and end of each table row)\n",
        "- `th` (marks the start and end of each column in the first row of the table)\n",
        "- `td` (marks the start and end of each column after the first row of the table)\n",
        "\n",
        "20. How we might see those tags combined in a table structure:\n",
        "\n",
        "```HTML\n",
        "<table>\n",
        " <tr>\n",
        "  <th>First Column Header</th>\n",
        "  <th>Second Column Header</th>\n",
        "  <th>Third Column Header</th>\n",
        " </tr>\n",
        " <tr>\n",
        "  <td>Data in first column/first row</td>\n",
        "  <td>Data in second column/first row</td>\n",
        "  <td>Data in third column/first row</td>\n",
        " </tr>\n",
        " <tr>\n",
        "  <td>Data in first column/second row</td>\n",
        "  <td>Data in second column/second row</td>\n",
        "  <td>Data in third column/second row</td>\n",
        " </tr>\n",
        "</table>\n",
        "```\n",
        "\n",
        "21. The output of that HTML would look like:\n",
        "\n",
        "<table>\n",
        " <tr>\n",
        "  <th>First Column Header</th>\n",
        "  <th>Second Column Header</th>\n",
        "  <th>Third Column Header</th>\n",
        " </tr>\n",
        " <tr>\n",
        "  <td>Data in first column/first row</td>\n",
        "  <td>Data in second column/first row</td>\n",
        "  <td>Data in third column/first row</td>\n",
        " </tr>\n",
        " <tr>\n",
        "  <td>Data in first column/second row</td>\n",
        "  <td>Data in second column/second row</td>\n",
        "  <td>Data in third column/second row</td>\n",
        " </tr>\n",
        "</table>\n",
        "\n",
        "22. Additional attributes like `align`, `style`, etc. can be used with many of these tags.\n",
        "\n",
        "23. Some other tags that we might encounter when trying to parse HTML using `BeautifulSoup`:\n",
        "\n",
        "<table>\n",
        "    <tr>\n",
        "        <td>Name</td>\n",
        "        <td>Syntax</td>\n",
        "        <td>Description</td>\n",
        "    </tr>\n",
        "    <tr>\n",
        "        <td>Heading</td>\n",
        "        <td><code>h1, h2, h3, etc</code></td>\n",
        "            <td>HTML headings</td>\n",
        "            </tr>\n",
        "            <tr>\n",
        "                <td>Division</td>\n",
        "                <td><code>div</code></td>\n",
        "                <td>Defines sections or divisions in an HTML document</td>\n",
        "            </tr>\n",
        "            <tr>\n",
        "                <td>Paragraph</td>\n",
        "                <td><code>p</code></td>\n",
        "                <td>Defines paragraphs in an HTML document</td>\n",
        "            </tr>\n",
        "            <tr>\n",
        "                <td>Span</td>\n",
        "                <td><code>span</code></td>\n",
        "                <td>Defines a section in an HTML document</td>\n",
        "            </tr>\n",
        "            <tr>\n",
        "                <td>Unordered list</td>\n",
        "                <td><code>ul</code></td>\n",
        "                <td>Defines the start of an unordered list (followed by <code>li</code> tags)</td>\n",
        "            </tr>\n",
        "            <tr>\n",
        "                <td>Hyperlink</td>\n",
        "                <td><code>a</code></td>\n",
        "                    <td>Defines a hyperlink in an HTML document (followed by <code>href = \"URL\"</code>)</td>\n",
        "            </tr>\n",
        "            </table>\n",
        "\n",
        "\n",
        "24. For more detail on HTML and CSS:\n",
        "- [W3Schools HTML Tutorial](https://www.w3schools.com/html)\n",
        "- [W3Schools CSS Tutorial](https://www.w3schools.com/css)\n",
        "- [EoC HTML/CSS Lab](https://github.com/kwaldenphd/HTML-CSS/tree/EoC1-F20)\n",
        "            \n",
        "25. When using `BeautifulSoup`, we can isolate information on the webpage through interacting with the HTML syntax."
      ],
      "metadata": {
        "id": "8uG7fYWwQjb3"
      },
      "id": "8uG7fYWwQjb3"
    },
    {
      "cell_type": "markdown",
      "source": [
        "# File Methods Refresh\n",
        "\n",
        "<table>\n",
        " <tr><td>\n",
        "<img src=\"https://elearn.southampton.ac.uk/wp-content/blogs.dir/sites/64/2021/04/PanPan.png\" alt=\"Panopto logo\" width=\"50\"/></td>\n",
        "  <td><a href=\"https://notredame.hosted.panopto.com/Panopto/Pages/Viewer.aspx?id=1ed9a128-e2f1-4415-a8ea-ade9002f2f98\">File Methods Refresh</a></td>\n",
        "  </tr>\n",
        "  </table>\n",
        "\n",
        "26. As part of our work in this lab, we'll be saving the content we have scraped from a web page to a plain-text file (either `.txt` or `.csv`).\n",
        "\n",
        "27. A quick review of how Python handles creating, reading, and writing files, specifically focusing on...\n",
        "- `open()`\n",
        "- `write()`\n"
      ],
      "metadata": {
        "id": "umzUHMFhQlK7"
      },
      "id": "umzUHMFhQlK7"
    },
    {
      "cell_type": "markdown",
      "source": [
        "## `open()`\n",
        "\n",
        "28. The `open()` function lets us open an existing file or create a new file in Python.\n",
        "\n",
        "29. For either version of `open()` (new file or existing file), we need to specify the file name (with the file type extension) and access mode.\n",
        "\n",
        "30. Core syntax for opening an existing file:"
      ],
      "metadata": {
        "id": "xAODNH8bQmJ_"
      },
      "id": "xAODNH8bQmJ_"
    },
    {
      "cell_type": "code",
      "source": [
        "open(file_name.extension, access_mode)"
      ],
      "metadata": {
        "id": "Ext-rX08Qmzz"
      },
      "id": "Ext-rX08Qmzz",
      "execution_count": null,
      "outputs": []
    },
    {
      "cell_type": "markdown",
      "source": [
        "31. The file type extension is the string of characters that follows the period after the file name.\n",
        "\n",
        "32. Examples include `.py`, `.csv`, `.txt`, etc.\n",
        "\n",
        "33. The types of file handling functions we are covering in this lab will generally only support reading and writing plain-text (or machine-readable) files.\n",
        "\n",
        "## Access Modes\n",
        "\n",
        "34. The access mode parameter specifies the types of modifications that can be made to the file. It can also specify the type of data or information contained in the file.\n",
        "\n",
        "35. Possible access mode parameters:\n",
        "\n",
        "<table>\n",
        " <tr>\n",
        "  <th>Parameter</th>\n",
        "  <th>Name</th>\n",
        "  <th>Description</th>\n",
        " </tr>\n",
        " <tr>\n",
        "  <td><code>\"r\"</code></td>\n",
        "  <td>Read</td>\n",
        "  <td>Opens a file for reading; also the default value</td>\n",
        " </tr>\n",
        " <tr>\n",
        "  <td><code>\"a\"</code></td>\n",
        "  <td>Append</td>\n",
        "  <td>Opens the file for appending new or additional information; Creates the file if it does not already exist</td>\n",
        " </tr>\n",
        " <tr>\n",
        "  <td><code>\"w\"</code></td>\n",
        "  <td>Write</td>\n",
        "  <td>Opens the file for writing new information; Creates the file if it does not already exist</td>\n",
        " </tr>\n",
        " <tr>\n",
        "  <td><code>\"x\"</code></td>\n",
        "  <td>Create</td>\n",
        "  <td>Creates the file if it does not already exist</td>\n",
        " </tr>\n",
        " </table>\n",
        "\n",
        "36. Additionally, we can specify the type of data contained in the file, or how Python should handle the information in the file.\n",
        "\n",
        "<table>\n",
        " <tr>\n",
        "  <th>Parameter</th>\n",
        "  <th>Name</th>\n",
        "  <th>Description</th>\n",
        " </tr>\n",
        " <tr>\n",
        "  <td><code>\"t\"</code></td>\n",
        "  <td>Text</td>\n",
        "  <td>Treats file as text data; also the default value</td>\n",
        " </tr>\n",
        " <tr>\n",
        "  <td><code>\"b\"</code></td>\n",
        "  <td>Binary</td>\n",
        "  <td>Treats the file as binary data</td>\n",
        " </tr>\n",
        " </table>"
      ],
      "metadata": {
        "id": "fXLXTKYHQoYD"
      },
      "id": "fXLXTKYHQoYD"
    },
    {
      "cell_type": "markdown",
      "source": [
        " ### `open()` examples\n",
        " \n",
        "```Python\n",
        " # opens an existing text (TXT) file with overwrite permission\n",
        " f = open(\"existing_file.txt\", \"w\")\n",
        "```\n",
        " \n",
        "```Python\n",
        " # opens an existing CSV file and reads the content\n",
        " f = open(\"existing_file.csv\", \"r\")\n",
        "```\n",
        " \n",
        "```Python\n",
        " # creates new txt file with write permission\n",
        " f = open(\"new_file.txt\", \"w\")\n",
        "```\n",
        " \n",
        "````Python\n",
        " # creates new CSV file without write privileges\n",
        " f = open(\"new_file.csv\", \"x\")\n",
        "```\n",
        " \n",
        "37. If you run these examples, you will see a newly-created file appear in your environment or project workspace. \n"
      ],
      "metadata": {
        "id": "wnNAsrkQQqZM"
      },
      "id": "wnNAsrkQQqZM"
    },
    {
      "cell_type": "markdown",
      "source": [
        "## `write()`\n",
        "\n",
        "38. Now that we have a newly-created file in Python, we can use the `write()` function to ***write*** content to that file.\n",
        "\n",
        "39. Let's say we want to create a `.txt` (plain text) file and write a string to that file.\n",
        "\n",
        "40. We can do that using `write()`.\n",
        "\n",
        "41. An example:\n"
      ],
      "metadata": {
        "id": "UPEaW-DFQstn"
      },
      "id": "UPEaW-DFQstn"
    },
    {
      "cell_type": "code",
      "source": [
        "# creates new txt file with write permission\n",
        "f = open(\"new_file.txt\", \"w\")\n",
        "\n",
        "# writes string to new file\n",
        "f.write(\"Hello world!\")\n",
        "\n",
        "# closes file\n",
        "f.close()"
      ],
      "metadata": {
        "id": "0dFqk51jQtW-"
      },
      "id": "0dFqk51jQtW-",
      "execution_count": null,
      "outputs": []
    },
    {
      "cell_type": "markdown",
      "source": [
        "42. Another example where we have assigned a string to a variable and write the variable to the `.txt` file:"
      ],
      "metadata": {
        "id": "di1vowCqQua1"
      },
      "id": "di1vowCqQua1"
    },
    {
      "cell_type": "code",
      "source": [
        "# creates new txt file with write permission\n",
        "f = open(\"new_file.txt\", \"w\")\n",
        "\n",
        "# assigns string to variable\n",
        "hello_world = \"Hello world!\"\n",
        "\n",
        "# writes string variable to new file\n",
        "f.write(hello_world)\n",
        "\n",
        "# closes file\n",
        "f.close()"
      ],
      "metadata": {
        "id": "mpe5f3X-QvG-"
      },
      "id": "mpe5f3X-QvG-",
      "execution_count": null,
      "outputs": []
    },
    {
      "cell_type": "markdown",
      "source": [
        "43. Open the `new_file.txt` file to see the newly-added content.\n",
        "\n",
        "44. For more on file handling methods in Python:\n",
        "- [Python File Handling, W3Schools](https://www.w3schools.com/python/python_file_handling.asp)\n",
        "- [Python File Write, W3Schools](https://www.w3schools.com/python/python_file_write.asp)\n",
        "- [Python open() Function](https://www.w3schools.com/python/ref_func_open.asp)\n",
        "\n",
        "## `open()`, `write()`, and `CSV` files\n",
        "\n",
        "45. Later in this lab, we will scrape data from the web and write that to a `CSV` file.\n",
        "- `CSV` stands for comma-separated values.\n",
        "- `CSV` files are the plain-text, machine-readable file type for tabular data (table data, or data in a spreadsheet structure)\n",
        "\n",
        "46. A reminder that a table that looks like this in a spreadsheet program like Excel or Google Sheets:\n",
        "<table>\n",
        " <tr>\n",
        "  <th>Parameter</th>\n",
        "  <th>Name</th>\n",
        "  <th>Description</th>\n",
        " </tr>\n",
        " <tr>\n",
        "  <td><code>\"t\"</code></td>\n",
        "  <td>Text</td>\n",
        "  <td>Treats file as text data; also the default value</td>\n",
        " </tr>\n",
        " <tr>\n",
        "  <td><code>\"b\"</code></td>\n",
        "  <td>Binary</td>\n",
        "  <td>Treats the file as binary data</td>\n",
        " </tr>\n",
        " </table>\n",
        "\n",
        "47. Would look like this as a CSV:\n",
        "\n",
        "```CSV\n",
        "Parameter, Name, Description\n",
        "\"t\", Text, Treats file as text data; also the default value\n",
        "\"b\", Binary, Treats the file as binary data\n",
        "```\n",
        "\n",
        "48. So when writing data to a `CSV` file, we need Python to understand the row structure and comma-separated syntax for the file type.\n",
        "\n",
        "49. Specifically, we need Python to understand we are writing individual rows of data to the file, and we need Python to understand that those rows consist of columns of data separated by columns.\n",
        "\n",
        "50. We can create a file using the `open()` function covered in a previous section of the lab.\n"
      ],
      "metadata": {
        "id": "e10FRwV0QxBg"
      },
      "id": "e10FRwV0QxBg"
    },
    {
      "cell_type": "code",
      "source": [
        " # create new CSV file with write privileges\n",
        " f = open(\"new_file.csv\", \"w\")"
      ],
      "metadata": {
        "id": "974AnpvRQxtT"
      },
      "id": "974AnpvRQxtT",
      "execution_count": null,
      "outputs": []
    },
    {
      "cell_type": "markdown",
      "source": [
        "51. The next step is to create the `writer` object using the `csv.writer()` function.\n"
      ],
      "metadata": {
        "id": "KxxKOcpuQ1B5"
      },
      "id": "KxxKOcpuQ1B5"
    },
    {
      "cell_type": "code",
      "source": [
        "# create writer object\n",
        "outputWriter = csv.writer(f)"
      ],
      "metadata": {
        "id": "hI7gKvsEQz4A"
      },
      "id": "hI7gKvsEQz4A",
      "execution_count": null,
      "outputs": []
    },
    {
      "cell_type": "markdown",
      "source": [
        "52. Next, we can use the `.writerow()` method to write individual lists as rows in our `CSV` file.\n"
      ],
      "metadata": {
        "id": "Y981SZbUQ2Gj"
      },
      "id": "Y981SZbUQ2Gj"
    },
    {
      "cell_type": "code",
      "source": [
        "# write first row\n",
        "outputWriter.writerow(['Parameter', 'Name', 'Description')]\n",
        "\n",
        "# write second row\n",
        "outputWriter.writerow(['t', 'Text', 'Treats file as text data; also the default value'])\n",
        "\n",
        "# write third row\n",
        "outputWriter.writerow(['b', 'Binary', 'Treats the file as binary data')]"
      ],
      "metadata": {
        "id": "Fqu90fDaQ3JR"
      },
      "id": "Fqu90fDaQ3JR",
      "execution_count": null,
      "outputs": []
    },
    {
      "cell_type": "markdown",
      "source": [
        "53. Putting that all together:\n"
      ],
      "metadata": {
        "id": "At033cFjQ34L"
      },
      "id": "At033cFjQ34L"
    },
    {
      "cell_type": "code",
      "source": [
        "# create new CSV file with write privileges\n",
        "f = open(\"new_file.csv\", \"w\")\n",
        " \n",
        "# create writer object\n",
        "outputWriter = csv.writer(f)\n",
        "\n",
        "# write first row\n",
        "outputWriter.writerow(['Parameter', 'Name', 'Description')]\n",
        "\n",
        "# write second row\n",
        "outputWriter.writerow(['t', 'Text', 'Treats file as text data; also the default value'])\n",
        "\n",
        "# write third row\n",
        "outputWriter.writerow(['b', 'Binary', 'Treats the file as binary data')]\n",
        "\n",
        "# close file\n",
        "f.close()"
      ],
      "metadata": {
        "id": "ptsXqkUzQ4w9"
      },
      "id": "ptsXqkUzQ4w9",
      "execution_count": null,
      "outputs": []
    },
    {
      "cell_type": "markdown",
      "source": [
        "54. Check out `new_file.csv` to see the newly-created file with rows of data.\n",
        "\n",
        "# Using BeautifulSoup With a Single Web Page\n",
        "\n",
        "<table>\n",
        " <tr><td>\n",
        "<img src=\"https://elearn.southampton.ac.uk/wp-content/blogs.dir/sites/64/2021/04/PanPan.png\" alt=\"Panopto logo\" width=\"50\"/></td>\n",
        "  <td><a href=\"https://notredame.hosted.panopto.com/Panopto/Pages/Viewer.aspx?id=c33c1d07-578e-464b-85ac-ade900316fc1\">BeautifulSoup and a Single Web page</a></td>\n",
        "  </tr>\n",
        "  </table>\n",
        "\n",
        "\n",
        "55. Now, we're going to see HTML syntax and file methods at work to develop a web scraping program that takes tabular data on a web page and writes it to a `CSV` file.\n",
        "\n",
        "56. Head to https://en.wikipedia.org/wiki/All-time_Olympic_Games_medal_table in a web browser.\n",
        "\n",
        "57. There are a nubmer of tables on this page, but we're going to focus on the `Unranked medal table (sortable)` section of the page.\n",
        "\n",
        "<p align=\"center\"><a href=\"https://github.com/kwaldenphd/web-scraping-python/blob/main/images/fig1.jpg?raw=true\"><img class=\"aligncenter\" src=\"https://github.com/kwaldenphd/web-scraping-python/blob/main/images/fig1.jpg?raw=true\" /></a></p>\n",
        "\n",
        "58. Take a look at this table on the public web page, thinking about the rows, columns, and data values we might want to map onto a tabular (table, spreadsheet) data structure.\n",
        "\n",
        "<p align=\"center\"><a href=\"https://github.com/kwaldenphd/web-scraping-python/blob/main/images/fig2.jpg?raw=true\"><img class=\"aligncenter\" src=\"https://github.com/kwaldenphd/web-scraping-python/blob/main/images/fig2.jpg?raw=true\" /></a></p>\n",
        "\n",
        "59. Then, right click on the page (`Control-click` on a Mac) and select the `View Page Source` option.\n",
        "- The specific label for this option may differ across browsers and operating systems.\n",
        "\n",
        "<p align=\"center\"><a href=\"https://github.com/kwaldenphd/web-scraping-python/blob/main/images/fig3.jpg?raw=true\"><img class=\"aligncenter\" src=\"https://github.com/kwaldenphd/web-scraping-python/blob/main/images/fig3.jpg?raw=true\" /></a></p>\n",
        "\n",
        "60. There's a lot going on here- we're looking at the back-end HTML for the Wikipedia page with the table we want to work with.\n",
        "\n",
        "61. But we want to figure out what HTML elements are adjacent to the section of the page we want to isolate.\n",
        "\n",
        "62. Scrolling through the HTML until you see things that look promising is one place to start.\n",
        "\n",
        "63. You can also type `Control-F` (`Command-F` on a Mac) to search for particular words/phrases in the HTML.\n",
        "\n",
        "64. We know one of the country names in the table is `Afghanistan`, so let's search the HTML to see where that term appears.\n",
        "\n",
        "```HTML\n",
        "<th style=\"width:2em;\">\n",
        "<p><span title=\"Combined total number of all Medals won by each country\" class=\"rt-commentedText\" style=\"border-bottom:1px dotted\">Total</span>\n",
        "</p>\n",
        "</th></tr>\n",
        "<tr>\n",
        "<td align=\"left\"><span id=\"AFG\"><img alt=\"\" src=\"//upload.wikimedia.org/wikipedia/commons/thumb/c/cd/Flag_of_Afghanistan_%282013%E2%80%932021%29.svg/22px-Flag_of_Afghanistan_%282013%E2%80%932021%29.svg.png\" decoding=\"async\" width=\"22\" height=\"15\" class=\"thumbborder\" srcset=\"//upload.wikimedia.org/wikipedia/commons/thumb/c/cd/Flag_of_Afghanistan_%282013%E2%80%932021%29.svg/33px-Flag_of_Afghanistan_%282013%E2%80%932021%29.svg.png 1.5x, //upload.wikimedia.org/wikipedia/commons/thumb/c/cd/Flag_of_Afghanistan_%282013%E2%80%932021%29.svg/44px-Flag_of_Afghanistan_%282013%E2%80%932021%29.svg.png 2x\" data-file-width=\"900\" data-file-height=\"600\" />&#160;<a href=\"/wiki/Afghanistan_at_the_Olympics\" title=\"Afghanistan at the Olympics\">Afghanistan</a>&#160;<span style=\"font-size:90%;\">(AFG)</span></span>\n",
        "</td>\n",
        "<td style=\"background:#f2f2ce;\">15</td>\n",
        "<td style=\"background:#f2f2ce;\">0</td>\n",
        "<td style=\"background:#f2f2ce;\">0</td>\n",
        "<td style=\"background:#f2f2ce;\">2</td>\n",
        "<td style=\"background:#f2f2ce;\">2\n",
        "</td>\n",
        "<td style=\"background:#cedff2;\">0</td>\n",
        "<td style=\"background:#cedff2;\">0</td>\n",
        "<td style=\"background:#cedff2;\">0</td>\n",
        "<td style=\"background:#cedff2;\">0</td>\n",
        "<td style=\"background:#cedff2;\">0\n",
        "</td>\n",
        "<td>15</td>\n",
        "<td>0</td>\n",
        "<td>0</td>\n",
        "<td>2</td>\n",
        "<td>2\n",
        "</td></tr>\n",
        "<tr>\n",
        "```\n",
        "\n",
        "65. Again, there's still a lot going on, but we can see the table row `<tr>` tag around a section of HTML that includes multiple `<td>` tags with information about the country name (`Afghanistan`) and number values that correspond to the medal counts from that row in the table.\n",
        "\n",
        "66. Now, we need to figure out where this table \"starts,\" or what HTML elements mark the beginning/end of the table.\n",
        "\n",
        "67. If we scroll up from the `Afghanistan` search results, we can see the section of HTML that marks the start of this table.\n",
        "\n",
        "```HTML\n",
        "<h2><span id=\"Unranked_medal_table_.28sortable.29\"></span><span class=\"mw-headline\" id=\"Unranked_medal_table_(sortable)\">Unranked medal table (sortable)</span><span class=\"mw-editsection\"><span class=\"mw-editsection-bracket\">[</span><a href=\"/w/index.php?title=All-time_Olympic_Games_medal_table&amp;action=edit&amp;section=1\" title=\"Edit section: Unranked medal table (sortable)\">edit</a><span class=\"mw-editsection-bracket\">]</span></span></h2>\n",
        "<p>The table is pre-sorted by the name of each Olympic Committee, but can be displayed as sorted by any other column, such as the total number of <a href=\"/wiki/Gold_medal\" title=\"Gold medal\">gold medals</a> or total number of overall medals. To sort by gold, silver, and then bronze, sort first by the bronze column, then the silver, and then the gold. The table does not include revoked medals (e.g., due to <a href=\"/wiki/Doping_in_sport\" title=\"Doping in sport\">doping</a>).\n",
        "</p><p>Medal totals in this table are current through the <a href=\"/wiki/2020_Summer_Olympics\" title=\"2020 Summer Olympics\">2020 Summer Olympics</a> in <a href=\"/wiki/Tokyo\" title=\"Tokyo\">Tokyo</a>, Japan, and all <a href=\"/wiki/List_of_stripped_Olympic_medals\" title=\"List of stripped Olympic medals\">changes in medal standings</a> due to doping cases and medal redistributions up to 8 August 2021 are taken into account.\n",
        "</p>\n",
        "<style data-mw-deduplicate=\"TemplateStyles:r981673959\">.mw-parser-output .legend{page-break-inside:avoid;break-inside:avoid-column}.mw-parser-output .legend-color{display:inline-block;min-width:1.25em;height:1.25em;line-height:1.25;margin:1px 0;text-align:center;border:1px solid black;background-color:transparent;color:black}.mw-parser-output .legend-text{}</style><div class=\"legend\"><span class=\"legend-color\" style=\"background-color:lightblue; color:black;\">&#160;</span>&#160;Special delegation, not an actual nation</div> \n",
        "<table class=\"wikitable sortable\" style=\"margin-top:0; text-align:center; font-size:90%;\">\n",
        "\n",
        "<tbody><tr>\n",
        "<th>Team\n",
        "</th>\n",
        "<th align=\"center\" style=\"background-color:#f2f2ce;\" colspan=\"5\"><a href=\"/wiki/Summer_Olympic_Games\" title=\"Summer Olympic Games\">Summer Olympic Games</a>\n",
        "</th>\n",
        "<th align=\"center\" style=\"background-color:#cedff2;\" colspan=\"5\"><a href=\"/wiki/Winter_Olympic_Games\" title=\"Winter Olympic Games\">Winter Olympic Games</a>\n",
        "</th>\n",
        "<th align=\"center\" colspan=\"5\"><a href=\"/wiki/Olympic_Games\" title=\"Olympic Games\">Combined total</a>\n",
        "</th></tr>\n",
        "<tr>\n",
        "<th><span title=\"International Olympic Committee country code\" class=\"rt-commentedText\" style=\"border-bottom:1px dotted\">Team (IOC&#160;code)</span>\n",
        "</th>\n",
        "```\n",
        "\n",
        "68. Since we're looking for a table, identifying a `<table>` tag is a good place to start.\n",
        "\n",
        "69. We can see the line `<table class=\"wikitable sortable\" style=\"margin-top:0; text-align:center; font-size:90%;\">` marks the start of the medal count table.\n",
        "\n",
        "70. This gives us the critical pieces of information we need when working in Python with `BeautifulSoup` to isolate this section of HTML."
      ],
      "metadata": {
        "id": "eR8v4fbRQ70T"
      },
      "id": "eR8v4fbRQ70T"
    },
    {
      "cell_type": "markdown",
      "source": [
        "## Load URL and Create BeautifulSoup Object\n",
        "\n",
        "71. The first step in our program is to import the libraries we'll need, load the web page using `requests` and create the `BeautifulSoup` object."
      ],
      "metadata": {
        "id": "ari5TlgDQ85W"
      },
      "id": "ari5TlgDQ85W"
    },
    {
      "cell_type": "code",
      "source": [
        "import requests\n",
        "from bs4 import BeautifulSoup\n",
        "import csv\n",
        "import pandas as pd"
      ],
      "metadata": {
        "id": "KcmcdFTCQ97_"
      },
      "id": "KcmcdFTCQ97_",
      "execution_count": null,
      "outputs": []
    },
    {
      "cell_type": "code",
      "source": [
        "# get page\n",
        "page = requests.get(\"https://en.wikipedia.org/wiki/All-time_Olympic_Games_medal_table\")\n",
        "\n",
        "# create BeautifulSoup object\n",
        "soup = BeautifulSoup(page.text, 'html.parser')\n",
        "\n",
        "# show BeautifulSoup object\n",
        "soup"
      ],
      "metadata": {
        "id": "Se8QCcGJQ-vi"
      },
      "id": "Se8QCcGJQ-vi",
      "execution_count": null,
      "outputs": []
    },
    {
      "cell_type": "markdown",
      "source": [
        "72. At this point we have loaded the web page into Python as a `BeautifulSoup` object.\n",
        "\n",
        "## Extract Medal Table\n",
        "\n",
        "73. The next step is to use `BeautifulSoup` to identify and isolate the section of the web page we want to focus on.\n",
        "\n",
        "74. We can do this using the `.find()` or `.find_all()` with our `BeautifulSoup` object.\n",
        "\n",
        "75. `.find()` isolates a single instance of an HTML class or tag, while `.find_all()` creates a list-like object with each instance of a specific tag or class."
      ],
      "metadata": {
        "id": "WISvTG8YRAfh"
      },
      "id": "WISvTG8YRAfh"
    },
    {
      "cell_type": "code",
      "source": [
        "# basic syntax for find\n",
        "soup.find(\"HTML TAG  GOES HERE\")\n",
        "\n",
        "# a specific example with the p tag\n",
        "soup.find(\"p\")"
      ],
      "metadata": {
        "id": "bJcWKZvsRBOa"
      },
      "id": "bJcWKZvsRBOa",
      "execution_count": null,
      "outputs": []
    },
    {
      "cell_type": "code",
      "source": [
        "# basic syntax for find_all, this time using a class instead of a tag\n",
        "soup.find_all(class_ = \"CLASS NAME GOES HERE\")\n",
        "\n",
        "# a specific example using the wikitable sortable class\n",
        "soup.find_all(class_ = 'wikitable sortable')"
      ],
      "metadata": {
        "id": "U8KNY5OYRB6l"
      },
      "id": "U8KNY5OYRB6l",
      "execution_count": null,
      "outputs": []
    },
    {
      "cell_type": "markdown",
      "source": [
        "76. Again, we know the line of HTML `<table class=\"wikitable sortable\" style=\"margin-top:0; text-align:center; font-size:90%;\">` marks the start of the medal count table.\n",
        "\n",
        "77. But we don't know how many instances of the `<table>` tag or `wikitable sortable` class appear in this web page.\n",
        "\n",
        "78. Some more work with `Command-F`/`Control-F` shows us there are 30 instances of the `<table>` tag and 9 instances of the `wikitable sortable` class in this page.\n",
        "\n",
        "79. So let's use `.find_all()` with the `wikitable sortable` class and then figure out which of those 9 instances is the table we want to work with."
      ],
      "metadata": {
        "id": "LI4BZ6ibRC9V"
      },
      "id": "LI4BZ6ibRC9V"
    },
    {
      "cell_type": "code",
      "source": [
        "# isolate all HTML with wikitable sortable class\n",
        "tables = soup.find_all(class_ = 'wikitable sortable')"
      ],
      "metadata": {
        "id": "LpPBScPORD0i"
      },
      "id": "LpPBScPORD0i",
      "execution_count": null,
      "outputs": []
    },
    {
      "cell_type": "markdown",
      "source": [
        "80. Then, we can use index operators to go through the items in `tables` to see which one has the HTML we want to work with.\n"
      ],
      "metadata": {
        "id": "6t8zuKQNREZh"
      },
      "id": "6t8zuKQNREZh"
    },
    {
      "cell_type": "code",
      "source": [
        "# show first table in tables\n",
        "tables[0]"
      ],
      "metadata": {
        "id": "0_EF2cjuRFAk"
      },
      "id": "0_EF2cjuRFAk",
      "execution_count": null,
      "outputs": []
    },
    {
      "cell_type": "markdown",
      "source": [
        "81. The first table in the list is the medal count, so we can assign that to a variable.\n"
      ],
      "metadata": {
        "id": "TfGitj0SRG4H"
      },
      "id": "TfGitj0SRG4H"
    },
    {
      "cell_type": "code",
      "source": [
        "# isolate first table in tables\n",
        "table = tables[0]"
      ],
      "metadata": {
        "id": "UqCuN1H7RF9f"
      },
      "id": "UqCuN1H7RF9f",
      "execution_count": null,
      "outputs": []
    },
    {
      "cell_type": "markdown",
      "source": [
        "82. Now that we have just the HTML for the table we want to work with, we want to create a list-like object for each row in the table.\n",
        "\n",
        "83. So, we can use `.find()` or `.find_all()` again to create a list-like object with all elements that match a particular class or tag.\n",
        "\n",
        "84. In this case, we want the HTML for each row in the table to be a value or element in the list, so we're going to be looking for the table row `<tr>` tag.\n",
        "\n",
        "85. And since this table has multiple rows, we're going to use `.find_all(\"tr\")` to find all instances of the `<tr>` tag and map those onto a list-like structure.\n"
      ],
      "metadata": {
        "id": "U90SXHTWRIU4"
      },
      "id": "U90SXHTWRIU4"
    },
    {
      "cell_type": "code",
      "source": [
        "# get all table rows from medal_table\n",
        "rows = table.find_all(\"tr\")\n",
        "\n",
        "# show table rows\n",
        "rows"
      ],
      "metadata": {
        "id": "_DjNz3JVRJDB"
      },
      "id": "_DjNz3JVRJDB",
      "execution_count": null,
      "outputs": []
    },
    {
      "cell_type": "markdown",
      "source": [
        "## Testing On Single Table Row (Single Country)\n",
        "\n",
        "86. So now we have the HTML for each row in the table as a list value in our `medal_test` list.\n",
        "\n",
        "87. We'll eventually want to figure out how to iterate over all the rows in `medal_test`, but for now, let's isolate a single row so we can test our program on a single row.\n",
        "\n",
        "88. Since the first two rows in the the table have column header information and do not match the structure/format of the country rows, we'll use the third row (first country row) for our single-row testing.\n"
      ],
      "metadata": {
        "id": "z6_nOPhvRKzF"
      },
      "id": "z6_nOPhvRKzF"
    },
    {
      "cell_type": "code",
      "source": [
        "# isolate first country in medal_table\n",
        "row = rows[2]\n",
        "\n",
        "# show first country\n",
        "row"
      ],
      "metadata": {
        "id": "omedcTIyRLuO"
      },
      "id": "omedcTIyRLuO",
      "execution_count": null,
      "outputs": []
    },
    {
      "cell_type": "markdown",
      "source": [
        "89. Now, we have a `single_country` object that includes the entire HTML associated with the `<tr>` tag for `Afghanistan`.\n",
        "\n",
        "90. As before, we want to create a list-like object for each cell or column in the table.\n",
        "\n",
        "91. Since there are multiple cells in each row, we'll use `.find_all()` to look for the table cell `<td>` tag and map those values onto a list-like structure."
      ],
      "metadata": {
        "id": "JrgV92x7RMmY"
      },
      "id": "JrgV92x7RMmY"
    },
    {
      "cell_type": "code",
      "source": [
        "# get all cells in single_country\n",
        "cells = row.find_all(\"td\")\n",
        "\n",
        "# show single country\n",
        "cells"
      ],
      "metadata": {
        "id": "0ZuoCVgXRNfV"
      },
      "id": "0ZuoCVgXRNfV",
      "execution_count": null,
      "outputs": []
    },
    {
      "cell_type": "markdown",
      "source": [
        "92. Now we have a list of cells (`<td>` tags) for a single row of HTML in the original table.\n",
        "\n",
        "93. The next step is to figure out how we work within that list of `<td>` tag contents to isolate the specific values we want to eventually write to each row in our `CSV` file.\n",
        "\n",
        "94. At this point, before we start writing code to extract these values, it's useful to stop and think about the endpoint for the data scraping process. \n",
        "\n",
        "95. Specifically, thinking about what columns we have in mind for the ultimate data structure helps us keep the end goal in mind as we start working through each aspect of the program.\n",
        "\n",
        "96. For this table, we might want a data structure with the following columns:\n",
        "- `Country_Name`\n",
        "- `Country URL`\n",
        "- `Number of Summer Olympic Appearances`\n",
        "- `Number of Summer Olympic Gold Medals`\n",
        "- `Number of Summer Olympic Silver Medals`\n",
        "- `Number of Summer Olympic Bronze Medals`\n",
        "- `Total Number of Summer Olympic Medals`\n",
        "- `Number of Winter Olympic Appearances`\n",
        "- `Number of Winter Olympic Gold Medals`\n",
        "- `Number of Winter Olympic Silver Medals`\n",
        "- `Number of Winter Olympic Bronze Medals`\n",
        "- `Total Number of Winter Olympic Medals`\n",
        "- `Combined Number of Olympic Appearances`\n",
        "- `Combined Number of Gold Medals`\n",
        "- `Combined Number of Silver Medals`\n",
        "- `Combined Number of Bronze Medals`\n",
        "- `Total Combined Number of Medals`\n",
        "\n",
        "97. So let's figure out how we can isolate each of those values.\n",
        "\n",
        "### Get Country Name\n",
        "\n",
        "98. To get the country name, we can isolate the first cell (`<td>` tag) in the `single_country` list of cells."
      ],
      "metadata": {
        "id": "xI55FpuSRO2i"
      },
      "id": "xI55FpuSRO2i"
    },
    {
      "cell_type": "code",
      "source": [
        "# isolate first cell in single_country\n",
        "country_name = cells[0]\n",
        "\n",
        "# show first cell\n",
        "country_name"
      ],
      "metadata": {
        "id": "8FJ5qyR6RPhb"
      },
      "id": "8FJ5qyR6RPhb",
      "execution_count": null,
      "outputs": []
    },
    {
      "cell_type": "markdown",
      "source": [
        "99. Then, we can use `.contents[]` (part of `BeautifulSoup`) to get the contents of that first cell.\n"
      ],
      "metadata": {
        "id": "EmzylezvRQUf"
      },
      "id": "EmzylezvRQUf"
    },
    {
      "cell_type": "code",
      "source": [
        "# isolate country name using contents and index\n",
        "name = cells.contents[0]\n",
        "\n",
        "# show country_name HTML\n",
        "name"
      ],
      "metadata": {
        "id": "usXiUcEfRQ_r"
      },
      "id": "usXiUcEfRQ_r",
      "execution_count": null,
      "outputs": []
    },
    {
      "cell_type": "markdown",
      "source": [
        "100. So now we have the HTML associated with the first `<td>` tag, but there's still a lot of extraneous markup we want to remove to get just the country name.\n",
        "\n",
        "```HTML\n",
        "<span id=\"AFG\"><img alt=\"\" class=\"thumbborder\" data-file-height=\"600\" data-file-width=\"900\" decoding=\"async\" height=\"15\" src=\"//upload.wikimedia.org/wikipedia/commons/thumb/c/cd/Flag_of_Afghanistan_%282013%E2%80%932021%29.svg/22px-Flag_of_Afghanistan_%282013%E2%80%932021%29.svg.png\" srcset=\"//upload.wikimedia.org/wikipedia/commons/thumb/c/cd/Flag_of_Afghanistan_%282013%E2%80%932021%29.svg/33px-Flag_of_Afghanistan_%282013%E2%80%932021%29.svg.png 1.5x, //upload.wikimedia.org/wikipedia/commons/thumb/c/cd/Flag_of_Afghanistan_%282013%E2%80%932021%29.svg/44px-Flag_of_Afghanistan_%282013%E2%80%932021%29.svg.png 2x\" width=\"22\"/> <a href=\"/wiki/Afghanistan_at_the_Olympics\" title=\"Afghanistan at the Olympics\">Afghanistan</a> <span style=\"font-size:90%;\">(AFG)</span></span>\n",
        "```\n",
        "\n",
        "101. If we drill down into this HTML, we can see the `<a href...>` tag is the HTML element closest to the country name we want to extract.\n",
        "\n",
        "102. So let's use `.find()` to get just the `a` tag HTML."
      ],
      "metadata": {
        "id": "-vfKptYuRSCj"
      },
      "id": "-vfKptYuRSCj"
    },
    {
      "cell_type": "code",
      "source": [
        "# get HTML with a tag\n",
        "name = name.find('a')\n",
        "\n",
        "# show name_tag\n",
        "name"
      ],
      "metadata": {
        "id": "pnhaAnS4RSxW"
      },
      "id": "pnhaAnS4RSxW",
      "execution_count": null,
      "outputs": []
    },
    {
      "cell_type": "markdown",
      "source": [
        "103. Now with just the `a` tag (`<a href=\"/wiki/Afghanistan_at_the_Olympics\" title=\"Afghanistan at the Olympics\">Afghanistan</a>`), we can use `.contents[]` again to get the tag contents.\n",
        "\n",
        "104. Remember an index value goes in the brackets for `.contents[]`."
      ],
      "metadata": {
        "id": "PRw2c_iSRT4l"
      },
      "id": "PRw2c_iSRT4l"
    },
    {
      "cell_type": "code",
      "source": [
        "# get contents of a href tag\n",
        "name = name.contents[0]\n",
        "\n",
        "# show country\n",
        "name"
      ],
      "metadata": {
        "id": "y7C-FdKyRUxP"
      },
      "id": "y7C-FdKyRUxP",
      "execution_count": null,
      "outputs": []
    },
    {
      "cell_type": "markdown",
      "source": [
        "105. Voila! The country name. "
      ],
      "metadata": {
        "id": "k0qSHHiKRV1k"
      },
      "id": "k0qSHHiKRV1k"
    },
    {
      "cell_type": "code",
      "source": [
        "# combined program for country name\n",
        "name = cells.contents[0].find('a').contents[0]"
      ],
      "metadata": {
        "id": "pQNCU9HDRbA-"
      },
      "id": "pQNCU9HDRbA-",
      "execution_count": null,
      "outputs": []
    },
    {
      "cell_type": "markdown",
      "source": [
        "### Get Country URL\n",
        "\n",
        "```HTML\n",
        "<span id=\"AFG\"><img alt=\"\" class=\"thumbborder\" data-file-height=\"600\" data-file-width=\"900\" decoding=\"async\" height=\"15\" src=\"//upload.wikimedia.org/wikipedia/commons/thumb/c/cd/Flag_of_Afghanistan_%282013%E2%80%932021%29.svg/22px-Flag_of_Afghanistan_%282013%E2%80%932021%29.svg.png\" srcset=\"//upload.wikimedia.org/wikipedia/commons/thumb/c/cd/Flag_of_Afghanistan_%282013%E2%80%932021%29.svg/33px-Flag_of_Afghanistan_%282013%E2%80%932021%29.svg.png 1.5x, //upload.wikimedia.org/wikipedia/commons/thumb/c/cd/Flag_of_Afghanistan_%282013%E2%80%932021%29.svg/44px-Flag_of_Afghanistan_%282013%E2%80%932021%29.svg.png 2x\" width=\"22\"/> <a href=\"/wiki/Afghanistan_at_the_Olympics\" title=\"Afghanistan at the Olympics\">Afghanistan</a> <span style=\"font-size:90%;\">(AFG)</span></span>\n",
        "```\n",
        "\n",
        "106. If we look at the HTML associated with `country_name`, we can see that the country's Wikipedia URL is also in this section of HTML, as part of the `<a href...>` tag.\n",
        "\n",
        "107. So we can again use `.find()` to isolate the `<a>` tag's contents."
      ],
      "metadata": {
        "id": "sB-OK48ERcsA"
      },
      "id": "sB-OK48ERcsA"
    },
    {
      "cell_type": "code",
      "source": [
        "# get first/only instance of a link tag in HTML for single country\n",
        "link = name.find('a')\n",
        "\n",
        "# show link\n",
        "link"
      ],
      "metadata": {
        "id": "JgLvNz3xRdah"
      },
      "id": "JgLvNz3xRdah",
      "execution_count": null,
      "outputs": []
    },
    {
      "cell_type": "markdown",
      "source": [
        "108. Now, looking at the `link_test` piece of HTML (`<a href=\"/wiki/Afghanistan_at_the_Olympics\" title=\"Afghanistan at the Olympics\">Afghanistan</a>`), we want to extract the URL associated with the `href` attribute.\n",
        "\n",
        "109. We were able to use `.contents[]` to get the contents of this HTML tag, but we'll need a different approach for getting the `href` attribute value.\n",
        "\n",
        "110. `BeautifulSoup` includes a `.get()` command that lets us isolate the value associated with an HTML attribute.\n",
        "\n",
        "111. So we can use `.get('href')` to isolate the URL."
      ],
      "metadata": {
        "id": "QAwmoR9qRfec"
      },
      "id": "QAwmoR9qRfec"
    },
    {
      "cell_type": "code",
      "source": [
        "# get the contents of the url from the href attribute\n",
        "link = link.get('href')\n",
        "\n",
        "# show href contents\n",
        "link"
      ],
      "metadata": {
        "id": "p8GdYZ9DRgNt"
      },
      "id": "p8GdYZ9DRgNt",
      "execution_count": null,
      "outputs": []
    },
    {
      "cell_type": "markdown",
      "source": [
        "112. But wait! `/wiki/Afghanistan_at_the_Olympics` doesn't look like a full url...\n",
        "\n",
        "113. That's because it isn't. Wikipedia is using an internal link with the `<a href...>` tag to connect to another Wikipedia page, which means they don't have to use the full URL for the link to work.\n",
        "\n",
        "114. But, we can use concatenation to recreate the full link, since all English-language Wikipedia pages start with the same root URL: `https://en.wikipedia.org`"
      ],
      "metadata": {
        "id": "40HmBO63RhT7"
      },
      "id": "40HmBO63RhT7"
    },
    {
      "cell_type": "code",
      "source": [
        "# use contenation to get full url\n",
        "link = \"https://en.wikipedia.org\" + link\n",
        "\n",
        "# show full link\n",
        "link"
      ],
      "metadata": {
        "id": "lnriXlooRh5X"
      },
      "id": "lnriXlooRh5X",
      "execution_count": null,
      "outputs": []
    },
    {
      "cell_type": "markdown",
      "source": [
        "115. Great! Now we have the full link.\n"
      ],
      "metadata": {
        "id": "W1a3h1l5RlwG"
      },
      "id": "W1a3h1l5RlwG"
    },
    {
      "cell_type": "code",
      "source": [
        "# combined program for link\n",
        "link = name.find('a').get('href')\n",
        "link = \"https://en.wikipedia.org\" + link"
      ],
      "metadata": {
        "id": "VvvnsNX0Rmt7"
      },
      "id": "VvvnsNX0Rmt7",
      "execution_count": null,
      "outputs": []
    },
    {
      "cell_type": "markdown",
      "source": [
        "### Medal Counts\n",
        "\n",
        "116. If we take a look at the original Wikipedia table, we notice there are three column \"groupings\":\n",
        "- `Summer Olympic Games`\n",
        "- `Winter Olympic Games`\n",
        "- `Combined total`\n",
        "\n",
        "117. We can extract medal counts within each of these column groups by selecting the cell and then getting the value of that cell using `contents[]` and index values."
      ],
      "metadata": {
        "id": "3daZhZaHRn4b"
      },
      "id": "3daZhZaHRn4b"
    },
    {
      "cell_type": "code",
      "source": [
        "# number of summer olympic appearances\n",
        "summer = cells[1].contents[0]\n",
        "\n",
        "summer"
      ],
      "metadata": {
        "id": "4zRV51E8RpKn"
      },
      "id": "4zRV51E8RpKn",
      "execution_count": null,
      "outputs": []
    },
    {
      "cell_type": "code",
      "source": [
        "# number of summer gold medals\n",
        "summer_gold = cells[2].contents[0]\n",
        "\n",
        "summer_gold"
      ],
      "metadata": {
        "id": "I85D26MCRpz7"
      },
      "id": "I85D26MCRpz7",
      "execution_count": null,
      "outputs": []
    },
    {
      "cell_type": "code",
      "source": [
        "# number of summer silver medals\n",
        "summer_silver = cells[3].contents[0]\n",
        "\n",
        "summer_silver"
      ],
      "metadata": {
        "id": "RjQ9rIObRqqd"
      },
      "id": "RjQ9rIObRqqd",
      "execution_count": null,
      "outputs": []
    },
    {
      "cell_type": "code",
      "source": [
        "# number of summer bronze medals\n",
        "summer_bronze = cells[4].contents[0]\n",
        "\n",
        "summer_bronze"
      ],
      "metadata": {
        "id": "4bemcWsDRrr2"
      },
      "id": "4bemcWsDRrr2",
      "execution_count": null,
      "outputs": []
    },
    {
      "cell_type": "code",
      "source": [
        "# total number of summer olympics medals, using strip() to remove line break\n",
        "summer_medals = cells[5].contents[0].strip()\n",
        "\n",
        "summer_medals"
      ],
      "metadata": {
        "id": "39Q42OnyRsa9"
      },
      "id": "39Q42OnyRsa9",
      "execution_count": null,
      "outputs": []
    },
    {
      "cell_type": "code",
      "source": [
        "# total number of winter olympic appearances\n",
        "winter = cells[6].contents[0]\n",
        "\n",
        "winter"
      ],
      "metadata": {
        "id": "jHHHfhXbRtGw"
      },
      "id": "jHHHfhXbRtGw",
      "execution_count": null,
      "outputs": []
    },
    {
      "cell_type": "code",
      "source": [
        "# number of winter gold medals\n",
        "winter_gold = cells[7].contents[0]\n",
        "\n",
        "winter_gold"
      ],
      "metadata": {
        "id": "g2240RiGRtxo"
      },
      "id": "g2240RiGRtxo",
      "execution_count": null,
      "outputs": []
    },
    {
      "cell_type": "code",
      "source": [
        "# number of winter silver\n",
        "winter_silver = cells[8].contents[0]\n",
        "\n",
        "winter_silver"
      ],
      "metadata": {
        "id": "8jALqUEaRuum"
      },
      "id": "8jALqUEaRuum",
      "execution_count": null,
      "outputs": []
    },
    {
      "cell_type": "code",
      "source": [
        "# number of winter bronze\n",
        "winter_bronze = cells[9].contents[0]\n",
        "\n",
        "winter_bronze"
      ],
      "metadata": {
        "id": "ngrXD0MsRvtK"
      },
      "id": "ngrXD0MsRvtK",
      "execution_count": null,
      "outputs": []
    },
    {
      "cell_type": "code",
      "source": [
        "# total number of winter medals\n",
        "winter_medals = cells[10].contents[0].strip()\n",
        "\n",
        "winter_medals"
      ],
      "metadata": {
        "id": "HRxPhWZcRwmk"
      },
      "id": "HRxPhWZcRwmk",
      "execution_count": null,
      "outputs": []
    },
    {
      "cell_type": "code",
      "source": [
        "# total number combined olympic appearances\n",
        "combined_olympics = cells[11].strip()\n",
        "\n",
        "combined_olympics"
      ],
      "metadata": {
        "id": "K7JP0_cNRxdE"
      },
      "id": "K7JP0_cNRxdE",
      "execution_count": null,
      "outputs": []
    },
    {
      "cell_type": "code",
      "source": [
        "# total number gold medals\n",
        "gold_total = cells[12].contents[0]\n",
        "\n",
        "gold_total"
      ],
      "metadata": {
        "id": "4QlPCfj7RyTL"
      },
      "id": "4QlPCfj7RyTL",
      "execution_count": null,
      "outputs": []
    },
    {
      "cell_type": "code",
      "source": [
        "# total number silver medals\n",
        "silver_total = cells[13].contents[0]\n",
        "\n",
        "silver_total"
      ],
      "metadata": {
        "id": "YcZSidAhRy4k"
      },
      "id": "YcZSidAhRy4k",
      "execution_count": null,
      "outputs": []
    },
    {
      "cell_type": "code",
      "source": [
        "# total number bronze medals\n",
        "bronze_total = cells[14].contents[0]\n",
        "\n",
        "bronze_total"
      ],
      "metadata": {
        "id": "smS98jaGRz0c"
      },
      "id": "smS98jaGRz0c",
      "execution_count": null,
      "outputs": []
    },
    {
      "cell_type": "code",
      "source": [
        "# total number of medals, combined\n",
        "medals_total = cells[15].contents[0].strip()\n",
        "\n",
        "medals_total"
      ],
      "metadata": {
        "id": "VfYr1l92R060"
      },
      "id": "VfYr1l92R060",
      "execution_count": null,
      "outputs": []
    },
    {
      "cell_type": "markdown",
      "source": [
        "118. Now we have working code that extracts each piece of data from a row in the table.\n",
        "\n",
        "# Sample For Loops\n",
        "\n",
        "119. Now, we have working code that will extract each piece of data as a variable. We want to run these lines of code on each country in the table to get the data in each column.\n",
        "\n",
        "120. We can do this using a `for` loop that iterates through each row in the table.\n",
        "\n",
        "121. But before we throw iteration into the mix, we want to remove the first two items in `medal_test`, since they have the column header information and don't match the format/structure of the rest of the table.\n",
        "\n",
        "122. We can do this using `del` statements."
      ],
      "metadata": {
        "id": "36ZfvlQHR15q"
      },
      "id": "36ZfvlQHR15q"
    },
    {
      "cell_type": "code",
      "source": [
        "# remove first row\n",
        "del table[0]"
      ],
      "metadata": {
        "id": "Xyw1ALi8R2vI"
      },
      "id": "Xyw1ALi8R2vI",
      "execution_count": null,
      "outputs": []
    },
    {
      "cell_type": "code",
      "source": [
        "# remove new first row\n",
        "del table[0]"
      ],
      "metadata": {
        "id": "tHhUEOnkR3c_"
      },
      "id": "tHhUEOnkR3c_",
      "execution_count": null,
      "outputs": []
    },
    {
      "cell_type": "code",
      "source": [
        "# show updated table\n",
        "table"
      ],
      "metadata": {
        "id": "8WItVoCxR5Eq"
      },
      "id": "8WItVoCxR5Eq",
      "execution_count": null,
      "outputs": []
    },
    {
      "cell_type": "markdown",
      "source": [
        "Alternate workflow that uses list comprehension to subset `rows`:\n"
      ],
      "metadata": {
        "id": "-tA2Qn86THYB"
      },
      "id": "-tA2Qn86THYB"
    },
    {
      "cell_type": "code",
      "source": [
        "# recreate list of rows\n",
        "rows = table.find_all('tr')\n",
        "\n",
        "# subset rows to drop first two\n",
        "index_list = [0, 1]\n",
        "\n",
        "# use list comprehension to subset list\n",
        "rows = [rows[i] for i in index_list]\n",
        "\n",
        "# show updated list of rows\n",
        "rows"
      ],
      "metadata": {
        "id": "3AFrdFncTIGn"
      },
      "id": "3AFrdFncTIGn",
      "execution_count": null,
      "outputs": []
    },
    {
      "cell_type": "markdown",
      "source": [
        "For more on list comprehension: https://www.w3schools.com/python/python_lists_comprehension.asp\n",
        "\n",
        "123. Now we're ready to iterate over each country (table row) using the code we tested on a single country.\n",
        "\n",
        "124. We can create a list with each row's values and append that list as a sublist or nested list to an empty list."
      ],
      "metadata": {
        "id": "Yp8DBc8uTJIS"
      },
      "id": "Yp8DBc8uTJIS"
    },
    {
      "cell_type": "code",
      "source": [
        "table_rows = [] # empty list for data\n",
        "\n",
        "for row in medal_test: # for loop that iterates over rows\n",
        "\ttag_list = [] # create empty list for td tags in single row\n",
        "\t\n",
        "\tcells = row.find_all('td') # isolate cells, td elements\n",
        "\t\n",
        "\ttag_list.append(cells) # append tags to tag list\n",
        "\t\n",
        "\tfor cells in tags: # for loop that iterates over cells in row\n",
        "\t\ttry:\n",
        "\t\t\tname = cells.contents[0].find('a').contents[0] # name\n",
        "\t\t\tlink = name.find('a').get('href') # link\n",
        "\t\t\tlink = \"https://en.wikipedia.org\" + link\n",
        "\t\t\tsummer = cells[1].contents[0] # number of summer olympic appearances\n",
        "\t\t\tsummer_gold = cells[2].contents[0] # number of summer gold medals\n",
        "\t\t\tsummer_silver = cells[3].contents[0] # number of summer silver medals\n",
        "\t\t\tsummer_bronze = cells[4].contents[0] # number of summer bronze medal\n",
        "\t\t\tsummer_medals = cells[5].contents[0].strip() # total number of summer olympics medals, using strip() to remove line break\n",
        "\t\t\twinter = cells[6].contents[0] # total number of winter olympic appearances\n",
        "\t\t\twinter_gold = cells[7].contents[0] # number of winter gold medals\n",
        "\t\t\twinter_silver = cells[8].contents[0] # number of winter silver\n",
        "\t\t\twinter_bronze = cells[9].contents[0] # number of winter bronze\n",
        "\t\t\twinter_medals = cells[10].contents[0].strip() # total number of winter medals\n",
        "\t\t\tcombined_olympics = cells[11].strip() # total number combined olympic appearances\n",
        "\t\t\tgold_total = cells[12].contents[0] # total number gold medals\n",
        "\t\t\tsilver_total = cells[13].contents[0] # total number silver medals\n",
        "\t\t\tbronze_total = cells[14].contents[0] # total number bronze medals\n",
        "\t\t\tmedals_total = cells[15].contents[0].strip() # total number of medals, combined\n",
        "\n",
        "            # creates list of values from each data element\n",
        "            row_data = [name, link, summer, summer_gold, summer_silver, summer_bronze, summer_medals, winter, winter_gold, winter_silver, winter_bronze, winter_medals, combined_olympics, gold_total, silver_total, bronze_total, medals_total]\n",
        "\n",
        "            # append row_data to test_list\n",
        "            table_rows.append(row_data)\n",
        "            \n",
        "        except:\n",
        "            continue\n",
        "    \n",
        "# show list\n",
        "table_rows"
      ],
      "metadata": {
        "id": "PO6AaYTgTKgC"
      },
      "id": "PO6AaYTgTKgC",
      "execution_count": null,
      "outputs": []
    },
    {
      "cell_type": "markdown",
      "source": [
        "125. Each row of data in the table is a list value, or sublist/nested list in `tag_list`.\n",
        "\n",
        "126. In this program `try` and `except` instruct Python to `try` to run the lines nested under `try`, but if it runs into an error (`except`), `continue` iterating over the values in the `tags` list.\n",
        "\n",
        "127. Using `try` and `except` can be dangerous if you don't know if or how a program is working- in this case, we've tested the program and got it working on a single row that matches the pattern for all the rows we want to scrape data frame.\n",
        "\n",
        "128. Now that we know the iteration is working, we can take `test_list` and write each item in the list (which itself is a row of data) to a row in a `CSV` file."
      ],
      "metadata": {
        "id": "91OWkSPvTL1b"
      },
      "id": "91OWkSPvTL1b"
    },
    {
      "cell_type": "code",
      "source": [
        "# create new csv file\n",
        "f = csv.writer(open('medals.csv', 'w'))\n",
        "\n",
        "# list of strings with headers\n",
        "headers = [\"country_name\", \"link\", \"no_summer_olympics\", \"no_summer_gold\", \"no_summer_silver\", \"no_summer_bronze\", \"total_no_summer_medals\", \"no_winter_olympics\", \"no_winter_gold\", \"no_winter_silver\", \"no_winter_bronze\", \"total_no_winter_medals\", \"no_combined_olympics\", \"no_combined_gold\", \"no_combined_silver\", \"no_combined_bronze\", \"total_no_combined_medals\"]\n",
        "\n",
        "# write header row or first row for CSV file\n",
        "f.writerow(headers)\n",
        "\n",
        "# for loop that assigns each element in test_list to a new row\n",
        "for row in table_rows:\n",
        "    f.writerow(row)"
      ],
      "metadata": {
        "id": "XGt3Xg1GTOSb"
      },
      "id": "XGt3Xg1GTOSb",
      "execution_count": null,
      "outputs": []
    },
    {
      "cell_type": "markdown",
      "source": [
        "129. We can also use `test_list` and `headers` to create a `pandas` `DataFrame`.\n",
        "\n",
        "130. `pandas` will map each value in the list (nested list or sublist with single row of data) to a row in the `DataFrame`.\n",
        "\n",
        "131. And the `headers` list we created for writing the first row of the `medals` CSV file can be used to set the `DataFrame` column names."
      ],
      "metadata": {
        "id": "ckolUDkSTPaf"
      },
      "id": "ckolUDkSTPaf"
    },
    {
      "cell_type": "code",
      "source": [
        "# import pandas\n",
        "import pandas as pd\n",
        "\n",
        "# list of strings with headers\n",
        "headers = [\"country_name\", \"link\", \"no_summer_olympics\", \"no_summer_gold\", \"no_summer_silver\", \"no_summer_bronze\", \"total_no_summer_medals\", \"no_winter_olympics\", \"no_winter_gold\", \"no_winter_silver\", \"no_winter_bronze\", \"total_no_winter_medals\", \"no_combined_olympics\", \"no_combined_gold\", \"no_combined_silver\", \"no_combined_bronze\", \"total_no_combined_medals\"]\n",
        "\n",
        "# create data frame \n",
        "df = pd.DataFrame(table_rows, columns=headers)\n",
        "\n",
        "# show df\n",
        "df"
      ],
      "metadata": {
        "id": "RnM99SxOTUG0"
      },
      "id": "RnM99SxOTUG0",
      "execution_count": null,
      "outputs": []
    },
    {
      "cell_type": "markdown",
      "source": [
        "132. Then we could use `pd.to_csv` to write the `DataFrame` to a `CSV` file.\n"
      ],
      "metadata": {
        "id": "HZ6HUyvVTUxO"
      },
      "id": "HZ6HUyvVTUxO"
    },
    {
      "cell_type": "code",
      "source": [
        "# write df to csv file\n",
        "df.to_csv(\"output.csv\", index=False)"
      ],
      "metadata": {
        "id": "XKh5mY3WTVhx"
      },
      "id": "XKh5mY3WTVhx",
      "execution_count": null,
      "outputs": []
    },
    {
      "cell_type": "markdown",
      "source": [
        "## Lab Notebook Questions 1-5\n",
        "\n",
        "<table>\n",
        " <tr><td>\n",
        "<img src=\"https://elearn.southampton.ac.uk/wp-content/blogs.dir/sites/64/2021/04/PanPan.png\" alt=\"Panopto logo\" width=\"50\"/></td>\n",
        "  <td><a href=\"https://notredame.hosted.panopto.com/Panopto/Pages/Viewer.aspx?id=81459156-8f91-4897-8af4-ade9004561f8\">Lab Notebook Questions 1-5</a></td>\n",
        "  </tr>\n",
        "  </table>\n",
        "\n",
        "Q1: Describe the general approach to loading a web page in Python using `requests` and isolating the section of HTML you need using `BeautifulSoup`. What are the basic steps involved in this workflow, thinking about what happens at the start of the program to isolate the section of HTML you would need to do further work with to extract the data you want to work with?\n",
        "\n",
        "Q2: Select another Wikipedia page that includes a table. From looking at the public web page, what data do you want to scrape from this web page (i.e. specific table, multiple tables, etc.)? What do you want the resulting data structure to look like (columns, rows, etc)?\n",
        "\n",
        "Q3: Take a look at the HTML for this page. What tags or other HTML components do you see around the section of the page you want to work with? For this question, we're thinking about how we will end up writing a program with <code>BeautifulSoup</code> to isolate a section of the web page.\n",
        "\n",
        "Q4: Develop an outline for a Python program that scrapes data from the web page you selected. \n",
        "\n",
        "A preliminary workflow:\n",
        "- Load URL and create BeautifulSoup object\n",
        "- Isolate section of HTML with your table (either directly or extract from list)\n",
        "- Isolate table row elements (create list where each element is a table row)\n",
        "- Extract contents from row (isolate the pieces of information from each row)\n",
        "- Create Pandas DataFrame\n",
        "- Write extracted row contents to CSV file\n",
        "\n",
        "NOTE: You do not need to have working code for all components of this program. That's where we're heading with the final project. At this point, we're focusing on the conceptual framework for the web scraping program. Start to build out code where you can, but think about the programming version of outlining a paper.\n",
        "\n",
        "Q5: What challenges or roadblocks did you face working on Q4? What parts of the program do you understand/feel ready to develop at this point? What parts of the program are less clear?"
      ],
      "metadata": {
        "id": "NIOAgomhTc0R"
      },
      "id": "NIOAgomhTc0R"
    },
    {
      "cell_type": "markdown",
      "source": [
        "# Working With Multiple Pages\n",
        "\n",
        "<table>\n",
        " <tr><td>\n",
        "<img src=\"https://elearn.southampton.ac.uk/wp-content/blogs.dir/sites/64/2021/04/PanPan.png\" alt=\"Panopto logo\" width=\"50\"/></td>\n",
        "  <td><a href=\"https://notredame.hosted.panopto.com/Panopto/Pages/Viewer.aspx?id=86675173-9734-4f0f-8a06-ade900486927\">Working With Multiple Pages</a></td>\n",
        "  </tr>\n",
        "  </table>\n",
        "\n",
        "133. In the previous example of a Wikipedia page with Olympic medal counts, we were scraping data from a single web page.\n",
        "\n",
        "134. But we can also imagine a scenario where we might want to scrape data from multiple web pages or a series of web pages that have the same HTML structure or format.\n",
        "\n",
        "135. For example, head to https://www.sports-reference.com/cfb/schools/notre-dame/1940-schedule.html to explore the College Football Reference page for Notre Dame's 1940 football season.\n",
        "\n",
        "<p align=\"center\"><img class=\"aligncenter\" src=\"https://github.com/kwaldenphd/web-scraping-python/blob/main/images/fig4.jpg?raw=true\"/></p>\n",
        "\n",
        "136. We can use the `Previous Year` and `Next Year` buttons at the top of the page to look at pre- and post-1940 pages.\n",
        "\n",
        "137. Take a look at page URLs as you change years- the start (or root) of the url `https://www.sports-reference.com/cfb/schools/notre-dame/` and the end (or tag) of the url `-schedule.html` remain the same, while only the year value changes.\n",
        "\n",
        "138. Since the data format/structure is fairly consistent across the different season pages, if we get a program working for one season/page, it stands to reason we could run that program on multiple pages by iterating over a list of URLs.\n",
        "\n",
        "139. Let's take a look at how we could get a list of URLs for the College Football Reference Notre Dame pages.\n",
        "\n",
        "140. First, we would assign the URL root and tag to named variables."
      ],
      "metadata": {
        "id": "EURqZf8nTeMy"
      },
      "id": "EURqZf8nTeMy"
    },
    {
      "cell_type": "code",
      "source": [
        "root = \"https://www.sports-reference.com/cfb/schools/notre-dame/\"\n",
        "\n",
        "# url tag\n",
        "tag = \"-schedule.html\""
      ],
      "metadata": {
        "id": "krw9L2SBTfTW"
      },
      "id": "krw9L2SBTfTW",
      "execution_count": null,
      "outputs": []
    },
    {
      "cell_type": "markdown",
      "source": [
        "141. Then, we could use `range` to create a list of years spanning the dates we want to cover.\n"
      ],
      "metadata": {
        "id": "pYqlADd1TfzH"
      },
      "id": "pYqlADd1TfzH"
    },
    {
      "cell_type": "code",
      "source": [
        "# year range\n",
        "years = list(range(1899, 2021, 1))"
      ],
      "metadata": {
        "colab": {
          "base_uri": "https://localhost:8080/"
        },
        "id": "Au_hWdzcTgZX",
        "outputId": "2e7e5729-ee3c-40d8-fcd3-3e2c89c92d9d"
      },
      "id": "Au_hWdzcTgZX",
      "execution_count": 3,
      "outputs": [
        {
          "output_type": "execute_result",
          "data": {
            "text/plain": [
              "list"
            ]
          },
          "metadata": {},
          "execution_count": 3
        }
      ]
    },
    {
      "cell_type": "markdown",
      "source": [
        "142. Then, we could use concatenation and a `for` loop to generate a list of full URLs for the seasons we want to cover."
      ],
      "metadata": {
        "id": "odkaTxQzTq2N"
      },
      "id": "odkaTxQzTq2N"
    },
    {
      "cell_type": "code",
      "source": [
        "# empty list for urls\n",
        "urls = []\n",
        "\n",
        "# for loop that concatenates full url\n",
        "for year in years:\n",
        "    urls.append(root + str(year) + tag)\n",
        "    \n",
        "# show list of urls\n",
        "urls"
      ],
      "metadata": {
        "id": "ZupHT5qCTryb"
      },
      "id": "ZupHT5qCTryb",
      "execution_count": null,
      "outputs": []
    },
    {
      "cell_type": "markdown",
      "source": [
        "143. With the `urls` list, we could write a program that works for a single page and then use a `for` loop to iterate over each url in the `urls` list.\n",
        "\n",
        "<blockquote>Q6: Describe in your own words how the url generation program covered in the previous section of the lab works. The full program is also included below. What is happening in the different program components?</blockquote>"
      ],
      "metadata": {
        "id": "Goz6_H7NTu-w"
      },
      "id": "Goz6_H7NTu-w"
    },
    {
      "cell_type": "code",
      "source": [
        "root = \"https://www.sports-reference.com/cfb/schools/notre-dame/\"\n",
        "\n",
        "years = list(range(1899, 2021, 1))\n",
        "\n",
        "tag = \"-schedule.html\"\n",
        "\n",
        "urls = []\n",
        "\n",
        "for year in years:\n",
        "    urls.append(root + str(year) + tag)\n",
        "    \n",
        "urls"
      ],
      "metadata": {
        "id": "0tnV1wy2Tv44"
      },
      "id": "0tnV1wy2Tv44",
      "execution_count": null,
      "outputs": []
    },
    {
      "cell_type": "markdown",
      "source": [
        "## Lab Notebook Question 7\n",
        "\n",
        "Q7: Select another Sports Reference web page that follows this pattern and write a program that generates a list of full URLs for that team/organization.\n",
        "\n",
        "A few places to start:\n",
        "- Baseball Reference season web pages have the following URL pattern:\n",
        "  * `https://www.baseball-reference.com/teams/`, `TEAM ABBREVIATION`, `SEASON`, `.shtml`\n",
        "- Basketball Reference season web pages have a similar pattern for NBA teams:\n",
        "  * `https://www.basketball-reference.com/teams/`, `TEAM ABBREVIATION`, `SEASON`, `.html`\n",
        "- Basketball Reference uses a slightly different pattern for its WNBA pages:\n",
        "  * `https://www.basketball-reference.com/wnba/teams`, `TEAM ABBREVIATION`, `SEASON`, `.html`\n",
        "- College Basketball Reference pages also follow a pattern: \n",
        "  * `https://www.sports-reference.com/cbb/schools`, `SCHOOL ABBREVIATION`, `SEASON`, `.html`\n",
        "- For Hockey Reference pages: \n",
        "  * `https://www.hockey-reference.com/teams/`, `TEAM ABBREVIATION`, `SEASON`, `.html`\n",
        "- Football Reference pages follow the same pattern for men's and women's teams:\n",
        "  * `https://fbref.com/en/squads/`, `SQUAD ID`, `SEASON`, `TEAM NAME`\n",
        "- Pro Football Reference pages also have a pattern: \n",
        "  * `https://www.pro-football-reference.com/teams/`, `TEAM ABBREVIATION`, `SEASON`, `.htm`\n",
        "\n",
        "NOTE: You DO NOT need to write a program that scrapes data from these pages for this question. The purpose of this question is to be able to programmatically generate a list of URLs that cover a date range. "
      ],
      "metadata": {
        "id": "47GWWZt0UHW1"
      },
      "id": "47GWWZt0UHW1"
    },
    {
      "cell_type": "markdown",
      "source": [
        "# An Alternate Approach: pandas.read_html()\n",
        "\n",
        "<table>\n",
        " <tr><td>\n",
        "<img src=\"https://elearn.southampton.ac.uk/wp-content/blogs.dir/sites/64/2021/04/PanPan.png\" alt=\"Panopto logo\" width=\"50\"/></td>\n",
        "  <td><a href=\"https://notredame.hosted.panopto.com/Panopto/Pages/Viewer.aspx?id=94cac193-ae03-43e8-890e-ade9004d9a17\">pandas.read_html()</a></td>\n",
        "  </tr>\n",
        "  </table>\n",
        "\n",
        "144. `BeautifulSoup` is an incredibly powerful package that lets us drill down into the structure of an HTML document to isolate the pieces of information we need or want to work with.\n",
        "\n",
        "145. But if we're dealing with an HTML table that has straightforward formatting, an alternate approach is to use the `.read_html()` function that is part of the `pandas` library.\n",
        "\n",
        "146. `pd.read_html()` looks for any `<table>` tag on a web page and reads each `<table>`  tag's HTML into Python as a list of `DataFrame` objects.\n",
        "\n",
        "147. Let's take a look at how we could use `pd.read_html()` for the College Football Reference web page we looked at in the previous section of the lab."
      ],
      "metadata": {
        "id": "6ssfnJifUIxS"
      },
      "id": "6ssfnJifUIxS"
    },
    {
      "cell_type": "code",
      "source": [
        "# import pandas\n",
        "import pandas as pd\n",
        "\n",
        "# load url\n",
        "url = \"https://www.sports-reference.com/cfb/schools/notre-dame/1940-schedule.html\"\n",
        "\n",
        "# create list of dataframes from url using .read_html()\n",
        "dfs = pd.read_html(url)\n",
        "\n",
        "# show dfs list\n",
        "dfs"
      ],
      "metadata": {
        "id": "eA_zcg9VUJtJ"
      },
      "id": "eA_zcg9VUJtJ",
      "execution_count": null,
      "outputs": []
    },
    {
      "cell_type": "markdown",
      "source": [
        "We could also the URL directly to `pd.read_html()`:\n"
      ],
      "metadata": {
        "id": "1P6Ik-DjUKVz"
      },
      "id": "1P6Ik-DjUKVz"
    },
    {
      "cell_type": "code",
      "source": [
        "# import pandas\n",
        "import pandas as pd\n",
        "\n",
        "# create list of dataframes from url using .read_html()\n",
        "dfs = pd.read_html(\"https://www.sports-reference.com/cfb/schools/notre-dame/1940-schedule.html\")\n",
        "\n",
        "# show dfs list\n",
        "dfs"
      ],
      "metadata": {
        "id": "mkvuW37OULLQ"
      },
      "id": "mkvuW37OULLQ",
      "execution_count": null,
      "outputs": []
    },
    {
      "cell_type": "markdown",
      "source": [
        "148. At first glance, `dfs` doesn't seem to have clear data tables, but remember `dfs` is a list of `DataFrames` created from any HTML `table` content on the page.\n"
      ],
      "metadata": {
        "id": "Nb4QgxqtUMA_"
      },
      "id": "Nb4QgxqtUMA_"
    },
    {
      "cell_type": "code",
      "source": [
        "# number of elements in dfs list\n",
        "len(dfs)"
      ],
      "metadata": {
        "id": "XCHuFfDZUP7o"
      },
      "id": "XCHuFfDZUP7o",
      "execution_count": null,
      "outputs": []
    },
    {
      "cell_type": "markdown",
      "source": [
        "149. Since there are only two elements in the `dfs` list, let's isolate each one.\n"
      ],
      "metadata": {
        "id": "ON569J__UM_9"
      },
      "id": "ON569J__UM_9"
    },
    {
      "cell_type": "code",
      "source": [
        "# show first dataframe in dfs\n",
        "dfs[0]"
      ],
      "metadata": {
        "id": "bJD4KdiGUQua"
      },
      "id": "bJD4KdiGUQua",
      "execution_count": null,
      "outputs": []
    },
    {
      "cell_type": "markdown",
      "source": [
        "150. These values correspond to the `AP Poll Summary` table on the page.\n"
      ],
      "metadata": {
        "id": "1mL3jsKyUN8k"
      },
      "id": "1mL3jsKyUN8k"
    },
    {
      "cell_type": "code",
      "source": [
        "# show second dataframe in dfs\n",
        "dfs[1]"
      ],
      "metadata": {
        "id": "q9LrwhBHUSBq"
      },
      "id": "q9LrwhBHUSBq",
      "execution_count": null,
      "outputs": []
    },
    {
      "cell_type": "markdown",
      "source": [
        "151. These values correspond to the `9 Games` schedule table on the page.\n",
        "\n",
        "152. We could create a single `DataFrame` by selecting the second element in `dfs`."
      ],
      "metadata": {
        "id": "gQsvRiYYUO8y"
      },
      "id": "gQsvRiYYUO8y"
    },
    {
      "cell_type": "code",
      "source": [
        "# select single dataframe \n",
        "df = dfs[1]\n",
        "\n",
        "# show new dataframe\n",
        "df"
      ],
      "metadata": {
        "id": "OkFqQ7FHUTra"
      },
      "id": "OkFqQ7FHUTra",
      "execution_count": null,
      "outputs": []
    },
    {
      "cell_type": "markdown",
      "source": [
        "153. College Football Reference schedule pages for pre-1936 Notre Dame do not have the first `AP Poll` table.\n",
        "\n",
        "154. We can use the 1935 schedule page (https://www.sports-reference.com/cfb/schools/notre-dame/1935-schedule.html) as an example."
      ],
      "metadata": {
        "id": "CKm-Ix7TUU2a"
      },
      "id": "CKm-Ix7TUU2a"
    },
    {
      "cell_type": "code",
      "source": [
        "# load url\n",
        "url = \"https://www.sports-reference.com/cfb/schools/notre-dame/1935-schedule.html\"\n",
        "\n",
        "# create list of dataframes from url using .read_html()\n",
        "dfs = pd.read_html(url)\n",
        "\n",
        "# show number of tables in dfs\n",
        "len(dfs)"
      ],
      "metadata": {
        "id": "JCaNdKkkUVkT"
      },
      "id": "JCaNdKkkUVkT",
      "execution_count": null,
      "outputs": []
    },
    {
      "cell_type": "markdown",
      "source": [
        "155. Only one table here, so we can isolate that table as a `DataFrame`.\n"
      ],
      "metadata": {
        "id": "iS4iYk4QUWGP"
      },
      "id": "iS4iYk4QUWGP"
    },
    {
      "cell_type": "code",
      "source": [
        "# select single dataframe \n",
        "df = dfs[0]\n",
        "\n",
        "# show new dataframe\n",
        "df"
      ],
      "metadata": {
        "id": "R7unpcQeUXWP"
      },
      "id": "R7unpcQeUXWP",
      "execution_count": null,
      "outputs": []
    },
    {
      "cell_type": "markdown",
      "source": [
        "156. If we were ultimately going to do further work with analyzing/visualizing this data, we would probably want to spend some more time standardizing column names and values. \n",
        "\n",
        "157. And if we were going to scrape this table across multiple pages, we would need to find some way to get the year or season represented in the `DataFrame`.\n",
        "\n",
        "158. But for now, if we wanted to write the `DataFrame` we created using `pd.read_html()` to a `CSV`..."
      ],
      "metadata": {
        "id": "U3A_1BCGUY16"
      },
      "id": "U3A_1BCGUY16"
    },
    {
      "cell_type": "code",
      "source": [
        "df.to_csv(\"output.csv\", index=False)"
      ],
      "metadata": {
        "id": "YePPBU6sUZfO"
      },
      "id": "YePPBU6sUZfO",
      "execution_count": null,
      "outputs": []
    },
    {
      "cell_type": "markdown",
      "source": [
        "## Lab Notebook Questions 8-11\n",
        "\n",
        "<table>\n",
        " <tr><td>\n",
        "<img src=\"https://elearn.southampton.ac.uk/wp-content/blogs.dir/sites/64/2021/04/PanPan.png\" alt=\"Panopto logo\" width=\"50\"/></td>\n",
        "  <td><a href=\"https://notredame.hosted.panopto.com/Panopto/Pages/Viewer.aspx?id=73a9d3b1-4a1e-4923-ae1c-ade900503cb8\">Lab Notebook Questions 8-11</a></td>\n",
        "  </tr>\n",
        "  </table>\n",
        "  \n",
        "Q8: Describe the general approach to loading a web page in Python using `pd.read_html()`. What are the basic steps involved in this workflow, thinking about what happens to identify/isolate the specific table you want to work with?\n",
        "\n",
        "Q9: For Q7, you generated a list of Sports Reference URLs covering a time span for a specific team/organization. Select three years and web pages from that list- something early in the time period covered, something in the middle of the time period covered, and something toward the end of the time period covered.\n",
        "\n",
        "Do these pages have the same pattern in terms of number and order of tables?\n",
        "\n",
        "For one of these pages, what table or tables on these pages would you want to be able to extract and work with?\n",
        "\n",
        "Q10: Develop an outline for a Python program that uses `pd.read_html()` to scrape data from one of the web pages you select in Q9.\n",
        "\n",
        "A preliminary workflow:\n",
        "- Use `pd.read_html()` to create a list of DataFrame objects\n",
        "- Identify which DataFrame object in the list is the table you want to work with\n",
        "- Isolate the list element to create a new DataFrame\n",
        "- Write the new DataFrame to a CSV file\n",
        "\n",
        "NOTE: For Q4, you did not need to have working code for all components of this program. Since `pd.read_html()` has an easier learning curve, let's see if we can flesh out more of this program. But if you run into problems, it's okay to focus on the conceptual framework for the web scraping program. Start to build out code where you can, but think about the programming version of outlining a paper.\n",
        "\n",
        "ANOTHER NOTE: For many Sports Reference pages, tables further down the page are buried in HTML comments. These tables will not show up when you use `pd.read_html()`. We can come back to these \"hidden tables\" in the final project, but for now, focus on the tables that do show up when you use `pd.read_html()`.\n",
        "\n",
        "Q11: What challenges or roadblocks did you face working on Q10? What parts of the program do you understand and/or were able to develop? What parts of the program are less clear?\n"
      ],
      "metadata": {
        "id": "xRaF5CXWUjcK"
      },
      "id": "xRaF5CXWUjcK"
    },
    {
      "cell_type": "markdown",
      "source": [
        "# Web Scraping and Unstructured Text\n",
        "\n",
        "<table>\n",
        " <tr><td>\n",
        "<img src=\"https://elearn.southampton.ac.uk/wp-content/blogs.dir/sites/64/2021/04/PanPan.png\" alt=\"Panopto logo\" width=\"50\"/></td>\n",
        "  <td><a href=\"https://notredame.hosted.panopto.com/Panopto/Pages/Viewer.aspx?id=8218edd5-5c66-4f2e-9fe6-ade90052aa96\">Unstructured Text</a></td>\n",
        "  </tr>\n",
        "  </table>\n",
        "\n",
        "159. So far, this lab has focused on approaches for scraping structured data from the web using Python.\n",
        "\n",
        "160. But there are other contexts and use cases when we might want to be able to scrape unstructured text from the web and be able to work with that \"data\" in Python (or write it to a plain-text `.txt` file).\n",
        "\n",
        "161. For example, take a look at a recent *Observer* article: https://ndsmcobserver.com/2021/10/south-bend-community-leaders-discuss-role-of-notre-dame-in-fight-for-black-civil-rights/\n",
        "\n",
        "162. Imagine we wanted to use Python to analyze the words or terms used in this article.\n",
        "\n",
        "163. The first step would be to get a plain-text `.txt` version of the article text.\n",
        "\n",
        "164. We would start with the same `BeautifulSoup` workflow we've used previously:\n",
        "- Load URL\n",
        "- Create `BeautifulSoup` object\n",
        "- Isolate section of HTML with article text"
      ],
      "metadata": {
        "id": "KoPZfoRkUky9"
      },
      "id": "KoPZfoRkUky9"
    },
    {
      "cell_type": "code",
      "source": [
        "# get page\n",
        "page = requests.get(\"https://ndsmcobserver.com/2021/10/south-bend-community-leaders-discuss-role-of-notre-dame-in-fight-for-black-civil-rights/\")\n",
        "\n",
        "# create BeautifulSoup object\n",
        "soup = BeautifulSoup(page.text, 'html.parser')\n",
        "\n",
        "# show BeautifulSoup object\n",
        "soup"
      ],
      "metadata": {
        "id": "PRRBjRFbUl4V"
      },
      "id": "PRRBjRFbUl4V",
      "execution_count": null,
      "outputs": []
    },
    {
      "cell_type": "markdown",
      "source": [
        "165. Next, we want to isolate the section of the page that includes the article text.\n",
        "\n",
        "```HTML\n",
        "<article class=\"section news\">\n",
        "<div class=\"title-container\">\n",
        "<h2 class=\"topic\"><span class=\"title\">news</span></h2>\n",
        "<ul class=\"see-social addthis_toolbox\" addthis:url=\"https://ndsmcobserver.com/2021/10/south-bend-community-leaders-discuss-role-of-notre-dame-in-fight-for-black-civil-rights/\" addthis:title=\"South Bend community leaders discuss role of Notre Dame in fight for Black civil rights\" addthis:description=\"South Bend community leaders discuss role of Notre Dame in fight for Black civil rights\">\n",
        "<li><a class=\"addthis_button_email email\"></a></li>\n",
        "<li><a class=\"addthis_button_facebook facebook\"></a></li>\n",
        "<li><a class=\"addthis_button_twitter twitter\"></a></li>\n",
        "</ul> \n",
        "</div> \n",
        "<div class=\"content-header\">\n",
        "<h3>South Bend community leaders discuss role of Notre Dame in fight for Black civil rights</h3>\n",
        "<p class=\"info\"><a href=\"https://ndsmcobserver.com/author/vortiz2/\" title=\"Posts by Valeria Ortiz\" class=\"author url fn\" rel=\"author\">Valeria Ortiz</a> | Friday, October 15, 2021</p>\n",
        "\n",
        "</div> \n",
        "<span id=\"outstream-unit\" style=\"width:100%;height:550px;padding:0.5em 0\"></span>\n",
        "<div class=\"content-body\">\n",
        "<p>The Notre Dame Initiative on Race and Resilience hosted a panel Wednesday in DeBartolo Hall on Black civil rights in South Bend, featuring some of South Bend’s prominent community leaders.</p>\n",
        "<p>The panel, which intended to explore the immense social inequalities facing South Bend’s Black residents, included Trina Robinson, president of NAACP-South Bend; Regina Williams-Preston, president of Community Action for Education and former South Bend Common Council representative; Jorden Giger, co-founder of Black Lives Matter South Bend and Deacon Mel Tardy, deacon of St. Augustine Parish and an advising faculty at the University.</p>\n",
        "<figure id=\"attachment_234452\" class=\"wp-caption aligncenter\" style=\"width: 700px\"> <div class=\"media-credit-container aligncenter\" style=\"max-width: 710px\">\n",
        "<img data-attachment-id=\"234452\" data-permalink=\"https://ndsmcobserver.com/2021/10/south-bend-community-leaders-discuss-role-of-notre-dame-in-fight-for-black-civil-rights/screen-shot-2021-10-15-at-8-36-39-pm/\" data-orig-file=\"https://i1.wp.com/ndsmcobserver.com/wp-content/uploads/2021/10/1634330204-71900895f520822.png?fit=726%2C538&amp;ssl=1\" data-orig-size=\"726,538\" data-comments-opened=\"1\" data-image-meta=\"{&quot;aperture&quot;:&quot;0&quot;,&quot;credit&quot;:&quot;&quot;,&quot;camera&quot;:&quot;&quot;,&quot;caption&quot;:&quot;&quot;,&quot;created_timestamp&quot;:&quot;0&quot;,&quot;copyright&quot;:&quot;&quot;,&quot;focal_length&quot;:&quot;0&quot;,&quot;iso&quot;:&quot;0&quot;,&quot;shutter_speed&quot;:&quot;0&quot;,&quot;title&quot;:&quot;&quot;,&quot;orientation&quot;:&quot;0&quot;}\" data-image-title=\"Screen Shot 2021-10-15 at 8.36.39 PM\" data-image-description=\"\" data-medium-file=\"https://i1.wp.com/ndsmcobserver.com/wp-content/uploads/2021/10/1634330204-71900895f520822.png?fit=700%2C519&amp;ssl=1\" data-large-file=\"https://i1.wp.com/ndsmcobserver.com/wp-content/uploads/2021/10/1634330204-71900895f520822.png?fit=700%2C519&amp;ssl=1\" class=\"wp-image-234452 size-medium\" src=\"https://i1.wp.com/ndsmcobserver.com/wp-content/uploads/2021/10/1634330204-71900895f520822.png?resize=700%2C519&#038;ssl=1\" alt=\"\" width=\"700\" height=\"519\" srcset=\"https://i1.wp.com/ndsmcobserver.com/wp-content/uploads/2021/10/1634330204-71900895f520822.png?resize=700%2C519&amp;ssl=1 700w, https://i1.wp.com/ndsmcobserver.com/wp-content/uploads/2021/10/1634330204-71900895f520822.png?w=726&amp;ssl=1 726w\" sizes=\"(max-width: 700px) 100vw, 700px\" data-recalc-dims=\"1\" /><span class=\"media-credit\">Valeria Ortiz | The Observer</span> </div>\n",
        "<figcaption class=\"wp-caption-text\">In a Wednesday panel, community activists encouraged the University to give to local Black-owned businesses to support inclusion and business growth.</figcaption></figure>\n",
        "```\n",
        "\n",
        "166. From taking a look at the page source, we can see `<div class=\"content-header\">` that marks the article title and `<div class=\"content-body\">` that marks the start of the article text.\n",
        "\n",
        "167. And we can use a `Control-F`/`Command-F` search to see that the `content-body` class appears only once in the page.\n",
        "\n",
        "168. This means we can use `.find()` to extract this section of the page.\n"
      ],
      "metadata": {
        "id": "31FdTDVPUnzV"
      },
      "id": "31FdTDVPUnzV"
    },
    {
      "cell_type": "code",
      "source": [
        "# isolate HTML with content-body class\n",
        "article = soup.find(class_ = \"content-body\")\n",
        "\n",
        "# show article HTML\n",
        "article"
      ],
      "metadata": {
        "id": "U9DH0BsIUqAU"
      },
      "id": "U9DH0BsIUqAU",
      "execution_count": null,
      "outputs": []
    },
    {
      "cell_type": "markdown",
      "source": [
        "169. Now we have the section of HTML with the article text isolated.\n",
        "\n",
        "```HTML\n",
        "<p>The Notre Dame Initiative on Race and Resilience hosted a panel Wednesday in DeBartolo Hall on Black civil rights in South Bend, featuring some of South Bend’s prominent community leaders.</p>\n",
        "<p>The panel, which intended to explore the immense social inequalities facing South Bend’s Black residents, included Trina Robinson, president of NAACP-South Bend; Regina Williams-Preston, president of Community Action for Education and former South Bend Common Council representative; Jorden Giger, co-founder of Black Lives Matter South Bend and Deacon Mel Tardy, deacon of St. Augustine Parish and an advising faculty at the University.</p>\n",
        "<figure id=\"attachment_234452\" class=\"wp-caption aligncenter\" style=\"width: 700px\"> <div class=\"media-credit-container aligncenter\" style=\"max-width: 710px\">\n",
        "<img data-attachment-id=\"234452\" data-permalink=\"https://ndsmcobserver.com/2021/10/south-bend-community-leaders-discuss-role-of-notre-dame-in-fight-for-black-civil-rights/screen-shot-2021-10-15-at-8-36-39-pm/\" data-orig-file=\"https://i1.wp.com/ndsmcobserver.com/wp-content/uploads/2021/10/1634330204-71900895f520822.png?fit=726%2C538&amp;ssl=1\" data-orig-size=\"726,538\" data-comments-opened=\"1\" data-image-meta=\"{&quot;aperture&quot;:&quot;0&quot;,&quot;credit&quot;:&quot;&quot;,&quot;camera&quot;:&quot;&quot;,&quot;caption&quot;:&quot;&quot;,&quot;created_timestamp&quot;:&quot;0&quot;,&quot;copyright&quot;:&quot;&quot;,&quot;focal_length&quot;:&quot;0&quot;,&quot;iso&quot;:&quot;0&quot;,&quot;shutter_speed&quot;:&quot;0&quot;,&quot;title&quot;:&quot;&quot;,&quot;orientation&quot;:&quot;0&quot;}\" data-image-title=\"Screen Shot 2021-10-15 at 8.36.39 PM\" data-image-description=\"\" data-medium-file=\"https://i1.wp.com/ndsmcobserver.com/wp-content/uploads/2021/10/1634330204-71900895f520822.png?fit=700%2C519&amp;ssl=1\" data-large-file=\"https://i1.wp.com/ndsmcobserver.com/wp-content/uploads/2021/10/1634330204-71900895f520822.png?fit=700%2C519&amp;ssl=1\" class=\"wp-image-234452 size-medium\" src=\"https://i1.wp.com/ndsmcobserver.com/wp-content/uploads/2021/10/1634330204-71900895f520822.png?resize=700%2C519&#038;ssl=1\" alt=\"\" width=\"700\" height=\"519\" srcset=\"https://i1.wp.com/ndsmcobserver.com/wp-content/uploads/2021/10/1634330204-71900895f520822.png?resize=700%2C519&amp;ssl=1 700w, https://i1.wp.com/ndsmcobserver.com/wp-content/uploads/2021/10/1634330204-71900895f520822.png?w=726&amp;ssl=1 726w\" sizes=\"(max-width: 700px) 100vw, 700px\" data-recalc-dims=\"1\" /><span class=\"media-credit\">Valeria Ortiz | The Observer</span> </div>\n",
        "<figcaption class=\"wp-caption-text\">In a Wednesday panel, community activists encouraged the University to give to local Black-owned businesses to support inclusion and business growth.</figcaption></figure>\n",
        "<p>The panelists offered their experiences and recommendations toward a stronger future for civil rights within the local community. They called for action to combat systemic racism — a historical pattern of denying opportunity to fair education, health and housing opportunities in South Bend.</p>\n",
        "<p>“He who wins the war gets to tell the story, so now we believe it all right. Here we are today seeing how that history gets uncovered,” Williams-Preston said.</p>\n",
        "```\n",
        "\n",
        "170. The next step is to create a list-like object with the sections of text that make up the article.\n",
        "\n",
        "171. For this web page, those sections are marked by paragraph (`<p>`) tags.\n",
        "\n",
        "172. We can use `.find_all(\"p\")` to create a list-like object with each `<p>` tag's content as a list item."
      ],
      "metadata": {
        "id": "850dVd4GUrTg"
      },
      "id": "850dVd4GUrTg"
    },
    {
      "cell_type": "code",
      "source": [
        "# isolate paragraph tags\n",
        "paragraphs = article.find_all(\"p\")"
      ],
      "metadata": {
        "id": "SW_KbN4PUsMH"
      },
      "id": "SW_KbN4PUsMH",
      "execution_count": null,
      "outputs": []
    },
    {
      "cell_type": "markdown",
      "source": [
        "173. The last step is to use a `for` loop to iterate over each paragraph in `article_paragraphs`, and use `.contents[]` to extract the paragraph contents and append it to a list.\n",
        "\n",
        "174. Since the output of `BeautifulSoup`'s `.contents[]` command is still a `BeautifulSoup` object type, we can use the `str()` function to convert the value to a string before appending it to a list."
      ],
      "metadata": {
        "id": "WeoC_r3vUtT1"
      },
      "id": "WeoC_r3vUtT1"
    },
    {
      "cell_type": "code",
      "source": [
        "# create empty list for paragraphs\n",
        "paragraph_list = []\n",
        "\n",
        "# for loop that removes HTML markup for each paragraph or instance of \"p\" tag\n",
        "for paragraph in paragraphs:\n",
        "    paragraph_list.append(str(paragraph.contents[0]))\n",
        "    \n",
        "# show list of plain-text paragraphs\n",
        "paragraph_list"
      ],
      "metadata": {
        "id": "VGtVIPOgUuk1"
      },
      "id": "VGtVIPOgUuk1",
      "execution_count": null,
      "outputs": []
    },
    {
      "cell_type": "markdown",
      "source": [
        "175. Now that we have a working program, we could write each paragraph to a newly-created `.txt` file."
      ],
      "metadata": {
        "id": "pbUK-ENMUvdq"
      },
      "id": "pbUK-ENMUvdq"
    },
    {
      "cell_type": "code",
      "source": [
        "# create new txt file\n",
        "f = open(\"output.txt\", \"a\")\n",
        "\n",
        "# for loop that removes HTML markup for each paragraph or instance of \"p\" tag\n",
        "for paragraph in paragraph_list:\n",
        "    text = str(paragraph.contents[0])\n",
        "    f.write(text)"
      ],
      "metadata": {
        "id": "PeI6k4kKUxBf"
      },
      "id": "PeI6k4kKUxBf",
      "execution_count": null,
      "outputs": []
    },
    {
      "cell_type": "markdown",
      "source": [
        "## Lab Notebook Questions 12-16\n",
        "\n",
        "<table>\n",
        " <tr><td>\n",
        "<img src=\"https://elearn.southampton.ac.uk/wp-content/blogs.dir/sites/64/2021/04/PanPan.png\" alt=\"Panopto logo\" width=\"50\"/></td>\n",
        "  <td><a href=\"https://notredame.hosted.panopto.com/Panopto/Pages/Viewer.aspx?id=1b6546d8-c040-4186-b5a5-ade90056af7a\">Lab Notebook Questions 12-16</a></td>\n",
        "  </tr>\n",
        "  </table>\n",
        "\n",
        "Q12: Describe in your own words how program for scraping unstructured text covered in the previous section of the lab works. The full program is also included below. What is happening in the different program components?"
      ],
      "metadata": {
        "id": "vaTs91LeVB-y"
      },
      "id": "vaTs91LeVB-y"
    },
    {
      "cell_type": "code",
      "source": [
        "page = requests.get(\"https://ndsmcobserver.com/2021/10/south-bend-community-leaders-discuss-role-of-notre-dame-in-fight-for-black-civil-rights/\")\n",
        "\n",
        "soup = BeautifulSoup(page.text, 'html.parser')\n",
        "\n",
        "article = soup.find(class_ = \"content-body\")\n",
        "\n",
        "paragraphs = article.find_all(\"p\")\n",
        "\n",
        "f = open(\"output.txt\", \"a\")\n",
        "\n",
        "for paragraph in paragraphs:\n",
        "    text = str(paragraph.contents[0])\n",
        "    f.write(text)"
      ],
      "metadata": {
        "id": "QNULtOptVFO0"
      },
      "id": "QNULtOptVFO0",
      "execution_count": null,
      "outputs": []
    },
    {
      "cell_type": "markdown",
      "source": [
        "Q13: Select another web page that includes unstructured text. From looking at the public web page, what text do you want to scrape from this web page (i.e. specific sections, multiple paragraphs, etc.)?\n",
        "\n",
        "A few places to start for unstructured text:\n",
        "- [The Observer!](https://ndsmcobserver.com) (or another news publication of your choosing)\n",
        "- [WikiSource](https://en.wikisource.org/wiki/Main_Page)(a library of texts that are not covered by copyright)\n",
        "  * [U.S. Presidential State of the Union Addresses](https://en.wikisource.org/wiki/Portal:State_of_the_Union_Speeches_by_United_States_Presidents)\n",
        "  * [U.S. Presidential Inaugural Speeches](https://en.wikisource.org/wiki/Portal:Inaugural_Speeches_by_United_States_Presidents)\n",
        "- [Project Gutenberg](https://www.gutenberg.org) (a library of literary works or texts that are not covered by copyright)\n",
        "\n",
        "Q14: Take a look at the HTML for this page. What tags or other HTML components do you see around the section of the page you want to work with? For this question, we're thinking about how we will end up writing a program with `BeautifulSoup` to isolate a section of the web page.\n",
        "\n",
        "Q15: Develop an outline for a Python program that scrapes unstructured text from the web page you selected. \n",
        "\n",
        "A preliminary workflow:\n",
        "- Load URL and create BeautifulSoup object\n",
        "- Isolate section of HTML with your text (either directly or extract from list)\n",
        "- IF NEEDED: Isolate text elements (create list where each element is a section of text)\n",
        "- IF NEEDED: Extract text contents (isolate text from each section/paragraph)\n",
        "- Write text to TXT file\n",
        "\n",
        "NOTE: You do not need to have working code for all components of this program. That's where we're heading with the final project. At this point, we're focusing on the conceptual framework for the web scraping program. Start to build out code where you can, but think about the programming version of outlining a paper.\n",
        "\n",
        "Q16: What challenges or roadblocks did you face working on Q15? What parts of the program do you understand/feel ready to develop at this point? What parts of the program are less clear?\n"
      ],
      "metadata": {
        "id": "3bUi1k3jVGfg"
      },
      "id": "3bUi1k3jVGfg"
    },
    {
      "cell_type": "markdown",
      "source": [
        "## Oh, the Places You Could Go\n",
        "\n",
        "<table>\n",
        " <tr><td>\n",
        "<img src=\"https://elearn.southampton.ac.uk/wp-content/blogs.dir/sites/64/2021/04/PanPan.png\" alt=\"Panopto logo\" width=\"50\"/></td>\n",
        "  <td><a href=\"https://notredame.hosted.panopto.com/Panopto/Pages/Viewer.aspx?id=915f2e6c-5f80-45c3-b44f-ade90058e01f\">Oh the Places You Could Go</a></td>\n",
        "  </tr>\n",
        "  </table>\n",
        "\n",
        "\n",
        "176. Once we have a `.txt` file, we could use Python to generate a list of words used in the article."
      ],
      "metadata": {
        "id": "r5Hn0N33VIXR"
      },
      "id": "r5Hn0N33VIXR"
    },
    {
      "cell_type": "code",
      "source": [
        "# load file\n",
        "text = open(\"output.txt\", 'r')\n",
        "\n",
        "# read file to string\n",
        "text = text.read()\n",
        "\n",
        "# create list of words\n",
        "wordlist = text.split()\n",
        "\n",
        "# show first 120 words in wordlist\n",
        "print((wordlist[0:120]))"
      ],
      "metadata": {
        "id": "iQQwGfyRVJA9"
      },
      "id": "iQQwGfyRVJA9",
      "execution_count": null,
      "outputs": []
    },
    {
      "cell_type": "markdown",
      "source": [
        "177. Then, we could use the list of words `wordlist` to count term frequency.\n"
      ],
      "metadata": {
        "id": "n8Qs7b3rVJ2L"
      },
      "id": "n8Qs7b3rVJ2L"
    },
    {
      "cell_type": "code",
      "source": [
        "# create empty list for word frequency\n",
        "wordfreq = []\n",
        "\n",
        "# append number of word appearanes to wordfreq list\n",
        "for word in wordlist:\n",
        "    wordfreq.append(wordlist.count(word))\n",
        "    \n",
        "# create nested list or lists with sublists that include word and number of appearances\n",
        "str(list(zip(wordlist, wordfreq)))"
      ],
      "metadata": {
        "id": "sM6UncaxVM3p"
      },
      "id": "sM6UncaxVM3p",
      "execution_count": null,
      "outputs": []
    },
    {
      "cell_type": "markdown",
      "source": [
        "178. Or, we could connect the terms and frequency count using a dictionary's key-value pairs.\n"
      ],
      "metadata": {
        "id": "iubYJK0DVUnW"
      },
      "id": "iubYJK0DVUnW"
    },
    {
      "cell_type": "code",
      "source": [
        "# convert lists to dictionary using dictionary comprehension\n",
        "word_count = {wordlist[i]: wordfreq[i] for i in range(len(wordlist))}\n",
        "\n",
        "# show dictionary\n",
        "word_count"
      ],
      "metadata": {
        "id": "mq_0JWNPVVm8"
      },
      "id": "mq_0JWNPVVm8",
      "execution_count": null,
      "outputs": []
    },
    {
      "cell_type": "markdown",
      "source": [
        "179. With normalized textual data, you could use Python to do things like:\n",
        "- count word frequency\n",
        "  * William J. Turkel and Adam Crymble, \"Counting Word Frequencies with Python,\" The Programming Historian 1 (2012), https://programminghistorian.org/en/lessons/counting-frequencies.\n",
        "- analyze keywords in contact using n-grams\n",
        "  * William J. Turkel and Adam Crymble, \"Keywords in Context (Using n-grams) with Python,\" The Programming Historian 1 (2012), https://programminghistorian.org/en/lessons/keywords-in-context-using-n-grams.\n",
        "\n",
        "180. Why go to all this  trouble? \n",
        "\n",
        "181. Computational text analysis or other kinds of natural language processing allow us to see patterns and detect change over time in large bodies of textual materials.\n",
        "\n",
        "182. A few projects that do this with speeches given by U.S. presidents:\n",
        "- [Google News Lab's Inaugurate project](http://inauguratespeeches.com/) that looks at the subjects of inauguration speeches\n",
        "- [\"The Language of the State of the Union,\"](https://www.theatlantic.com/politics/archive/2015/01/the-language-of-the-state-of-the-union/384575/) an interactive project from the *Atlantic*'s Ben Schmidt and Mitch Fraas that \"reveals how the words presidents use reflect the twists and turns of American history\"\n",
        "- [\"Mapping the State of the Union,\"](https://www.theatlantic.com/politics/archive/2015/01/mapping-the-state-of-the-union/384576/), also from Schmidt and Fraas, that \"shows the 1,410 different spots on the globe presidents have referenced in 224 speeches\"\n"
      ],
      "metadata": {
        "id": "IuPXtTLjVW08"
      },
      "id": "IuPXtTLjVW08"
    },
    {
      "cell_type": "markdown",
      "source": [
        "# Why did we do this?\n",
        "\n",
        "<table>\n",
        " <tr><td>\n",
        "<img src=\"https://elearn.southampton.ac.uk/wp-content/blogs.dir/sites/64/2021/04/PanPan.png\" alt=\"Panopto logo\" width=\"50\"/></td>\n",
        "  <td><a href=\"https://notredame.hosted.panopto.com/Panopto/Pages/Viewer.aspx?id=32080574-8fa5-4a3b-93a6-ade9005afdca\">Why Did We Do This</a></td>\n",
        "  </tr>\n",
        "  </table>\n",
        "\n",
        "\n",
        "183. At this point, your brain probably hurts. Mine does.\n",
        "\n",
        "184. Why go to all the trouble of building a Python program when we could just copy and paste the text from an *Observer* article into a `.txt` file, or copy and paste data from Sports Reference into an Excel file or Google Sheet document? Why write a program when we could just remove the markup ourselves through manual data manipulation?\n",
        "\n",
        "185. That's a fair question.\n",
        "\n",
        "186. Scientific disciplines value research that can be reproduced and replicated. A 2013 editorial in *PLOS Computational Biology* outlines the value of reproducible computational research:\n",
        "\n",
        "- \"The importance of replication and reproducibility has recently been exemplified through studies showing that scientific papers commonly leave out experimental details essential for reproduction, studies showing difficulties with replicating published experimental results, an increase in retracted papers, and through a high number of failing clinical trials.\n",
        "\n",
        "- \"We want to emphasize that reproducibility is not only a moral responsibility with respect to the scientific field, but that a lack of reproducibility can also be a burden for you as an individual researcher. As an example, a good practice of reproducibility is necessary in order to allow previously developed methodology to be effectively applied on new data, or to allow reuse of code and results for new projects. In other words, good habits of reproducibility may actually turn out to be a time-saver in the longer run.\n",
        "\n",
        "- \"We further note that reproducibility is just as much about the habits that ensure reproducible research as the technologies that can make these processes efficient and realistic.\"\n",
        "\n",
        "<em>Sandve GK, Nekrutenko A, Taylor J, Hovig E (2013) Ten Simple Rules for Reproducible Computational Research. PLOS Computational Biology 9(10): e1003285. https://doi.org/10.1371/journal.pcbi.1003285.</em>\n",
        "\n",
        "187. Manually wrangling or manipulating data makes it difficult for colleagues (and future you) to understand how you got from point A to point B with your data. It also increases the likelihood of human error. In the *PLOS Computational Biology* article, one of the ten rules the authors outline is \"Avoid Manual Data Manipulation Steps.\"\n",
        "\n",
        "188. The Python workflows we're covering in this lab move in the direction of automating the data scraping/manipulation process, creating a template or workflow others could implement or adapt. \n"
      ],
      "metadata": {
        "id": "LgfHc90BVYm2"
      },
      "id": "LgfHc90BVYm2"
    },
    {
      "cell_type": "markdown",
      "source": [
        "# Lab Notebook Questions\n",
        "\n",
        "Lab notebook template:\n",
        "- [Jupyter Notebook](https://drive.google.com/file/d/1LRsbOC11-8YrPUNBJNAzJDiIM_CQJ3go/view?usp=sharing)\n",
        "\n",
        "Q1: Describe the general approach to loading a web page in Python using `requests` and isolating the section of HTML you need using `BeautifulSoup`. What are the basic steps involved in this workflow, thinking about what happens at the start of the program to isolate the section of HTML you would need to do further work with to extract the data you want to work with?\n",
        "\n",
        "Q2: Select another Wikipedia page that includes a table. From looking at the public web page, what data do you want to scrape from this web page (i.e. specific table, multiple tables, etc.)? What do you want the resulting data structure to look like (columns, rows, etc)?\n",
        "\n",
        "Q3: Take a look at the HTML for this page. What tags or other HTML components do you see around the section of the page you want to work with? For this question, we're thinking about how we will end up writing a program with <code>BeautifulSoup</code> to isolate a section of the web page.\n",
        "\n",
        "Q4: Develop an outline for a Python program that scrapes data from the web page you selected. \n",
        "\n",
        "A preliminary workflow:\n",
        "- Load URL and create BeautifulSoup object\n",
        "- Isolate section of HTML with your table (either directly or extract from list)\n",
        "- Isolate table row elements (create list where each element is a table row)\n",
        "- Extract contents from row (isolate the pieces of information from each row)\n",
        "- Create Pandas DataFrame\n",
        "- Write extracted row contents to CSV file\n",
        "\n",
        "NOTE: You do not need to have working code for all components of this program. That's where we're heading with the final project. At this point, we're focusing on the conceptual framework for the web scraping program. Start to build out code where you can, but think about the programming version of outlining a paper.\n",
        "\n",
        "Q5: What challenges or roadblocks did you face working on Q4? What parts of the program do you understand/feel ready to develop at this point? What parts of the program are less clear?\n",
        "\n",
        "Q6: Describe in your own words how the url generation program covered in the previous section of the lab works. The full program is also included below. What is happening in the different program components?\n"
      ],
      "metadata": {
        "id": "E8du3NXhVaMU"
      },
      "id": "E8du3NXhVaMU"
    },
    {
      "cell_type": "code",
      "source": [
        "root = \"https://www.sports-reference.com/cfb/schools/notre-dame/\"\n",
        "\n",
        "years = list(range(1899, 2021, 1))\n",
        "\n",
        "tag = \"-schedule.html\"\n",
        "\n",
        "urls = []\n",
        "\n",
        "for year in years:\n",
        "    urls.append(root + str(year) + tag)\n",
        "    \n",
        "urls"
      ],
      "metadata": {
        "id": "fD_VSx-8VcyC"
      },
      "id": "fD_VSx-8VcyC",
      "execution_count": null,
      "outputs": []
    },
    {
      "cell_type": "markdown",
      "source": [
        "Q7: Select another Sports Reference web page that follows this pattern and write a program that generates a list of full URLs for that team/organization.\n",
        "\n",
        "A few places to start:\n",
        "- Baseball Reference season web pages have the following URL pattern:\n",
        "  * `https://www.baseball-reference.com/teams/`, `TEAM ABBREVIATION`, `SEASON`, `.shtml`\n",
        "- Basketball Reference season web pages have a similar pattern for NBA teams:\n",
        "  * `https://www.basketball-reference.com/teams/`, `TEAM ABBREVIATION`, `SEASON`, `.html`\n",
        "- Basketball Reference uses a slightly different pattern for its WNBA pages:\n",
        "  * `https://www.basketball-reference.com/wnba/teams`, `TEAM ABBREVIATION`, `SEASON`, `.html`\n",
        "- College Basketball Reference pages also follow a pattern: \n",
        "  * `https://www.sports-reference.com/cbb/schools`, `SCHOOL ABBREVIATION`, `SEASON`, `.html`\n",
        "- For Hockey Reference pages: \n",
        "  * `https://www.hockey-reference.com/teams/`, `TEAM ABBREVIATION`, `SEASON`, `.html`\n",
        "- Football Reference pages follow the same pattern for men's and women's teams:\n",
        "  * `https://fbref.com/en/squads/`, `SQUAD ID`, `SEASON`, `TEAM NAME`\n",
        "- Pro Football Reference pages also have a pattern: \n",
        "  * `https://www.pro-football-reference.com/teams/`, `TEAM ABBREVIATION`, `SEASON`, `.htm`\n",
        "\n",
        "NOTE: You DO NOT need to write a program that scrapes data from these pages for this question. The purpose of this question is to be able to programmatically generate a list of URLs that cover a date range. \n",
        "\n",
        "Q8: Describe the general approach to loading a web page in Python using `pd.read_html()`. What are the basic steps involved in this workflow, thinking about what happens to identify/isolate the specific table you want to work with?\n",
        "\n",
        "Q9: For Q7, you generated a list of Sports Reference URLs covering a time span for a specific team/organization. Select three years and web pages from that list- something early in the time period covered, something in the middle of the time period covered, and something toward the end of the time period covered.\n",
        "\n",
        "Do these pages have the same pattern in terms of number and order of tables?\n",
        "\n",
        "For one of these pages, what table or tables on these pages would you want to be able to extract and work with?\n",
        "\n",
        "Q10: Develop an outline for a Python program that uses `pd.read_html()` to scrape data from one of the web pages you select in Q9.\n",
        "\n",
        "A preliminary workflow:\n",
        "- Use `pd.read_html()` to create a list of DataFrame objects\n",
        "- Identify which DataFrame object in the list is the table you want to work with\n",
        "- Isolate the list element to create a new DataFrame\n",
        "- Write the new DataFrame to a CSV file\n",
        "\n",
        "NOTE: For Q4, you did not need to have working code for all components of this program. Since `pd.read_html()` has an easier learning curve, let's see if we can flesh out more of this program. But if you run into problems, it's okay to focus on the conceptual framework for the web scraping program. Start to build out code where you can, but think about the programming version of outlining a paper.\n",
        "\n",
        "ANOTHER NOTE: For many Sports Reference pages, tables further down the page are buried in HTML comments. These tables will not show up when you use `pd.read_html()`. We can come back to these \"hidden tables\" in the final project, but for now, focus on the tables that do show up when you use `pd.read_html()`.\n",
        "\n",
        "Q11: What challenges or roadblocks did you face working on Q10? What parts of the program do you understand and/or were able to develop? What parts of the program are less clear?\n",
        "\n",
        "Q12: Describe in your own words how program for scraping unstructured text covered in the previous section of the lab works. The full program is also included below. What is happening in the different program components?"
      ],
      "metadata": {
        "id": "TouHQarFVlBC"
      },
      "id": "TouHQarFVlBC"
    },
    {
      "cell_type": "code",
      "source": [
        "page = requests.get(\"https://ndsmcobserver.com/2021/10/south-bend-community-leaders-discuss-role-of-notre-dame-in-fight-for-black-civil-rights/\")\n",
        "\n",
        "soup = BeautifulSoup(page.text, 'html.parser')\n",
        "\n",
        "article = soup.find(class_ = \"content-body\")\n",
        "\n",
        "paragraphs = article.find_all(\"p\")\n",
        "\n",
        "f = open(\"output.txt\", \"a\")\n",
        "\n",
        "for paragraph in paragraphs:\n",
        "    text = str(paragraph.contents[0])\n",
        "    f.write(text)"
      ],
      "metadata": {
        "id": "6pXgm2EzVl2v"
      },
      "id": "6pXgm2EzVl2v",
      "execution_count": null,
      "outputs": []
    },
    {
      "cell_type": "markdown",
      "source": [
        "Q13: Select another web page that includes unstructured text. From looking at the public web page, what text do you want to scrape from this web page (i.e. specific sections, multiple paragraphs, etc.)?\n",
        "\n",
        "A few places to start for unstructured text:\n",
        "- [The Observer!](https://ndsmcobserver.com) (or another news publication of your choosing)\n",
        "- [WikiSource](https://en.wikisource.org/wiki/Main_Page)(a library of texts that are not covered by copyright)\n",
        "  * [U.S. Presidential State of the Union Addresses](https://en.wikisource.org/wiki/Portal:State_of_the_Union_Speeches_by_United_States_Presidents)\n",
        "  * [U.S. Presidential Inaugural Speeches](https://en.wikisource.org/wiki/Portal:Inaugural_Speeches_by_United_States_Presidents)\n",
        "- [Project Gutenberg](https://www.gutenberg.org) (a library of literary works or texts that are not covered by copyright)\n",
        "\n",
        "Q14: Take a look at the HTML for this page. What tags or other HTML components do you see around the section of the page you want to work with? For this question, we're thinking about how we will end up writing a program with `BeautifulSoup` to isolate a section of the web page.\n",
        "\n",
        "Q15: Develop an outline for a Python program that scrapes unstructured text from the web page you selected. \n",
        "\n",
        "A preliminary workflow:\n",
        "- Load URL and create BeautifulSoup object\n",
        "- Isolate section of HTML with your text (either directly or extract from list)\n",
        "- IF NEEDED: Isolate text elements (create list where each element is a section of text)\n",
        "- IF NEEDED: Extract text contents (isolate text from each section/paragraph)\n",
        "- Write text to TXT file\n",
        "\n",
        "NOTE: You do not need to have working code for all components of this program. That's where we're heading with the final project. At this point, we're focusing on the conceptual framework for the web scraping program. Start to build out code where you can, but think about the programming version of outlining a paper.\n",
        "\n",
        "Q16: What challenges or roadblocks did you face working on Q15? What parts of the program do you understand/feel ready to develop at this point? What parts of the program are less clear?"
      ],
      "metadata": {
        "id": "BadC-IZRVnKx"
      },
      "id": "BadC-IZRVnKx"
    },
    {
      "cell_type": "markdown",
      "source": [
        "# Final Project Next Steps\n",
        "\n",
        "<table>\n",
        " <tr><td>\n",
        "<img src=\"https://elearn.southampton.ac.uk/wp-content/blogs.dir/sites/64/2021/04/PanPan.png\" alt=\"Panopto logo\" width=\"50\"/></td>\n",
        "  <td><a href=\"https://notredame.hosted.panopto.com/Panopto/Pages/Viewer.aspx?id=cc961b6a-ef23-4329-a570-ade9005d8411\">Final Project Next Steps</a></td>\n",
        "  </tr>\n",
        "  </table>\n",
        "\n",
        "189. Our work in this lab is designed to lay the foundation and serve as a springboard for final project work.\n",
        "\n",
        "190. Specifically, Q4, Q10, and Q13 ask you to develop an outline for web scraping programs using `BeautifulSoup` and `pd.read_html()`.\n",
        "\n",
        "191. Those questions (and other work for this lab) are the starting place for the final project.\n",
        "\n",
        "192. The final project for this course involves a web-scraping project written in Python. Specifically, the final project allows you to select a web page (or web pages) and write a Python program (or programs) that downloads select content from that web page as a plain-text file (`CSV`, `TXT`, etc). That content could be paragraphs of text, tables of data, etc. \n",
        "\n",
        "193. Successful final projects will include two main components:\n",
        "- a well-documented, working Python program written in Jupyter Notebooks\n",
        "- a written reflection (minimum 300 words) that documents how you approached the final project/what you wanted to accomplish via the final project, resources consulted, how you handled challenges you encountered, key takeaways, etc.\n",
        "\n",
        "194. That reflection can come at the end of the Jupyter Notebook or be embedded throughout the Jupyter Notebook, if you want to approach authoring the notebook as a type of tutorial or \"report\".\n",
        "\n",
        "195. Expect to spend at least 10 hours working on the final project. That includes brainstorming, meeting with instructor/TAs, in-class work time, etc. If you’re working on a project that is not going to take that much time, think about how to add complexity or take on another smaller scale project.\n",
        "\n",
        "196. Contact the instructor with questions.\n",
        "\n",
        "197. So where to start? \n",
        "\n",
        "198. The instructor and TAs are going to move quickly on getting you feedback on this lab. \n",
        "\n",
        "199. But your work in Q4, Q10, and Q13 should be the starting place for how you think about and approach the final project.\n",
        "\n",
        "200. Specifically, think about the kinds of web content you were able to scrape for these questions and how you might further develop, refine, or expand your work.\n",
        "\n",
        "201. For example, these questions asked you to develop an outline for specific types of webscraping programs. \n",
        "\n",
        "202. One next step for the final project could be selecting 1-2 of these programs and further developing or refining the code.\n",
        "\n",
        "203. Another next step (especially if you were able to develop working programs for these questions) is to think about how you could expand or extend these workflows to multiple web pages or other web data sources.\n",
        "\n",
        "204. A third option for next steps would involve thinking expansively about how you could apply the concepts and approaches covered in this lab to a different type of data source/structure. \n",
        "\n",
        "205. So in the interim, as you're waiting for feedback on this lab, think about where you could go next with expanding and extending your work in this lab, and start to flesh out or develop some of your own ideas about where you put your time and effort as you work on the final project.\n",
        "\n",
        "206. Contact the instructor with questions."
      ],
      "metadata": {
        "id": "-qc5ut_7Voh1"
      },
      "id": "-qc5ut_7Voh1"
    }
  ],
  "metadata": {
    "kernelspec": {
      "display_name": "Python 3",
      "language": "python",
      "name": "python3"
    },
    "language_info": {
      "codemirror_mode": {
        "name": "ipython",
        "version": 3
      },
      "file_extension": ".py",
      "mimetype": "text/x-python",
      "name": "python",
      "nbconvert_exporter": "python",
      "pygments_lexer": "ipython3",
      "version": "3.8.8"
    },
    "colab": {
      "name": "python-web-scraping-procedure.ipynb",
      "provenance": [],
      "include_colab_link": true
    }
  },
  "nbformat": 4,
  "nbformat_minor": 5
}